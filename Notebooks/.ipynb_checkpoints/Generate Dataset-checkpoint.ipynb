{
 "cells": [
  {
   "cell_type": "code",
   "execution_count": 1,
   "metadata": {
    "collapsed": true
   },
   "outputs": [],
   "source": [
    "# dependencies\n",
    "import pylab\n",
    "import wave\n",
    "import openpyxl\n",
    "import yaml\n",
    "import os\n",
    "import shutil\n",
    "import _pickle as cpl # import cPickle\n",
    "import tarfile"
   ]
  },
  {
   "cell_type": "code",
   "execution_count": 2,
   "metadata": {
    "collapsed": true
   },
   "outputs": [],
   "source": [
    "def wavInfo(rec_file):\n",
    "    wav_file = wave.open(rec_file, 'r')\n",
    "    frames = wav_file.readframes(-1)\n",
    "    wave_info = pylab.fromstring(frames, 'Int16') #all .wavs in our dataset are 16bit\n",
    "    framerate = wav_file.getframerate()\n",
    "    wav_file.close()\n",
    "    return wave_info, framerate"
   ]
  },
  {
   "cell_type": "code",
   "execution_count": 3,
   "metadata": {
    "collapsed": true
   },
   "outputs": [],
   "source": [
    "def specInfo(rec_file):\n",
    "    wave_info, framerate = wavInfo(rec_file)\n",
    "    spectrum, freqs, t, _ = pylab.specgram(wave_info, NFFT=512, noverlap=256, window=pylab.window_hanning, Fs=framerate)\n",
    "    del _\n",
    "    return spectrum, freqs, t"
   ]
  },
  {
   "cell_type": "code",
   "execution_count": 4,
   "metadata": {
    "collapsed": true
   },
   "outputs": [],
   "source": [
    "# search for the index of the leftmost value in an ordered array \n",
    "# (of times or frequencies in our case) that still meet our criteria\n",
    "def leftmostBinSearch(A, lo, hi, target):\n",
    "    mid = (lo + hi) // 2\n",
    "    v1 = A[mid]\n",
    "    if (v1 >= target):\n",
    "        if (mid > 0 and A[mid - 1] > target):\n",
    "            return leftmostBinSearch(A, lo, mid-1, target)\n",
    "        else:\n",
    "            return mid\n",
    "    elif (A[mid] < target):\n",
    "        return leftmostBinSearch(A, mid+1, hi, target)\n",
    "    else:\n",
    "        return leftmostBinSearch(A, lo, mid-1, target)\n",
    "\n",
    "# search for the index of the rightmost value in an ordered array \n",
    "# (of times or frequencies in our case) that still meet our criteria\n",
    "def rightmostBinSearch(A, lo, hi, target): # something is wrong and it's giving me 1 to the right \n",
    "    mid = (lo + hi) // 2\n",
    "    v1 = A[mid]\n",
    "    if (v1 <= target):\n",
    "        if (mid < (len(A) - 1) and A[mid + 1] <= target):\n",
    "            return rightmostBinSearch(A, mid+1, hi, target)\n",
    "        else:\n",
    "            return mid\n",
    "    elif (A[mid] < target):\n",
    "        return rightmostBinSearch(A, mid+1, hi, target)\n",
    "    else:\n",
    "        return rightmostBinSearch(A, lo, mid-1, target)"
   ]
  },
  {
   "cell_type": "code",
   "execution_count": 5,
   "metadata": {
    "collapsed": true
   },
   "outputs": [],
   "source": [
    "def getBounds(A, minVal, maxVal):\n",
    "    left = leftmostBinSearch(A, 0, len(A)-1, minVal)\n",
    "    right = rightmostBinSearch(A, 0, len(A)-1, maxVal)\n",
    "    return left, right"
   ]
  },
  {
   "cell_type": "code",
   "execution_count": 6,
   "metadata": {
    "collapsed": true
   },
   "outputs": [],
   "source": [
    "def specMod(spectrum, freqs, times, f1, f2, t1, t2):\n",
    "    spectrumMod = [spectrum[f1][t1:t2]]\n",
    "    for f in range(f1+1, f2): # check when fix right limit\n",
    "            spectrumMod = spectrumMod + [spectrum[f][t1:t2]]\n",
    "    return spectrumMod"
   ]
  },
  {
   "cell_type": "code",
   "execution_count": 7,
   "metadata": {
    "collapsed": true
   },
   "outputs": [],
   "source": [
    "def plotModSpecSimple(specMod, freqs, times, file):\n",
    "    fig, ax = pylab.subplots(1)\n",
    "    pylab.pcolormesh(times, freqs, 10 * pylab.log10(specMod))\n",
    "    fig.subplots_adjust(left=0,right=1,bottom=0,top=1)\n",
    "    ax.axis('tight')\n",
    "    ax.axis('off')\n",
    "    pylab.savefig(file)\n",
    "    return fig"
   ]
  },
  {
   "cell_type": "code",
   "execution_count": 8,
   "metadata": {
    "collapsed": true
   },
   "outputs": [],
   "source": [
    "def speciesData(workbook):\n",
    "    roi_ws = openpyxl.load_workbook(workbook)['ROIs'] # should change accordingly to where and how you data is stored\n",
    "    dataset = {}\n",
    "    # needed format:\n",
    "    # species specimen per row\n",
    "    # columns: species name, start_time, end_time, min_freq, max_freq, recording name\n",
    "    # columns A to F\n",
    "    sheetMatrix = list(roi_ws.iter_rows())\n",
    "    # remove row with column names and create array of keys per species. (e.g. start_time, end_time, ...)\n",
    "    keys = sheetMatrix.pop(0) \n",
    "    for row in sheetMatrix:\n",
    "        speciesName = row[0].value\n",
    "        if (speciesName not in dataset):\n",
    "            dataset[speciesName] = {}\n",
    "        for col in range(1,len(row)):\n",
    "            cell = ''\n",
    "            # change recording extension since we are dealing with wav files\n",
    "            if (col == 5):\n",
    "                cell = row[col].value\n",
    "                cell += '.wav'\n",
    "            else:\n",
    "                cell = row[col].value\n",
    "            # if per species key is not present add the key and add the value as the first element in a list\n",
    "            if (keys[col].value not in dataset[speciesName]): \n",
    "                dataset[speciesName][keys[col].value] = [cell]\n",
    "            # append to the list of attributes \n",
    "            else:\n",
    "                dataset[speciesName][keys[col].value] = dataset[speciesName][keys[col].value] + [cell]\n",
    "    return dataset\n",
    "\n"
   ]
  },
  {
   "cell_type": "code",
   "execution_count": 9,
   "metadata": {
    "collapsed": true
   },
   "outputs": [],
   "source": [
    "def dataToYAML(data, name): # convert speciesData dictionary to yaml and save file\n",
    "    # need to check if file exists then delete it\n",
    "    path = '../dataset/' + name\n",
    "    dataset = open(path, 'w+')\n",
    "    dump = yaml.dump(data, dataset, default_flow_style=False)\n",
    "    dataset.close()"
   ]
  },
  {
   "cell_type": "code",
   "execution_count": 10,
   "metadata": {
    "collapsed": true
   },
   "outputs": [],
   "source": [
    "def findMax(L):\n",
    "    Max = float('-inf')\n",
    "    for n in L:\n",
    "        if (n > Max):\n",
    "            Max = n\n",
    "    return Max\n",
    "\n",
    "def findMin(L):\n",
    "    Min = float('inf')\n",
    "    for n in L:\n",
    "        if (n < Min):\n",
    "            Min = n\n",
    "    return Min"
   ]
  },
  {
   "cell_type": "code",
   "execution_count": 11,
   "metadata": {
    "collapsed": true
   },
   "outputs": [],
   "source": [
    "#need to decide if exceed bounds of spectrograms or restrict\n",
    "# WIP. time data is wrong. need to find average time duration\n",
    "def simplifiedSpeciesData(data): \n",
    "    simplDat = {}\n",
    "    for species in data:\n",
    "        min_freqs = data[species]['min_frequency']\n",
    "        max_freqs = data[species]['max_frequency']\n",
    "        min_times = data[species]['start_time']\n",
    "        max_times = data[species]['end_time']\n",
    "        min_f = findMin(min_freqs)\n",
    "        max_f = findMax(max_freqs)\n",
    "        start = findMin(min_times)\n",
    "        end = findMax(max_times)\n",
    "        simplDat[species] = {'min_freq':min_f, 'max_freq':max_f, 'delta_time':(end - start), 'recording name':data[species]['recording name']}\n",
    "    return simplDat"
   ]
  },
  {
   "cell_type": "code",
   "execution_count": 12,
   "metadata": {
    "collapsed": true
   },
   "outputs": [],
   "source": [
    "import pandas as pd\n",
    "df = pd.ExcelFile('../dataset/validationsAndROIs.xlsx')"
   ]
  },
  {
   "cell_type": "code",
   "execution_count": 13,
   "metadata": {
    "collapsed": true
   },
   "outputs": [],
   "source": [
    "df = df.parse('ROIs')"
   ]
  },
  {
   "cell_type": "code",
   "execution_count": 14,
   "metadata": {
    "collapsed": true
   },
   "outputs": [],
   "source": [
    "all_wav_files = []\n",
    "for file in os.listdir(\"../dataset/wav_recordings\"):\n",
    "    all_wav_files.append(file[:file.index('.')])"
   ]
  },
  {
   "cell_type": "code",
   "execution_count": 15,
   "metadata": {
    "collapsed": true
   },
   "outputs": [],
   "source": [
    "recording_name = df[\"recording name\"].tolist()"
   ]
  },
  {
   "cell_type": "code",
   "execution_count": 16,
   "metadata": {
    "collapsed": true
   },
   "outputs": [],
   "source": [
    "for i in range(len(recording_name)):\n",
    "    recording_name[i] = recording_name[i][:recording_name[i].index('.')]"
   ]
  },
  {
   "cell_type": "code",
   "execution_count": 17,
   "metadata": {
    "collapsed": true
   },
   "outputs": [],
   "source": [
    "for i in range(len(recording_name)):\n",
    "    if recording_name[i] not in all_wav_files:\n",
    "        recording_name[i] = \"delete\""
   ]
  },
  {
   "cell_type": "code",
   "execution_count": 18,
   "metadata": {
    "collapsed": true
   },
   "outputs": [],
   "source": [
    "df['recording name'] = recording_name\n",
    "df = df[df['recording name'] != 'delete']"
   ]
  },
  {
   "cell_type": "code",
   "execution_count": 19,
   "metadata": {
    "collapsed": true
   },
   "outputs": [],
   "source": [
    "writer = pd.ExcelWriter('../dataset/corrected_validationsAndROIs.xlsx')\n",
    "df.to_excel(writer, 'ROIs', index=False)\n",
    "writer.save()"
   ]
  },
  {
   "cell_type": "code",
   "execution_count": 20,
   "metadata": {
    "collapsed": true
   },
   "outputs": [],
   "source": [
    "from os import rename, listdir\n",
    "\n",
    "badprefix = \"cheese_\"\n",
    "fnames = listdir('.')\n",
    "\n",
    "for fname in fnames:\n",
    "    if fname.startswith(badprefix*2):\n",
    "        rename(fname, fname.replace(badprefix, '', 1))"
   ]
  },
  {
   "cell_type": "code",
   "execution_count": 21,
   "metadata": {},
   "outputs": [
    {
     "data": {
      "text/plain": [
       "'Mona_DSG_1014-2013-01-26_11-00'"
      ]
     },
     "execution_count": 21,
     "metadata": {},
     "output_type": "execute_result"
    }
   ],
   "source": [
    "all_wav_files[0]"
   ]
  },
  {
   "cell_type": "code",
   "execution_count": 22,
   "metadata": {
    "collapsed": true
   },
   "outputs": [],
   "source": [
    "for files in os.listdir(\"../dataset/wav_recordings\"):\n",
    "    new_name = files[:files.index('.')]\n",
    "    os.rename(\"../dataset/wav_recordings/\" + files, \"../dataset/wav_recordings/\" + new_name + '.wav')"
   ]
  },
  {
   "cell_type": "code",
   "execution_count": 23,
   "metadata": {
    "collapsed": true
   },
   "outputs": [],
   "source": [
    "# save our species data dictionary as a .yaml file for later use\n",
    "workbook = '../dataset/corrected_validationsAndROIs.xlsx'\n",
    "#data = speciesData(df)\n",
    "data = speciesData(workbook)\n",
    "dataToYAML(data, 'dataset.yaml')\n",
    "#simpleData = simplifiedSpeciesData(data)\n",
    "#dataToYAML(simpleData, 'simplifiedDataset.yaml')"
   ]
  },
  {
   "cell_type": "code",
   "execution_count": 24,
   "metadata": {},
   "outputs": [
    {
     "data": {
      "text/plain": [
       "dict_items([('Basileuterus bivittatus', {'start_time': [40.7895215572, 12.8083224967, 15.8257036283, 3.03018027142, 13.6901070321, 18.1263597598, 52.5765678172, 32.1982545694, 49.0334266425, 22.5654536473, 25.0255228059, 5.92787749053, 5.13437057991513, 15.0212164074], 'end_time': [43.1253410951, 14.6215864759, 18.0535774839, 4.97062993721, 15.4846453936, 20.4734139762, 54.7350510452, 34.1939733246, 50.9501070311, 24.3833360777, 26.9817223777, 7.78527910423, 7.29844413012729, 16.8458274399], 'min_frequency': [1805.81896552, 2318.75, 1900, 2568.75, 2250, 1687.5, 1687.5, 2296.54042243, 2521.37654771, 2810.45156591, 2356.79347826, 2633.79461034, 2585.61544064093, 2553.49599417], 'max_frequency': [5341.42241379, 5131.25, 5412.5, 4793.75, 5081.25, 5350, 5068.75, 5123.05171158, 5026.69337218, 5123.05171158, 5372.69021739, 5042.75309541, 5090.93226511289, 5058.81281865], 'recording name': ['Gb005-2014-09-29_05-10.wav', 'Gb005-2014-10-05_06-40.wav', 'Gb005-2014-10-06_05-20.wav', 'Gb005-2014-10-06_05-50.wav', 'Gb005-2014-10-06_06-20.wav', 'Gb005-2014-10-08_05-10.wav', 'Gb005-2014-10-08_05-40.wav', 'gb010-2014-10-03_05-30.wav', 'gb010-2014-10-03_05-30.wav', 'gb010-2014-10-03_05-40.wav', 'gb010-2014-10-04_05-20.wav', 'gb010-2014-10-06_05-30.wav', 'gb010-2014-10-08_05-30.wav', 'gb010-2014-10-08_05-40.wav']}), ('Basileuterus chrysogaster', {'start_time': [54.6101419086, 16.0861650485, 16.838113297, 36.949433657, 4.48462783172], 'end_time': [56.3907368832, 18.6697006472, 18.4522398673, 38.85052589, 6.97067152104], 'min_frequency': [2841.57667387, 2595.79560155, 2808.91719745, 2738.42173351, 2538.74514877], 'max_frequency': [6810.25917927, 7045.7309185, 6723.8455414, 6275.54980595, 6418.1759379], 'recording name': ['250N-2015-01-31_06-10.wav', '250N-2015-01-31_06-10.wav', 'gb009-2014-10-06_05-30.wav', 'gb009-2014-10-06_05-30.wav', 'gb009-2014-10-06_05-30.wav']}), ('Chlorothraupis carmioli', {'start_time': [39.6461579086348, 35.0514087328, 16.7524868344, 19.3500413109, 51.5505397448, 3.97188049209, 20.4109589041, 54.3099787686, 16.1610682245], 'end_time': [44.631634539213, 39.9706235813, 21.8782913985, 24.7369870559, 56.624141315, 7.54540128881, 26.3318112633, 58.0360934183, 19.9165449614], 'min_frequency': [1225, 1250, 1343.75, 1271.09078357, 1463.86570561, 1255.72881356, 1258.43672457, 1320.73991031, 1537.82188841], 'max_frequency': [3306.25, 3162.5, 3225, 3661.04590956, 3655.48179059, 3468.20338983, 3579.90074442, 3361.88340807, 3367.43562232], 'recording name': ['Gb004-2014-10-03_05-40.wav', 'gb006-2014-10-08_05-20.wav', 'gb006-2014-10-08_05-30.wav', 'gb009-2014-09-28_05-40.wav', 'gb009-2014-10-04_05-40.wav', 'gb009-2014-10-05_05-30.wav', 'gb009-2014-10-05_05-50.wav', 'gb009-2014-10-06_05-30.wav', 'gb009-2014-10-06_06-00.wav']}), ('Eleutherodactylus brittoni', {'start_time': [50.0368083921, 48.3688763488, 48.7977009413, 8.5184506127, 1.29625, 5.11749092351, 5.29081561762, 55.4533225806, 8.20951206852, 12.1320968963, 52.8066634241, 3.50370581528], 'end_time': [50.3108754177, 48.675244946, 49.1030955829, 8.78133122911, 1.51125, 5.35093968331, 5.55451924413, 55.756516129, 8.64735271217, 12.4787282362, 53.1700389105, 3.9588440707], 'min_frequency': [4627.77777778, 5175, 4868.75, 4606.83760684, 4943.75, 5087.5, 4968.77192982, 4256.25, 4498.06186374, 4428.99373532, 5100.96774194, 4400.56540342], 'max_frequency': [6512.39316239, 6112.5, 6106.25, 6449.57264957, 6425, 6337.5, 6309.8245614, 5518.75, 6095.26233359, 6121.16288175, 5995.16129032, 5889.88386308], 'recording name': ['Sabana_Seca-2015-08-05_18-50.wav', 'Sabana_Seca-2015-08-05_19-10.wav', 'Sabana_Seca-2015-08-05_21-20.wav', 'Sabana_Seca-2015-08-05_22-40.wav', 'Sabana_Seca-2015-08-06_00-00.wav', 'Sabana_Seca-2015-08-06_00-00.wav', 'Sabana_Seca-2015-08-06_00-30.wav', 'Sabana_Seca-2015-08-06_03-30.wav', 'Sabana_Seca-2015-08-06_03-50.wav', 'Sabana_Seca-2015-08-06_03-50.wav', 'Sabana_Seca-2015-08-06_04-50.wav', 'Sabana_Seca-2015-08-06_05-20.wav']}), ('Eleutherodactylus cochranae', {'start_time': [27.4626346082, 15.4160101756, 16.2664122764, 39.0789430494, 10.3561418561, 26.6140783641, 17.7484627485, 19.9368654369, 53.9140322581, 32.3950645161, 6.41487314709], 'end_time': [27.8205997029, 15.8313228295, 16.6421713442, 39.4843673067, 10.7696982697, 27.0017875018, 18.1189403689, 20.2901115401, 54.380483871, 32.8304193548, 6.64673603193], 'min_frequency': [3785.69277108, 3790.17094017, 4020.51282051, 3748.29059829, 3675, 3863.90186916, 3760.86448598, 3898.24766355, 4031.25, 4012.5, 4252.30745721], 'max_frequency': [4665.7003012, 4669.65811966, 4564.95726496, 4250.85470085, 4550.81775701, 4447.78037383, 4653.85514019, 4499.29906542, 4487.5, 4562.5, 4771.21026895], 'recording name': ['Sabana_Seca-2015-08-05_19-10.wav', 'Sabana_Seca-2015-08-05_19-30.wav', 'Sabana_Seca-2015-08-05_19-30.wav', 'Sabana_Seca-2015-08-05_19-30.wav', 'Sabana_Seca-2015-08-05_20-00.wav', 'Sabana_Seca-2015-08-05_20-00.wav', 'Sabana_Seca-2015-08-05_20-10.wav', 'Sabana_Seca-2015-08-05_20-10.wav', 'Sabana_Seca-2015-08-06_03-30.wav', 'Sabana_Seca-2015-08-06_03-30.wav', 'Sabana_Seca-2015-08-06_05-20.wav']}), ('Eleutherodactylus cooki', {'start_time': [1.42269059773, 1.95619957188, 33.571546188, 37.0611256057, 2.58717736144128, 13.5631755498, 58.16623183, 3.67312709653, 2.04621692136, 12.0368989937, 38.0618710399, 21.7651901861, 2.80056577086, 9.63224893918, 50.8345120226], 'end_time': [2.49958834184, 3.07261649926, 34.5298863823, 38.1401416325, 3.44549911265741, 14.6310100634, 59.1278419679, 4.56205739843, 3.04137159896, 13.020872158, 39.2135669027, 22.7926889511, 4.41301272984, 10.9052333805, 52.2347949081], 'min_frequency': [1330.35943517, 1359.81973435, 1506.26185958, 1394.79069767, 1488.03680981595, 1239.65311005, 1345.15550239, 1292.40430622, 1397.90669856, 1397.90669856, 1345.15550239, 1359.81973435, 1386.97047497, 1401.66034156, 1380.74003795], 'max_frequency': [2122.9139923, 2071.11005693, 2008.34914611, 1989.62790698, 1893.86503067484, 2030.92105263, 2004.54545455, 1925.41866029, 1978.16985646, 2030.92105263, 2004.54545455, 1924.66793169, 1981.38639281, 1861.90702087, 1945.58823529], 'recording name': ['lascasa_2-2014-10-18_15-40.wav', 'lascasa_2-2014-10-18_16-40.wav', 'lascasa_2-2014-10-18_17-10.wav', 'lascasa_2-2014-10-18_18-10.wav', 'lascasa_2-2014-10-18_20-00.wav', 'lascasa_2-2014-10-18_20-00.wav', 'lascasa_2-2014-10-18_20-00.wav', 'lascasa_2-2014-10-18_20-20.wav', 'lascasa_2-2014-10-18_20-40.wav', 'lascasa_2-2014-10-18_20-40.wav', 'lascasa_2-2014-10-18_21-00.wav', 'lascasa_2-2014-10-18_21-20.wav', 'lascasa_2-2014-10-19_05-40.wav', 'lascasa_2-2014-10-19_05-40.wav', 'lascasa_2-2014-10-19_05-40.wav']}), ('Eleutherodactylus coqui', {'start_time': [2.41626438916, 26.7127831715, 14.6900809061, 19.6738673139, 7.63545217566, 13.2495268736, 24.8069454958, 20.5046880802, 43.7276735982], 'end_time': [2.77422948385, 27.0676537217, 15.0098543689, 20.0092394822, 8.17911570082, 13.6873769871, 25.2493565481, 20.9353648348, 44.0912318975], 'min_frequency': [1633.33333333, 1738.03418803, 1717.09401709, 1779.91452991, 1538.84297521, 1545.39937353, 1528.13234143, 1332.06940874, 1785.53984576], 'max_frequency': [3643.58974359, 3706.41025641, 3811.11111111, 3643.58974359, 3320.66115702, 3513.84103367, 3513.84103367, 3656.10539846, 3996.20822622], 'recording name': ['Sabana_Seca-2015-08-05_17-30.wav', 'Sabana_Seca-2015-08-05_18-30.wav', 'Sabana_Seca-2015-08-05_18-30.wav', 'Sabana_Seca-2015-08-05_18-30.wav', 'Sabana_Seca-2015-08-06_03-40.wav', 'Sabana_Seca-2015-08-06_03-50.wav', 'Sabana_Seca-2015-08-06_03-50.wav', 'Sabana_Seca-2015-08-06_07-20.wav', 'Sabana_Seca-2015-08-06_07-20.wav']}), ('Eleutherodactylus juanariveroi', {'start_time': [3.83669784999, 59.0049653158, 1.72008824293, 10.9460160914], 'end_time': [4.43989003775, 59.6780759401, 2.48630936932, 11.884246042], 'min_frequency': [7329.05982906, 6681.25, 6690.97494127, 6673.70790916], 'max_frequency': [8732.05128205, 8500, 8581.71495693, 8469.47924824], 'recording name': ['Sabana_Seca-2015-08-05_23-20.wav', 'Sabana_Seca-2015-08-06_00-20.wav', 'Sabana_Seca-2015-08-06_03-50.wav', 'Sabana_Seca-2015-08-06_03-50.wav']}), ('Epinephelus guttatus', {'start_time': [13.2831828275, 16.7628497409, 7.88931162102, 1.41046632124, 7.1685788305, 5.88985936343, 6.40909696521, 7.14532938564, 5.23112509252, 4.93663212435, 2.8829311621, 16.2281125093, 7.61806809771], 'end_time': [14.1279126573, 17.5688304959, 8.81928941525, 2.22419689119, 8.14505551443, 7.02908216136, 7.34682457439, 8.04430792006, 6.28509992598, 5.79686158401, 3.75091043671, 17.227838638, 8.53254626203], 'min_frequency': [50.6512301013, 43.4153400868, 43.4153400868, 43.4153400868, 50.6512301013, 50.6512301013, 43.4153400868, 57.8871201158, 36.1794500724, 50.6512301013, 50.6512301013, 43.4153400868, 50.6512301013], 'max_frequency': [260.492040521, 267.727930535, 267.727930535, 238.784370478, 253.256150507, 253.256150507, 260.492040521, 231.548480463, 231.548480463, 253.256150507, 260.492040521, 217.076700434, 231.548480463], 'recording name': ['Mona_DSG_1014-2012-12-31_22-10.wav', 'Mona_DSG_1014-2013-01-18_18-10.wav', 'Mona_DSG_1014-2013-01-25_22-20.wav', 'Mona_DSG_1014-2013-01-26_02-35.wav', 'Mona_DSG_1014-2013-01-26_04-40.wav', 'Mona_DSG_1014-2013-01-26_11-00.wav', 'Mona_DSG_1014-2013-01-26_19-15.wav', 'Mona_DSG_1014-2013-01-27_07-55.wav', 'Mona_DSG_1014-2013-01-29_11-20.wav', 'Mona_DSG_1014-2013-01-30_07-45.wav', 'Mona_DSG_1014-2013-01-30_18-50.wav', 'Mona_DSG_1014-2013-01-31_08-05.wav', 'Mona_DSG_1014-2013-01-31_09-35.wav']}), ('Formicarius analis', {'start_time': [54.6601692354, 42.9501420286, 22.4435049301, 12.637969714, 9.9091491038, 33.0530082756, 28.9268904926, 26.5453883937], 'end_time': [56.4991689332, 44.8755178128, 24.5572976382, 14.823144513, 11.8909789246, 35.3410870051, 31.1390021964, 28.5974167728], 'min_frequency': [1682.4168798, 1687.5, 1643.75419745, 1693.75, 1706.25, 1693.75, 1700, 1614.34108527], 'max_frequency': [2218.15856777, 2262.5, 2176.86366689, 2118.75, 2156.25, 2231.25, 2175, 2260.07751938], 'recording name': ['100B-2015-01-30_06-10.wav', '100B-2015-01-30_06-40.wav', '500B-2015-02-02_06-00.wav', '750A-2015-02-05_06-40.wav', 'default-2015-01-30_12-00.wav', 'gb002-2014-10-04_05-40.wav', 'gb002-2014-10-06_05-40.wav', 'Gb004-2014-10-06_06-00.wav']}), ('Hypocnemis subflava', {'start_time': [19.601514902, 17.3390416598, 31.6943849827, 40.8039201761, 29.4599413355, 42.2676954042, 5.62815479529, 4.87733071639, 18.6629342994, 30.2124156101, 39.0745924584, 27.6504914005, 24.4056525353, 11.1551755503, 22.3976714572, 20.2146625432, 34.7098417319, 39.5686719637], 'end_time': [22.1900214062, 19.334760415, 34.2532520995, 43.0708046304, 31.2681888767, 45.7296209326, 7.37801458216, 6.91854759568, 21.2514408036, 32.326691915, 41.7124979417, 30.6081081081, 25.9434746467, 13.6656358013, 25.6830998727, 22.5177369474, 37.0893214481, 40.9818388195], 'min_frequency': [2256.92934783, 2236.95652174, 2296.875, 2175, 2143.75, 2100.90128755, 2306.25, 2156.25, 2200.18208303, 2152.00291333, 2103.82374363, 2368.75, 2093.75, 2300.04310345, 2490.12931034, 2194.79166667, 2220.3125, 2377.42890995], 'max_frequency': [3734.91847826, 3355.43478261, 3595.10869565, 3768.75, 3618.75, 3643.45493562, 3168.75, 3243.75, 3677.67662054, 3340.42243263, 3677.67662054, 3381.25, 3150, 3326.50862069, 3326.50862069, 3266.66666667, 3496.35416667, 3274.40758294], 'recording name': ['Gb001-2014-09-27_07-30.wav', 'Gb001-2014-10-01_06-50.wav', 'Gb001-2014-10-01_06-50.wav', 'Gb001-2014-10-02_05-50.wav', 'Gb001-2014-10-02_05-50.wav', 'Gb001-2014-10-04_05-30.wav', 'gb002-2014-10-01_06-40.wav', 'gb002-2014-10-02_05-40.wav', 'gb002-2014-10-02_05-50.wav', 'gb002-2014-10-02_05-50.wav', 'gb002-2014-10-02_05-50.wav', 'gb002-2014-10-04_05-40.wav', 'gb002-2014-10-06_05-40.wav', 'Gb005-2014-09-28_05-20.wav', 'Gb005-2014-09-28_05-20.wav', 'Gb005-2014-10-08_05-40.wav', 'Gb005-2014-10-08_05-40.wav', 'gb009-2014-10-05_05-50.wav']}), ('Unknown Insect', {'start_time': [22.2422206506, 10.3967468175, 14.9985855728, 18.8760608204, 31.3180693069, 17.6403818953, 12.0585219236, 4.98532531825, 42.654241268], 'end_time': [26.5031824611, 13.5924681754, 18.7056223479, 23.2648514851, 35.9199080622, 22.7109264498, 16.9160183876, 9.1184582744, 46.4917082477], 'min_frequency': [9551.22107969, 9551.22107969, 9466.19537275, 9324.48586118, 10061.3753213, 9607.90488432, 8814.33161954, 9976.3496144, 10576.2376238], 'max_frequency': [12187.0179949, 11903.5989717, 12243.7017995, 12498.7789203, 13235.6683805, 12413.7532134, 12527.1208226, 10713.2390746, 11732.5082508], 'recording name': ['Sabana_Seca-2015-08-05_21-40.wav', 'Sabana_Seca-2015-08-05_22-40.wav', 'Sabana_Seca-2015-08-05_22-50.wav', 'Sabana_Seca-2015-08-05_23-00.wav', 'Sabana_Seca-2015-08-06_00-30.wav', 'Sabana_Seca-2015-08-06_00-40.wav', 'Sabana_Seca-2015-08-06_04-20.wav', 'Sabana_Seca-2015-08-06_04-50.wav', 'Sabana_Seca-2015-08-06_04-50.wav']}), ('Liosceles thoracicus', {'start_time': [32.9458096223, 5.3850388601, 41.5107250107, 51.9930001883, 48.9809489896, 17.5115251157, 28.8960300067, 36.6931218224, 39.868297271872, 39.8682972719, 13.7408861469, 42.7625570776, 9.7088765851], 'end_time': [38.6497672012, 10.0871923575, 47.2617438867, 55.6014187959, 53.8189708893, 22.240333774, 33.6392447741, 42.4836722722, 46.5663217309501, 46.566321731, 18.7100392597, 47.7168949772, 14.7883550634], 'min_frequency': [1168.75, 1071.04279891, 1130.19348269, 1125, 1112.5, 1168.75, 1176.88821752, 1093.75, 1050, 1050, 1093.75, 1100, 1156.25], 'max_frequency': [1525, 1468.00271739, 1526.88391039, 1618.75, 1612.5, 1481.25, 1561.78247734, 1537.5, 1643.75, 1643.75, 1500, 1487.5, 1512.5], 'recording name': ['1000B-2015-02-09_05-50.wav', '250A-2015-01-30_06-40.wav', '250W-2015-02-09_05-50.wav', '500B-2015-02-05_06-40.wav', '500B-2015-02-05_06-50.wav', '750B-2015-02-02_06-50.wav', '750B-2015-02-06_08-50.wav', 'gb002-2014-10-08_06-20.wav', 'Gb004-2014-10-07_05-50.wav', 'Gb004-2014-10-07_05-50.wav', 'gb010-1970-01-06_05-40.wav', 'gb010-1970-01-06_05-40.wav', 'gb010-1970-01-06_05-50.wav']}), ('Megascops guatemalae', {'start_time': [29.9530754597336, 29.9530754597], 'end_time': [36.0659480025364, 36.0659480025], 'min_frequency': [666.795137859472, 666.795137859], 'max_frequency': [1072.10198636228, 1072.10198636], 'recording name': ['250W-2015-02-09_00-00.wav', '250W-2015-02-09_00-00.wav']}), ('Megascops nudipes', {'start_time': [38.092858049, 19.7343016618, 39.4240529273, 24.3195213431, 11.4333208816, 13.9974747475, 45.0626036484, 16.7017282066, 42.335577457, 34.5645184036, 12.012869313, 13.3696228416], 'end_time': [40.5386274261, 22.7456552074, 41.3133496465, 27.0958206823, 14.0890922675, 16.3591512136, 47.3879466305, 19.3445655192, 44.6689686285, 37.2494711606, 13.4216512597, 16.6002347773], 'min_frequency': [293.75, 312.5, 348.556701031, 331.25, 312.5, 323.45505618, 323.45505618, 306.25, 350, 318.75, 330.900409277, 381.25], 'max_frequency': [800, 800, 651.649484536, 612.5, 706.25, 674.438202247, 701.966292135, 637.5, 618.75, 668.75, 601.637107776, 656.25], 'recording name': ['ep200b-2015-04-16_05-40.wav', 'ep200b-2015-04-16_05-40.wav', 'toro_200a-2015-03-28_02-20.wav', 'toro_200a-2015-03-28_21-20.wav', 'toro_200a-2015-03-30_04-10.wav', 'toro_200a-2015-03-31_01-00.wav', 'toro_200a-2015-03-31_01-00.wav', 'toro_200a-2015-04-01_21-00.wav', 'toro_200a-2015-04-01_21-00.wav', 'toro_200a-2015-04-07_01-20.wav', 'toro_200a-2015-04-07_01-20.wav', 'toro_200b-2015-03-29_23-40.wav']}), ('Microcerculus marginatus', {'start_time': [28.3061897514, 30.5563099631, 12.317287903, 43.2244765108, 15.7586528497, 20.1666113783, 19.0775444265, 45.1301395699736, 12.2707763944], 'end_time': [30.3084094368, 32.6639483395, 14.4252801281, 45.3336226538, 17.4568911917, 21.8954635926, 21.0466944203, 46.6012825348925, 14.18274876], 'min_frequency': [2732.59526262, 2743.75, 2687.5, 2850, 2862.66086298, 2918.89952153, 2849.53846154, 2818.75, 2758.67272195], 'max_frequency': [3080.79299691, 3037.5, 2968.75, 3187.5, 3271.61241484, 3270.57416268, 3215.90769231, 3075, 3036.4781717], 'recording name': ['1000A-2015-02-12_15-10.wav', '500A-2015-02-12_13-20.wav', 'default-2015-01-30_06-00.wav', 'gb002-2014-10-02_05-40.wav', 'gb003-2014-10-01_17-30.wav', 'gb003-2014-10-03_07-20.wav', 'gb003-2014-10-05_06-10.wav', 'gb010-1970-01-05_07-40.wav', 'gb010-2014-10-04_06-40.wav']}), ('Myrmoborus leucophrys', {'start_time': [28.5715883197, 11.0145703611, 16.2847754655, 49.5721925134, 21.2625068219, 23.0461089088, 18.1162685895, 28.6118886876, 32.4517593644, 34.0358965915, 32.9392392557, 51.552774576, 29.945661123, 43.9255722048, 46.9306930693], 'end_time': [33.4631825471, 16.0491594022, 19.8116100767, 54.2245989305, 25.9996361652, 28.0534112247, 23.4024335286, 33.8185410835, 37.2871736663, 37.8099785938, 36.9701959493, 55.3861353532, 33.6505845546, 47.8478511444, 50.9193776521], 'min_frequency': [1948.90430972, 1881.25, 2218.75, 1456.25, 2181.25, 1887.5, 1893.75, 1639.20863309, 1933.29383886, 2425.0182083, 2232.3015295, 2216.24180626, 2360.77931537, 2376.8390386, 2296.54042243], 'max_frequency': [3487.08911614, 3237.5, 3162.5, 3543.75, 3400, 3231.25, 3143.75, 3463.48920863, 3605.33175355, 3195.88492353, 3163.76547706, 3244.06409323, 3131.64603059, 3035.28769119, 3099.52658412], 'recording name': ['1000B-2015-02-08_06-10.wav', '500B-2015-02-02_06-00.wav', 'Gb001-2014-10-01_06-20.wav', 'Gb001-2014-10-02_05-50.wav', 'gb002-2014-10-04_06-20.wav', 'gb002-2014-10-06_05-30.wav', 'gb002-2014-10-06_05-40.wav', 'gb006-2014-09-28_08-00.wav', 'gb009-2014-10-05_05-50.wav', 'gb010-2014-10-03_05-40.wav', 'gb010-2014-10-06_05-30.wav', 'gb010-2014-10-06_05-30.wav', 'gb010-2014-10-06_05-40.wav', 'gb010-2014-10-06_05-40.wav', 'gb010-2014-10-08_05-40.wav']}), ('Myrmeciza hemimelaena', {'start_time': [15.9345394737, 56.0204477472, 4.54609244004, 7.07780502759, 22.3376277905, 12.8634941545, 41.8213953488, 46.9571532317, 24.1462209781, 50.4857566277, 13.7625555739, 13.5258691486, 32.6163198504, 38.9580801944, 14.7406553598, 27.1200395192, 39.3314671497, 53.6571710851, 46.4152807509, 50.1103243866, 54.7044294418, 27.6041495142, 6.09583401943, 2.21307426313, 12.6263790548, 33.6011855755, 10.396039604, 38.4441301273, 24.434876211, 30.3744446795, 0.582907953236, 47.383500741, 43.5023465538, 18.7543325281, 9.55066399854, 22.0047298526], 'end_time': [17.4936403509, 57.5016358198, 6.18005030254, 8.71796443899, 23.6575213854, 14.3751029145, 43.4176744186, 48.4204793028, 25.6578297382, 52.0764037543, 15.3729622921, 15.0944429236, 34.2857142857, 40.5801944107, 16.2127449366, 28.6020088918, 40.8331961139, 55.1885394369, 47.9861682859, 51.4737362095, 56.2555573851, 29.2244360283, 7.78527910423, 3.64564465668, 14.0984686316, 35.0633953565, 12.0084865629, 39.8868458274, 25.8772874058, 31.7579860377, 2.14391569241, 49.0828256216, 44.8605870986, 20.1029303645, 10.9368746589, 23.3363652902], 'min_frequency': [2808.82152589, 2350.81891224, 2087.5, 2756.25, 2670.18278751, 2436.68478261, 2925, 2593.75, 2103.82374363, 2152.00291333, 2216.24180626, 2881.25, 2887.5, 2850, 2828.95683453, 2749.64028777, 2776.07913669, 2828.95683453, 2636.41304348, 2816.16847826, 2376.76630435, 2576.49456522, 2356.79347826, 3019.22796795, 2842.57101238, 2971.04879825, 2194.42446043, 2115.10791367, 2553.73599004, 2375, 2300.17985612, 2141.54676259, 2293.75, 2468.75, 2909.375, 2870.30172414], 'max_frequency': [3845.23160763, 3890.77564895, 3875, 4056.25, 3854.13175933, 3974.5923913, 4256.25, 4256.25, 4207.64748725, 4304.00582666, 4175.52804079, 4156.25, 4262.5, 4106.25, 4256.65467626, 4150.89928058, 4150.89928058, 4177.3381295, 4154.34782609, 3954.61956522, 4214.26630435, 4294.1576087, 4134.375, 4223.70721049, 4223.70721049, 4191.58776402, 3965.82733813, 3860.07194245, 4228.76712329, 3850, 4335.97122302, 4388.84892086, 4018.75, 4050, 4210.9375, 4105.86206897], 'recording name': ['1000B-2015-02-08_06-10.wav', '1000B-2015-02-09_05-50.wav', '100B-2015-02-01_05-50.wav', '500A-2015-02-12_08-30.wav', '750A-2015-02-11_07-00.wav', 'Gb001-2014-09-28_06-10.wav', 'Gb001-2014-10-01_06-00.wav', 'Gb001-2014-10-02_05-50.wav', 'Gb001-2014-10-03_06-50.wav', 'Gb001-2014-10-03_06-50.wav', 'Gb001-2014-10-03_06-50.wav', 'Gb001-2014-10-04_05-30.wav', 'Gb001-2014-10-04_06-50.wav', 'Gb001-2014-10-05_05-30.wav', 'Gb001-2014-10-06_05-30.wav', 'Gb001-2014-10-06_05-30.wav', 'Gb001-2014-10-06_05-30.wav', 'Gb001-2014-10-06_05-30.wav', 'Gb001-2014-10-06_05-50.wav', 'Gb001-2014-10-06_05-50.wav', 'Gb001-2014-10-06_05-50.wav', 'Gb001-2014-10-06_05-50.wav', 'Gb001-2014-10-06_05-50.wav', 'Gb001-2014-10-06_06-00.wav', 'Gb001-2014-10-06_06-00.wav', 'Gb001-2014-10-06_06-00.wav', 'Gb004-2014-10-03_05-50.wav', 'Gb004-2014-10-03_05-50.wav', 'Gb004-2014-10-03_05-50.wav', 'Gb004-2014-10-05_05-40.wav', 'gb007-2014-09-27_06-50.wav', 'gb007-2014-09-27_06-50.wav', 'gb007-2014-10-05_06-10.wav', 'gb007-2014-10-05_06-10.wav', 'Gb008-2014-10-02_07-50.wav', 'Gb008-2014-10-02_07-50.wav']}), ('Percnostola lophotes', {'start_time': [5.42371881322, 18.0496939143, 18.064398763, 48.3745902029, 47.2184828088, 7.48772057486, 4.23843240573, 16.4202206488, 8.69872701556], 'end_time': [8.08479433581, 20.4393230104, 20.651264326, 50.8148429705, 49.5652173913, 10.5875932327, 7.16285196773, 19.4730775564, 11.9236209335], 'min_frequency': [1252.48508946, 843.75, 1071.875, 1381.25, 1429.16666667, 1211.61004431, 1541.73343044, 1461.43481428, 1637.77173913], 'max_frequency': [2517.49502982, 2512.5, 2577.60416667, 2481.25, 2552.08333333, 2507.90251108, 2922.86962855, 3067.40713765, 2776.22282609], 'recording name': ['1000A-2015-02-01_05-50.wav', 'Gb005-2014-10-05_06-50.wav', 'Gb005-2014-10-06_05-20.wav', 'Gb005-2014-10-06_06-00.wav', 'Gb005-2014-10-08_05-40.wav', 'gb009-2014-10-05_06-30.wav', 'gb010-2014-10-04_06-50.wav', 'gb010-2014-10-04_06-50.wav', 'gb010-2014-10-04_07-10.wav']}), ('Saltator grossus', {'start_time': [23.4184313179, 17.5675701839, 19.7993927859, 54.2199327166, 2.61430876815, 10.7902924704, 4.57440060891, 14.3277723258096, 14.3277723258], 'end_time': [24.9712663695, 18.8857212004, 21.5904023926, 56.0948275862, 3.80849919311, 12.3957685128, 5.76176582519, 15.7703631010794, 15.7703631011], 'min_frequency': [1475.56818182, 1613.41463415, 1410.67913386, 1477.94594595, 1665.0383959, 1596.72413793, 1775, 1462.5, 1462.5], 'max_frequency': [2951.13636364, 2791.46341463, 2821.35826772, 2789.02702703, 2624.55204778, 2870.30172414, 2875, 2725, 2725], 'recording name': ['175B-2015-02-09_08-10.wav', 'Gb001-2014-09-29_05-40.wav', 'Gb001-2014-09-30_05-40.wav', 'Gb001-2014-09-30_05-40.wav', 'Gb005-2014-09-27_06-00.wav', 'Gb005-2014-09-27_06-50.wav', 'gb006-2014-09-27_05-50.wav', 'gb007-2014-10-03_06-50.wav', 'gb007-2014-10-03_06-50.wav']}), ('Thamnophilus schistaceus', {'start_time': [51.7517758013, 22.3300413001, 29.7625695816, 18.1766048335, 14.7054486965, 37.8974832805, 6.35921303152, 25.2574131344], 'end_time': [54.3987047096, 24.612811995, 32.2076225534, 20.3990871321, 17.1905368273, 39.9970080957, 9.20245398773, 27.931599054], 'min_frequency': [1212.5, 1322.49134948, 1314.01384083, 1062.5, 1762.5, 1474.4011976, 1393.75, 1376.53179191], 'max_frequency': [1937.5, 2000.69204152, 2009.16955017, 2325, 2293.75, 2156.58682635, 2156.25, 2090.28901734], 'recording name': ['1000A-2015-02-06_06-30.wav', '250N-2015-02-05_06-20.wav', '250N-2015-02-05_06-20.wav', 'Gb001-2014-10-07_05-30.wav', 'Gb001-2014-10-07_05-30.wav', 'Gb001-2014-10-07_05-40.wav', 'gb006-2014-10-03_06-30.wav', 'gb006-2014-10-03_06-40.wav']})])"
      ]
     },
     "execution_count": 24,
     "metadata": {},
     "output_type": "execute_result"
    }
   ],
   "source": [
    "data.items()"
   ]
  },
  {
   "cell_type": "code",
   "execution_count": 159,
   "metadata": {
    "collapsed": true
   },
   "outputs": [],
   "source": [
    "def getRawSpecDataset(dataset, path='../dataset'):\n",
    "    \n",
    "    # make directory to store our spec dataset\n",
    "    dataset_path = path + '/spectrogram_roi_dataset'\n",
    "    if not os.path.exists(dataset_path):\n",
    "        os.makedirs(dataset_path)\n",
    "    else:\n",
    "        shutil.rmtree(dataset_path)\n",
    "        os.makedirs(dataset_path)\n",
    "    species = dataset.keys()\n",
    "    \n",
    "    # image data to be pickled \n",
    "    specs = []\n",
    "    \n",
    "    for s in species:\n",
    "        s_dir = dataset_path + '/' + s\n",
    "        s_spec = []\n",
    "        os.makedirs(s_dir) # make a directory per species\n",
    "        \n",
    "        # load species ROI data\n",
    "        min_freqs = dataset[s]['min_frequency']\n",
    "        max_freqs = dataset[s]['max_frequency']\n",
    "        starts = dataset[s]['start_time']\n",
    "        ends = dataset[s]['end_time']\n",
    "        recs = dataset[s]['recording name']\n",
    "        \n",
    "        for i in range(0, len(recs)):\n",
    "            rec = '../dataset/wav_recordings/' + recs[i] # path to ith recording file where s is present\n",
    "            spectrum, freqs, times = specInfo(rec) # get entire spectrogram data from rec\n",
    "            \n",
    "            # get ROI info in rec\n",
    "            t_0 = starts[i] \n",
    "            t_n = ends[i]\n",
    "            f_0 = min_freqs[i]\n",
    "            f_n = max_freqs[i]\n",
    "            \n",
    "            # find closest times and freqs that match ROI info\n",
    "            t_start, t_end = getBounds(times, t_0, t_n)\n",
    "            f_start, f_end = getBounds(freqs, f_0, f_n)\n",
    "            \n",
    "            # get modified spectrum, freqs, and times\n",
    "            spectrumMod = specMod(spectrum, freqs, times, f_start, f_end, t_start, t_end)\n",
    "            freqMod = freqs[f_start:f_end]\n",
    "            timeMod = times[t_start:t_end]\n",
    "            filename = s_dir + '/' + s + '_spec_' + str(i+1) + '.png'\n",
    "            \n",
    "            # plot the spectrogram of ROI and save the image \n",
    "            f = plotModSpecSimple(spectrumMod, freqMod, timeMod, filename)\n",
    "            s_spec.append(f) # append image to list of ROI spectrograms per species\n",
    "            pylab.close\n",
    "        \n",
    "        # add dictionary with key <species_name> and value <list_of_spectrogram_figures>\n",
    "        specs.append({s:s_spec}) \n",
    "    \n",
    "    return specs"
   ]
  },
  {
   "cell_type": "code",
   "execution_count": 161,
   "metadata": {},
   "outputs": [
    {
     "ename": "FileNotFoundError",
     "evalue": "[Errno 2] No such file or directory: '../dataset/wav_recordings/Gb005-2014-09-29_05-10.wav'",
     "output_type": "error",
     "traceback": [
      "\u001b[0;31m---------------------------------------------------------------------------\u001b[0m",
      "\u001b[0;31mFileNotFoundError\u001b[0m                         Traceback (most recent call last)",
      "\u001b[0;32m<ipython-input-161-ebaa43064680>\u001b[0m in \u001b[0;36m<module>\u001b[0;34m()\u001b[0m\n\u001b[1;32m      2\u001b[0m \u001b[0mdataset\u001b[0m \u001b[0;34m=\u001b[0m \u001b[0myaml\u001b[0m\u001b[0;34m.\u001b[0m\u001b[0mload\u001b[0m\u001b[0;34m(\u001b[0m\u001b[0myamlData\u001b[0m\u001b[0;34m)\u001b[0m\u001b[0;34m\u001b[0m\u001b[0m\n\u001b[1;32m      3\u001b[0m \u001b[0myamlData\u001b[0m\u001b[0;34m.\u001b[0m\u001b[0mclose\u001b[0m\u001b[0;34m(\u001b[0m\u001b[0;34m)\u001b[0m\u001b[0;34m\u001b[0m\u001b[0m\n\u001b[0;32m----> 4\u001b[0;31m \u001b[0mdata\u001b[0m \u001b[0;34m=\u001b[0m \u001b[0mgetRawSpecDataset\u001b[0m\u001b[0;34m(\u001b[0m\u001b[0mdataset\u001b[0m\u001b[0;34m)\u001b[0m\u001b[0;34m\u001b[0m\u001b[0m\n\u001b[0m",
      "\u001b[0;32m<ipython-input-159-de93c394dfd3>\u001b[0m in \u001b[0;36mgetRawSpecDataset\u001b[0;34m(dataset, path)\u001b[0m\n\u001b[1;32m     27\u001b[0m         \u001b[0;32mfor\u001b[0m \u001b[0mi\u001b[0m \u001b[0;32min\u001b[0m \u001b[0mrange\u001b[0m\u001b[0;34m(\u001b[0m\u001b[0;36m0\u001b[0m\u001b[0;34m,\u001b[0m \u001b[0mlen\u001b[0m\u001b[0;34m(\u001b[0m\u001b[0mrecs\u001b[0m\u001b[0;34m)\u001b[0m\u001b[0;34m)\u001b[0m\u001b[0;34m:\u001b[0m\u001b[0;34m\u001b[0m\u001b[0m\n\u001b[1;32m     28\u001b[0m             \u001b[0mrec\u001b[0m \u001b[0;34m=\u001b[0m \u001b[0;34m'../dataset/wav_recordings/'\u001b[0m \u001b[0;34m+\u001b[0m \u001b[0mrecs\u001b[0m\u001b[0;34m[\u001b[0m\u001b[0mi\u001b[0m\u001b[0;34m]\u001b[0m \u001b[0;31m# path to ith recording file where s is present\u001b[0m\u001b[0;34m\u001b[0m\u001b[0m\n\u001b[0;32m---> 29\u001b[0;31m             \u001b[0mspectrum\u001b[0m\u001b[0;34m,\u001b[0m \u001b[0mfreqs\u001b[0m\u001b[0;34m,\u001b[0m \u001b[0mtimes\u001b[0m \u001b[0;34m=\u001b[0m \u001b[0mspecInfo\u001b[0m\u001b[0;34m(\u001b[0m\u001b[0mrec\u001b[0m\u001b[0;34m)\u001b[0m \u001b[0;31m# get entire spectrogram data from rec\u001b[0m\u001b[0;34m\u001b[0m\u001b[0m\n\u001b[0m\u001b[1;32m     30\u001b[0m \u001b[0;34m\u001b[0m\u001b[0m\n\u001b[1;32m     31\u001b[0m             \u001b[0;31m# get ROI info in rec\u001b[0m\u001b[0;34m\u001b[0m\u001b[0;34m\u001b[0m\u001b[0m\n",
      "\u001b[0;32m<ipython-input-3-ee6001152013>\u001b[0m in \u001b[0;36mspecInfo\u001b[0;34m(rec_file)\u001b[0m\n\u001b[1;32m      1\u001b[0m \u001b[0;32mdef\u001b[0m \u001b[0mspecInfo\u001b[0m\u001b[0;34m(\u001b[0m\u001b[0mrec_file\u001b[0m\u001b[0;34m)\u001b[0m\u001b[0;34m:\u001b[0m\u001b[0;34m\u001b[0m\u001b[0m\n\u001b[0;32m----> 2\u001b[0;31m     \u001b[0mwave_info\u001b[0m\u001b[0;34m,\u001b[0m \u001b[0mframerate\u001b[0m \u001b[0;34m=\u001b[0m \u001b[0mwavInfo\u001b[0m\u001b[0;34m(\u001b[0m\u001b[0mrec_file\u001b[0m\u001b[0;34m)\u001b[0m\u001b[0;34m\u001b[0m\u001b[0m\n\u001b[0m\u001b[1;32m      3\u001b[0m     \u001b[0mspectrum\u001b[0m\u001b[0;34m,\u001b[0m \u001b[0mfreqs\u001b[0m\u001b[0;34m,\u001b[0m \u001b[0mt\u001b[0m\u001b[0;34m,\u001b[0m \u001b[0m_\u001b[0m \u001b[0;34m=\u001b[0m \u001b[0mpylab\u001b[0m\u001b[0;34m.\u001b[0m\u001b[0mspecgram\u001b[0m\u001b[0;34m(\u001b[0m\u001b[0mwave_info\u001b[0m\u001b[0;34m,\u001b[0m \u001b[0mNFFT\u001b[0m\u001b[0;34m=\u001b[0m\u001b[0;36m512\u001b[0m\u001b[0;34m,\u001b[0m \u001b[0mnoverlap\u001b[0m\u001b[0;34m=\u001b[0m\u001b[0;36m256\u001b[0m\u001b[0;34m,\u001b[0m \u001b[0mwindow\u001b[0m\u001b[0;34m=\u001b[0m\u001b[0mpylab\u001b[0m\u001b[0;34m.\u001b[0m\u001b[0mwindow_hanning\u001b[0m\u001b[0;34m,\u001b[0m \u001b[0mFs\u001b[0m\u001b[0;34m=\u001b[0m\u001b[0mframerate\u001b[0m\u001b[0;34m)\u001b[0m\u001b[0;34m\u001b[0m\u001b[0m\n\u001b[1;32m      4\u001b[0m     \u001b[0;32mdel\u001b[0m \u001b[0m_\u001b[0m\u001b[0;34m\u001b[0m\u001b[0m\n\u001b[1;32m      5\u001b[0m     \u001b[0;32mreturn\u001b[0m \u001b[0mspectrum\u001b[0m\u001b[0;34m,\u001b[0m \u001b[0mfreqs\u001b[0m\u001b[0;34m,\u001b[0m \u001b[0mt\u001b[0m\u001b[0;34m\u001b[0m\u001b[0m\n",
      "\u001b[0;32m<ipython-input-2-912f794c6e16>\u001b[0m in \u001b[0;36mwavInfo\u001b[0;34m(rec_file)\u001b[0m\n\u001b[1;32m      1\u001b[0m \u001b[0;32mdef\u001b[0m \u001b[0mwavInfo\u001b[0m\u001b[0;34m(\u001b[0m\u001b[0mrec_file\u001b[0m\u001b[0;34m)\u001b[0m\u001b[0;34m:\u001b[0m\u001b[0;34m\u001b[0m\u001b[0m\n\u001b[0;32m----> 2\u001b[0;31m     \u001b[0mwav_file\u001b[0m \u001b[0;34m=\u001b[0m \u001b[0mwave\u001b[0m\u001b[0;34m.\u001b[0m\u001b[0mopen\u001b[0m\u001b[0;34m(\u001b[0m\u001b[0mrec_file\u001b[0m\u001b[0;34m,\u001b[0m \u001b[0;34m'r'\u001b[0m\u001b[0;34m)\u001b[0m\u001b[0;34m\u001b[0m\u001b[0m\n\u001b[0m\u001b[1;32m      3\u001b[0m     \u001b[0mframes\u001b[0m \u001b[0;34m=\u001b[0m \u001b[0mwav_file\u001b[0m\u001b[0;34m.\u001b[0m\u001b[0mreadframes\u001b[0m\u001b[0;34m(\u001b[0m\u001b[0;34m-\u001b[0m\u001b[0;36m1\u001b[0m\u001b[0;34m)\u001b[0m\u001b[0;34m\u001b[0m\u001b[0m\n\u001b[1;32m      4\u001b[0m     \u001b[0mwave_info\u001b[0m \u001b[0;34m=\u001b[0m \u001b[0mpylab\u001b[0m\u001b[0;34m.\u001b[0m\u001b[0mfromstring\u001b[0m\u001b[0;34m(\u001b[0m\u001b[0mframes\u001b[0m\u001b[0;34m,\u001b[0m \u001b[0;34m'Int16'\u001b[0m\u001b[0;34m)\u001b[0m \u001b[0;31m#all .wavs in our dataset are 16bit\u001b[0m\u001b[0;34m\u001b[0m\u001b[0m\n\u001b[1;32m      5\u001b[0m     \u001b[0mframerate\u001b[0m \u001b[0;34m=\u001b[0m \u001b[0mwav_file\u001b[0m\u001b[0;34m.\u001b[0m\u001b[0mgetframerate\u001b[0m\u001b[0;34m(\u001b[0m\u001b[0;34m)\u001b[0m\u001b[0;34m\u001b[0m\u001b[0m\n",
      "\u001b[0;32m~/anaconda3/lib/python3.6/wave.py\u001b[0m in \u001b[0;36mopen\u001b[0;34m(f, mode)\u001b[0m\n\u001b[1;32m    497\u001b[0m             \u001b[0mmode\u001b[0m \u001b[0;34m=\u001b[0m \u001b[0;34m'rb'\u001b[0m\u001b[0;34m\u001b[0m\u001b[0m\n\u001b[1;32m    498\u001b[0m     \u001b[0;32mif\u001b[0m \u001b[0mmode\u001b[0m \u001b[0;32min\u001b[0m \u001b[0;34m(\u001b[0m\u001b[0;34m'r'\u001b[0m\u001b[0;34m,\u001b[0m \u001b[0;34m'rb'\u001b[0m\u001b[0;34m)\u001b[0m\u001b[0;34m:\u001b[0m\u001b[0;34m\u001b[0m\u001b[0m\n\u001b[0;32m--> 499\u001b[0;31m         \u001b[0;32mreturn\u001b[0m \u001b[0mWave_read\u001b[0m\u001b[0;34m(\u001b[0m\u001b[0mf\u001b[0m\u001b[0;34m)\u001b[0m\u001b[0;34m\u001b[0m\u001b[0m\n\u001b[0m\u001b[1;32m    500\u001b[0m     \u001b[0;32melif\u001b[0m \u001b[0mmode\u001b[0m \u001b[0;32min\u001b[0m \u001b[0;34m(\u001b[0m\u001b[0;34m'w'\u001b[0m\u001b[0;34m,\u001b[0m \u001b[0;34m'wb'\u001b[0m\u001b[0;34m)\u001b[0m\u001b[0;34m:\u001b[0m\u001b[0;34m\u001b[0m\u001b[0m\n\u001b[1;32m    501\u001b[0m         \u001b[0;32mreturn\u001b[0m \u001b[0mWave_write\u001b[0m\u001b[0;34m(\u001b[0m\u001b[0mf\u001b[0m\u001b[0;34m)\u001b[0m\u001b[0;34m\u001b[0m\u001b[0m\n",
      "\u001b[0;32m~/anaconda3/lib/python3.6/wave.py\u001b[0m in \u001b[0;36m__init__\u001b[0;34m(self, f)\u001b[0m\n\u001b[1;32m    157\u001b[0m         \u001b[0mself\u001b[0m\u001b[0;34m.\u001b[0m\u001b[0m_i_opened_the_file\u001b[0m \u001b[0;34m=\u001b[0m \u001b[0;32mNone\u001b[0m\u001b[0;34m\u001b[0m\u001b[0m\n\u001b[1;32m    158\u001b[0m         \u001b[0;32mif\u001b[0m \u001b[0misinstance\u001b[0m\u001b[0;34m(\u001b[0m\u001b[0mf\u001b[0m\u001b[0;34m,\u001b[0m \u001b[0mstr\u001b[0m\u001b[0;34m)\u001b[0m\u001b[0;34m:\u001b[0m\u001b[0;34m\u001b[0m\u001b[0m\n\u001b[0;32m--> 159\u001b[0;31m             \u001b[0mf\u001b[0m \u001b[0;34m=\u001b[0m \u001b[0mbuiltins\u001b[0m\u001b[0;34m.\u001b[0m\u001b[0mopen\u001b[0m\u001b[0;34m(\u001b[0m\u001b[0mf\u001b[0m\u001b[0;34m,\u001b[0m \u001b[0;34m'rb'\u001b[0m\u001b[0;34m)\u001b[0m\u001b[0;34m\u001b[0m\u001b[0m\n\u001b[0m\u001b[1;32m    160\u001b[0m             \u001b[0mself\u001b[0m\u001b[0;34m.\u001b[0m\u001b[0m_i_opened_the_file\u001b[0m \u001b[0;34m=\u001b[0m \u001b[0mf\u001b[0m\u001b[0;34m\u001b[0m\u001b[0m\n\u001b[1;32m    161\u001b[0m         \u001b[0;31m# else, assume it is an open file object already\u001b[0m\u001b[0;34m\u001b[0m\u001b[0;34m\u001b[0m\u001b[0m\n",
      "\u001b[0;31mFileNotFoundError\u001b[0m: [Errno 2] No such file or directory: '../dataset/wav_recordings/Gb005-2014-09-29_05-10.wav'"
     ]
    }
   ],
   "source": [
    "yamlData = open('../dataset/dataset.yaml', 'r')\n",
    "dataset = yaml.load(yamlData)\n",
    "yamlData.close()\n",
    "data = getRawSpecDataset(dataset)"
   ]
  },
  {
   "cell_type": "code",
   "execution_count": null,
   "metadata": {
    "collapsed": true
   },
   "outputs": [],
   "source": []
  }
 ],
 "metadata": {
  "kernelspec": {
   "display_name": "Python 3",
   "language": "python",
   "name": "python3"
  },
  "language_info": {
   "codemirror_mode": {
    "name": "ipython",
    "version": 3
   },
   "file_extension": ".py",
   "mimetype": "text/x-python",
   "name": "python",
   "nbconvert_exporter": "python",
   "pygments_lexer": "ipython3",
   "version": "3.6.3"
  }
 },
 "nbformat": 4,
 "nbformat_minor": 2
}
