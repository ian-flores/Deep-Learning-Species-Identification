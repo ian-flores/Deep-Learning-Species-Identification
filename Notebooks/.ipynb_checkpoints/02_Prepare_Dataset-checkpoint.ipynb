{
 "cells": [
  {
   "cell_type": "markdown",
   "metadata": {},
   "source": [
    "# Prepare Dataset"
   ]
  },
  {
   "cell_type": "markdown",
   "metadata": {},
   "source": [
    "by Alejandro Vega & Ian Flores"
   ]
  },
  {
   "cell_type": "markdown",
   "metadata": {},
   "source": [
    "### Loading Dependencies"
   ]
  },
  {
   "cell_type": "code",
   "execution_count": 46,
   "metadata": {
    "collapsed": true
   },
   "outputs": [],
   "source": [
    "%matplotlib inline\n",
    "from six.moves import cPickle as pickle\n",
    "import os\n",
    "import shutil\n",
    "from PIL import Image, ImageOps\n",
    "import numpy as np\n",
    "import matplotlib.pyplot as plt\n",
    "from IPython.display import display as disp # conflicting library function names\n",
    "from IPython.display import Image as Im # conflicting library function names\n",
    "from scipy import ndimage\n",
    "import random"
   ]
  },
  {
   "cell_type": "markdown",
   "metadata": {},
   "source": [
    "### Cropping Spectrograms"
   ]
  },
  {
   "cell_type": "markdown",
   "metadata": {},
   "source": [
    "Given the architectures we are using in our models, we want all spectrograms to have the same size, because the models don't allow for dynamic size input. "
   ]
  },
  {
   "cell_type": "code",
   "execution_count": 47,
   "metadata": {
    "collapsed": true
   },
   "outputs": [],
   "source": [
    "def squareAndGrayImage(image, size, path, species, name):\n",
    "    # open our image and convert to grayscale \n",
    "    # (needed since color channels add a third dimmension)\n",
    "    im = Image.open(image).convert('L')\n",
    "    # dimmensions of square image\n",
    "    size = (size,size)\n",
    "    # resize our image and adjust if image is not square. save our image\n",
    "    squared_image = ImageOps.fit(im, size, Image.ANTIALIAS)\n",
    "    squared_image.save(path + '/' + species + '/squared_' + name)\n",
    "    #print(ndimage.imread(path + '/' + species + '/squared_' + name).shape)\n",
    "    \n",
    "def squareAndGrayProcess(size, dataset_path, new_dataset_path):\n",
    "    # if our dataset doesn't exist create it, otherwise overwrite\n",
    "    if not os.path.exists(new_dataset_path):\n",
    "        os.makedirs(new_dataset_path)\n",
    "    else:\n",
    "        shutil.rmtree(new_dataset_path)\n",
    "        os.makedirs(new_dataset_path)\n",
    "    \n",
    "    # get a list of species folders in our dataset\n",
    "    species_dataset = os.listdir(dataset_path)\n",
    "    \n",
    "    for species in species_dataset:\n",
    "        os.makedirs(new_dataset_path + '/' + species)\n",
    "        species_images = os.listdir(dataset_path + '/' + species)\n",
    "        for image in species_images:\n",
    "            image_path = dataset_path + '/' + species + '/' + image\n",
    "            squareAndGrayImage(image_path, size, new_dataset_path, species, image)\n",
    "\n",
    "size = 100\n",
    "dataset_path = '../dataset/spectrogram_roi_dataset'\n",
    "new_dataset_path = '../dataset/squared_spectrogram_roi_dataset'\n",
    "squareAndGrayProcess(size, dataset_path, new_dataset_path)"
   ]
  },
  {
   "cell_type": "code",
   "execution_count": 58,
   "metadata": {
    "collapsed": true,
    "scrolled": true
   },
   "outputs": [],
   "source": [
    "from scipy.ndimage.interpolation import shift \n",
    "## Have to find a way to create and copy the old directory #########\n",
    "\n",
    "#To shift UP up to 10 pixels\n",
    "for folder in os.listdir(new_dataset_path):\n",
    "    species_pictures = os.listdir(new_dataset_path + '/' + folder)\n",
    "    #os.makedirs('../dataset/augmented_spectrograms' + '/' + folder)\n",
    "    for image in species_pictures:\n",
    "        the_image = np.asarray(Image.open(new_dataset_path + '/' + folder + '/' + image))\n",
    "        for i in range(11):\n",
    "            pre_image = the_image.reshape((100,100))\n",
    "            shifted_image = shift(pre_image, [(i*(-1)), 0])\n",
    "            shifted_image = Image.fromarray(shifted_image)\n",
    "            shifted_image.save('../dataset/augmented_spectrograms/' + folder + '/' + 'shifted_up' + str(i) + '_' + image)"
   ]
  },
  {
   "cell_type": "code",
   "execution_count": 59,
   "metadata": {
    "collapsed": true
   },
   "outputs": [],
   "source": [
    "#To shift down up to 10 pixels\n",
    "for folder in os.listdir(new_dataset_path):\n",
    "    species_pictures = os.listdir(new_dataset_path + '/' + folder)\n",
    "    for image in species_pictures:\n",
    "        the_image = np.asarray(Image.open(new_dataset_path + '/' + folder + '/' + image))\n",
    "        for i in range(11):\n",
    "            pre_image = the_image.reshape((100,100))\n",
    "            shifted_image = shift(pre_image, [i, 0])\n",
    "            shifted_image = Image.fromarray(shifted_image)\n",
    "            shifted_image.save('../dataset/augmented_spectrograms/' + folder + '/' + 'shifted_down' + str(i) + '-' + image)"
   ]
  },
  {
   "cell_type": "code",
   "execution_count": 60,
   "metadata": {
    "collapsed": true
   },
   "outputs": [],
   "source": [
    "#To shift to the left up to 10 pixels\n",
    "for folder in os.listdir(new_dataset_path):\n",
    "    species_pictures = os.listdir(new_dataset_path + '/' + folder)\n",
    "    for image in species_pictures:\n",
    "        the_image = np.asarray(Image.open(new_dataset_path + '/' + folder + '/' + image))\n",
    "        for i in range(11):\n",
    "            pre_image = the_image.reshape((100,100))\n",
    "            shifted_image = shift(pre_image, [0, (i*(-1))])\n",
    "            shifted_image = Image.fromarray(shifted_image)\n",
    "            shifted_image.save('../dataset/augmented_spectrograms/' + folder + '/' + 'shifted_left' + str(i) + '-' + image)"
   ]
  },
  {
   "cell_type": "code",
   "execution_count": 61,
   "metadata": {
    "collapsed": true
   },
   "outputs": [],
   "source": [
    "#To shift to the right up to 10 pixels\n",
    "for folder in os.listdir(new_dataset_path):\n",
    "    species_pictures = os.listdir(new_dataset_path + '/' + folder)\n",
    "    for image in species_pictures:\n",
    "        the_image = np.asarray(Image.open(new_dataset_path + '/' + folder + '/' + image))\n",
    "        for i in range(11):\n",
    "            pre_image = the_image.reshape((100,100))\n",
    "            shifted_image = shift(pre_image, [0, i])\n",
    "            shifted_image = Image.fromarray(shifted_image)\n",
    "            shifted_image.save('../dataset/augmented_spectrograms/' + folder + '/' + 'shifted_right' + str(i) + '-' + image)"
   ]
  },
  {
   "cell_type": "code",
   "execution_count": 64,
   "metadata": {
    "collapsed": true
   },
   "outputs": [],
   "source": [
    "new_dataset_path = '../dataset/augmented_spectrograms'"
   ]
  },
  {
   "cell_type": "code",
   "execution_count": 65,
   "metadata": {
    "scrolled": false
   },
   "outputs": [
    {
     "name": "stdout",
     "output_type": "stream",
     "text": [
      "Here's a random sample from each class in the training dataset:\n",
      "Microcerculus marginatus sample :\n"
     ]
    },
    {
     "data": {
      "image/png": "[encoded data removed]",
      "text/plain": [
       "<IPython.core.display.Image object>"
      ]
     },
     "metadata": {},
     "output_type": "display_data"
    },
    {
     "name": "stdout",
     "output_type": "stream",
     "text": [
      "========================================\n",
      "Eleutherodactylus cooki sample :\n"
     ]
    },
    {
     "data": {
      "image/png": "[encoded data removed]",
      "text/plain": [
       "<IPython.core.display.Image object>"
      ]
     },
     "metadata": {},
     "output_type": "display_data"
    },
    {
     "name": "stdout",
     "output_type": "stream",
     "text": [
      "========================================\n",
      "Eleutherodactylus cochranae sample :\n"
     ]
    },
    {
     "data": {
      "image/png": "[encoded data removed]",
      "text/plain": [
       "<IPython.core.display.Image object>"
      ]
     },
     "metadata": {},
     "output_type": "display_data"
    },
    {
     "name": "stdout",
     "output_type": "stream",
     "text": [
      "========================================\n",
      "Hypocnemis subflava sample :\n"
     ]
    },
    {
     "data": {
      "image/png": "[encoded data removed]",
      "text/plain": [
       "<IPython.core.display.Image object>"
      ]
     },
     "metadata": {},
     "output_type": "display_data"
    },
    {
     "name": "stdout",
     "output_type": "stream",
     "text": [
      "========================================\n",
      "Formicarius analis sample :\n"
     ]
    },
    {
     "data": {
      "image/png": "[encoded data removed]",
      "text/plain": [
       "<IPython.core.display.Image object>"
      ]
     },
     "metadata": {},
     "output_type": "display_data"
    },
    {
     "name": "stdout",
     "output_type": "stream",
     "text": [
      "========================================\n",
      "Basileuterus bivittatus sample :\n"
     ]
    },
    {
     "data": {
      "image/png": "[encoded data removed]",
      "text/plain": [
       "<IPython.core.display.Image object>"
      ]
     },
     "metadata": {},
     "output_type": "display_data"
    },
    {
     "name": "stdout",
     "output_type": "stream",
     "text": [
      "========================================\n",
      "Megascops nudipes sample :\n"
     ]
    },
    {
     "data": {
      "image/png": "[encoded data removed]",
      "text/plain": [
       "<IPython.core.display.Image object>"
      ]
     },
     "metadata": {},
     "output_type": "display_data"
    },
    {
     "name": "stdout",
     "output_type": "stream",
     "text": [
      "========================================\n",
      "Myrmoborus leucophrys sample :\n"
     ]
    },
    {
     "data": {
      "image/png": "[encoded data removed]",
      "text/plain": [
       "<IPython.core.display.Image object>"
      ]
     },
     "metadata": {},
     "output_type": "display_data"
    },
    {
     "name": "stdout",
     "output_type": "stream",
     "text": [
      "========================================\n",
      "Thamnophilus schistaceus sample :\n"
     ]
    },
    {
     "data": {
      "image/png": "[encoded data removed]",
      "text/plain": [
       "<IPython.core.display.Image object>"
      ]
     },
     "metadata": {},
     "output_type": "display_data"
    },
    {
     "name": "stdout",
     "output_type": "stream",
     "text": [
      "========================================\n",
      "Eleutherodactylus brittoni sample :\n"
     ]
    },
    {
     "data": {
      "image/png": "[encoded data removed]",
      "text/plain": [
       "<IPython.core.display.Image object>"
      ]
     },
     "metadata": {},
     "output_type": "display_data"
    },
    {
     "name": "stdout",
     "output_type": "stream",
     "text": [
      "========================================\n",
      "Liosceles thoracicus sample :\n"
     ]
    },
    {
     "data": {
      "image/png": "[encoded data removed]",
      "text/plain": [
       "<IPython.core.display.Image object>"
      ]
     },
     "metadata": {},
     "output_type": "display_data"
    },
    {
     "name": "stdout",
     "output_type": "stream",
     "text": [
      "========================================\n",
      "Eleutherodactylus juanariveroi sample :\n"
     ]
    },
    {
     "data": {
      "image/png": "[encoded data removed]",
      "text/plain": [
       "<IPython.core.display.Image object>"
      ]
     },
     "metadata": {},
     "output_type": "display_data"
    },
    {
     "name": "stdout",
     "output_type": "stream",
     "text": [
      "========================================\n",
      "Saltator grossus sample :\n"
     ]
    },
    {
     "data": {
      "image/png": "[encoded data removed]",
      "text/plain": [
       "<IPython.core.display.Image object>"
      ]
     },
     "metadata": {},
     "output_type": "display_data"
    },
    {
     "name": "stdout",
     "output_type": "stream",
     "text": [
      "========================================\n",
      "Epinephelus guttatus sample :\n"
     ]
    },
    {
     "data": {
      "image/png": "[encoded data removed]",
      "text/plain": [
       "<IPython.core.display.Image object>"
      ]
     },
     "metadata": {},
     "output_type": "display_data"
    },
    {
     "name": "stdout",
     "output_type": "stream",
     "text": [
      "========================================\n",
      "Chlorothraupis carmioli sample :\n"
     ]
    },
    {
     "data": {
      "image/png": "[encoded data removed]",
      "text/plain": [
       "<IPython.core.display.Image object>"
      ]
     },
     "metadata": {},
     "output_type": "display_data"
    },
    {
     "name": "stdout",
     "output_type": "stream",
     "text": [
      "========================================\n",
      "Myrmeciza hemimelaena sample :\n"
     ]
    },
    {
     "data": {
      "image/png": "[encoded data removed]",
      "text/plain": [
       "<IPython.core.display.Image object>"
      ]
     },
     "metadata": {},
     "output_type": "display_data"
    },
    {
     "name": "stdout",
     "output_type": "stream",
     "text": [
      "========================================\n",
      "Unknown Insect sample :\n"
     ]
    },
    {
     "data": {
      "image/png": "[encoded data removed]",
      "text/plain": [
       "<IPython.core.display.Image object>"
      ]
     },
     "metadata": {},
     "output_type": "display_data"
    },
    {
     "name": "stdout",
     "output_type": "stream",
     "text": [
      "========================================\n",
      "Percnostola lophotes sample :\n"
     ]
    },
    {
     "data": {
      "image/png": "[encoded data removed]",
      "text/plain": [
       "<IPython.core.display.Image object>"
      ]
     },
     "metadata": {},
     "output_type": "display_data"
    },
    {
     "name": "stdout",
     "output_type": "stream",
     "text": [
      "========================================\n",
      "Basileuterus chrysogaster sample :\n"
     ]
    },
    {
     "data": {
      "image/png": "[encoded data removed]",
      "text/plain": [
       "<IPython.core.display.Image object>"
      ]
     },
     "metadata": {},
     "output_type": "display_data"
    },
    {
     "name": "stdout",
     "output_type": "stream",
     "text": [
      "========================================\n",
      "Megascops guatemalae sample :\n"
     ]
    },
    {
     "data": {
      "image/png": "[encoded data removed]",
      "text/plain": [
       "<IPython.core.display.Image object>"
      ]
     },
     "metadata": {},
     "output_type": "display_data"
    },
    {
     "name": "stdout",
     "output_type": "stream",
     "text": [
      "========================================\n",
      "Eleutherodactylus coqui sample :\n"
     ]
    },
    {
     "data": {
      "image/png": "[encoded data removed]",
      "text/plain": [
       "<IPython.core.display.Image object>"
      ]
     },
     "metadata": {},
     "output_type": "display_data"
    },
    {
     "name": "stdout",
     "output_type": "stream",
     "text": [
      "========================================\n"
     ]
    }
   ],
   "source": [
    "# Function for displaying a random photo from each class in a dataset\n",
    "def displaySamples(dataset_folders):\n",
    "    # go through each class in the dataset\n",
    "    dataset = os.listdir(dataset_folders)\n",
    "    for folder in dataset:\n",
    "        imgs_path = dataset_folders + '/' + folder\n",
    "        imgs = os.listdir(imgs_path) # list all images in a class\n",
    "        sample = dataset_folders + '/' + folder + '/' + imgs[np.random.randint(len(imgs))] # path for a random image from a dataset class\n",
    "        name = sample.split('/')[-2]\n",
    "        print(name, 'sample :')\n",
    "        disp(Im(sample)) # display our sample\n",
    "        print(\"========================================\")\n",
    "\n",
    "print(\"Here's a random sample from each class in the training dataset:\")\n",
    "displaySamples(new_dataset_path)\n",
    "\n"
   ]
  },
  {
   "cell_type": "code",
   "execution_count": 66,
   "metadata": {
    "collapsed": true
   },
   "outputs": [],
   "source": [
    "def getDatasetFolders(dataset_path):\n",
    "    folders = os.listdir(dataset_path)\n",
    "    dataset_folders = []\n",
    "    for folder in folders:\n",
    "        dataset_folders.append(dataset_path + '/' + folder)\n",
    "    return dataset_folders\n",
    "\n",
    "dataset_folders = getDatasetFolders(new_dataset_path)"
   ]
  },
  {
   "cell_type": "code",
   "execution_count": 70,
   "metadata": {
    "collapsed": true,
    "scrolled": true
   },
   "outputs": [],
   "source": [
    "image_size = 100  # Pixel width and height.\n",
    "pixel_depth = 255.0 # Number of levels per pixel.\n",
    "\n",
    "def load_image(folder, min_num_images):\n",
    "    \"\"\"Load the data for a single letter label.\"\"\"\n",
    "    image_files = os.listdir(folder)\n",
    "    dataset = np.ndarray(shape=(len(image_files), image_size, image_size), dtype=np.float32)\n",
    "    num_images = 0\n",
    "\n",
    "    for image in image_files:\n",
    "        image_file = os.path.join(folder, image)\n",
    "        try:\n",
    "            image_data = (ndimage.imread(image_file).astype(float) - pixel_depth / 2) / pixel_depth\n",
    "            #print(image_data.shape)\n",
    "            # our images are RGBA so we would expect shape MxNx4\n",
    "            # see: https://docs.scipy.org/doc/scipy-0.14.0/reference/generated/scipy.ndimage.imread.html\n",
    "            if (image_data.shape != (image_size, image_size)):\n",
    "                raise Exception('Unexpected image shape: %s' % str(image_data.shape))\n",
    "            dataset[num_images, :, :] = image_data\n",
    "            num_images = num_images + 1\n",
    "        except IOError as e:\n",
    "            print('Could not read:', image_file, ':', e, '- it\\'s ok, skipping.')\n",
    "\n",
    "    dataset = dataset[0:num_images, :, :]\n",
    "    #if num_images < min_num_images:\n",
    "     #   raise Exception('Many fewer images than expected: %d < %d' % (num_images, min_num_images))\n",
    "\n",
    "    print('Full dataset tensor:', dataset.shape)\n",
    "    print('Mean:', np.mean(dataset))\n",
    "    print('Standard deviation:', np.std(dataset))\n",
    "    return dataset"
   ]
  },
  {
   "cell_type": "markdown",
   "metadata": {},
   "source": [
    "### Pickling Data"
   ]
  },
  {
   "cell_type": "markdown",
   "metadata": {},
   "source": [
    "We want to pickle the data by species, allowing for control of the minimum images per class. Beware that this will drastically influence the performance of your model."
   ]
  },
  {
   "cell_type": "code",
   "execution_count": 71,
   "metadata": {
    "scrolled": true
   },
   "outputs": [
    {
     "name": "stdout",
     "output_type": "stream",
     "text": [
      "Pickling ../dataset/pickle_data/Microcerculus marginatus.pickle.\n",
      "Full dataset tensor: (405, 100, 100)\n",
      "Mean: 0.0612965\n",
      "Standard deviation: 0.169593\n",
      "Pickling ../dataset/pickle_data/Eleutherodactylus cooki.pickle.\n",
      "Full dataset tensor: (675, 100, 100)\n",
      "Mean: -0.00663251\n",
      "Standard deviation: 0.1529\n",
      "Pickling ../dataset/pickle_data/Eleutherodactylus cochranae.pickle.\n",
      "Full dataset tensor: (495, 100, 100)\n",
      "Mean: 0.0140054\n",
      "Standard deviation: 0.215082\n",
      "Pickling ../dataset/pickle_data/Hypocnemis subflava.pickle.\n",
      "Full dataset tensor: (810, 100, 100)\n",
      "Mean: -0.0145705\n",
      "Standard deviation: 0.134301\n",
      "Pickling ../dataset/pickle_data/Formicarius analis.pickle.\n",
      "Full dataset tensor: (360, 100, 100)\n",
      "Mean: 0.00434672\n",
      "Standard deviation: 0.150414\n",
      "Pickling ../dataset/pickle_data/Basileuterus bivittatus.pickle.\n",
      "Full dataset tensor: (630, 100, 100)\n",
      "Mean: -0.0383087\n",
      "Standard deviation: 0.131903\n",
      "Pickling ../dataset/pickle_data/Megascops nudipes.pickle.\n",
      "Full dataset tensor: (540, 100, 100)\n",
      "Mean: 0.0448991\n",
      "Standard deviation: 0.170271\n",
      "Pickling ../dataset/pickle_data/Myrmoborus leucophrys.pickle.\n",
      "Full dataset tensor: (675, 100, 100)\n",
      "Mean: 0.00584378\n",
      "Standard deviation: 0.141924\n",
      "Pickling ../dataset/pickle_data/Thamnophilus schistaceus.pickle.\n",
      "Full dataset tensor: (360, 100, 100)\n",
      "Mean: 0.00780599\n",
      "Standard deviation: 0.152038\n",
      "Pickling ../dataset/pickle_data/Eleutherodactylus brittoni.pickle.\n",
      "Full dataset tensor: (540, 100, 100)\n",
      "Mean: -0.108292\n",
      "Standard deviation: 0.145973\n",
      "Pickling ../dataset/pickle_data/Liosceles thoracicus.pickle.\n",
      "Full dataset tensor: (585, 100, 100)\n",
      "Mean: 0.00145365\n",
      "Standard deviation: 0.154214\n",
      "Pickling ../dataset/pickle_data/Eleutherodactylus juanariveroi.pickle.\n",
      "Full dataset tensor: (180, 100, 100)\n",
      "Mean: -0.115712\n",
      "Standard deviation: 0.115126\n",
      "Pickling ../dataset/pickle_data/Saltator grossus.pickle.\n",
      "Full dataset tensor: (405, 100, 100)\n",
      "Mean: 0.00487498\n",
      "Standard deviation: 0.144645\n",
      "Pickling ../dataset/pickle_data/Epinephelus guttatus.pickle.\n",
      "Full dataset tensor: (585, 100, 100)\n",
      "Mean: -0.0013382\n",
      "Standard deviation: 0.164023\n",
      "Pickling ../dataset/pickle_data/Chlorothraupis carmioli.pickle.\n",
      "Full dataset tensor: (405, 100, 100)\n",
      "Mean: -0.00960755\n",
      "Standard deviation: 0.132663\n",
      "Pickling ../dataset/pickle_data/Myrmeciza hemimelaena.pickle.\n",
      "Full dataset tensor: (1620, 100, 100)\n",
      "Mean: -0.0494885\n",
      "Standard deviation: 0.136885\n",
      "Pickling ../dataset/pickle_data/Unknown Insect.pickle.\n",
      "Full dataset tensor: (225, 100, 100)\n",
      "Mean: 0.0180302\n",
      "Standard deviation: 0.131014\n",
      "Pickling ../dataset/pickle_data/Percnostola lophotes.pickle.\n",
      "Full dataset tensor: (405, 100, 100)\n",
      "Mean: -0.034006\n",
      "Standard deviation: 0.130522\n",
      "Pickling ../dataset/pickle_data/Basileuterus chrysogaster.pickle.\n",
      "Full dataset tensor: (225, 100, 100)\n",
      "Mean: 0.0106912\n",
      "Standard deviation: 0.14425\n",
      "Pickling ../dataset/pickle_data/Eleutherodactylus coqui.pickle.\n",
      "Full dataset tensor: (405, 100, 100)\n",
      "Mean: -0.0510608\n",
      "Standard deviation: 0.134544\n"
     ]
    }
   ],
   "source": [
    "def maybe_pickle(data_folders, min_num_images_per_class, pickles_path, force=False):\n",
    "    \n",
    "    if not os.path.exists(pickles_path):\n",
    "        os.makedirs(pickles_path)\n",
    "    else:\n",
    "        shutil.rmtree(pickles_path)\n",
    "        os.makedirs(pickles_path)\n",
    "  \n",
    "    dataset_names = []\n",
    "    for folder in data_folders:\n",
    "        class_name = folder.split('/')[-1] # species name\n",
    "        set_filename = pickles_path + '/' + class_name + '.pickle'\n",
    "        dataset_names.append(set_filename)\n",
    "        if os.path.exists(set_filename) and not force:\n",
    "            # You may override by setting force=True.\n",
    "            print('%s already present - Skipping pickling.' % set_filename)\n",
    "        else:\n",
    "            image_files = os.listdir(folder)\n",
    "            count = 0\n",
    "            for image in image_files:\n",
    "                count +=1\n",
    "            if count >= min_num_images_per_class:\n",
    "                print('Pickling %s.' % set_filename)\n",
    "                dataset = load_image(folder, min_num_images_per_class)\n",
    "                try:\n",
    "                    with open(set_filename, 'wb') as f:\n",
    "                        pickle.dump(dataset, f, pickle.HIGHEST_PROTOCOL)\n",
    "                except Exception as e:\n",
    "                    print('Unable to save data to', set_filename, ':', e)\n",
    "\n",
    "    return dataset_names\n",
    "\n",
    "min_imgs_per_class = 100\n",
    "pickles_path = '../dataset/pickle_data'\n",
    "datasets = maybe_pickle(dataset_folders, min_imgs_per_class, pickles_path)"
   ]
  },
  {
   "cell_type": "code",
   "execution_count": 72,
   "metadata": {},
   "outputs": [
    {
     "name": "stdout",
     "output_type": "stream",
     "text": [
      "['../dataset/pickle_data/Microcerculus marginatus.pickle', '../dataset/pickle_data/Eleutherodactylus cooki.pickle', '../dataset/pickle_data/Eleutherodactylus cochranae.pickle', '../dataset/pickle_data/Hypocnemis subflava.pickle', '../dataset/pickle_data/Formicarius analis.pickle', '../dataset/pickle_data/Basileuterus bivittatus.pickle', '../dataset/pickle_data/Megascops nudipes.pickle', '../dataset/pickle_data/Myrmoborus leucophrys.pickle', '../dataset/pickle_data/Thamnophilus schistaceus.pickle', '../dataset/pickle_data/Eleutherodactylus brittoni.pickle', '../dataset/pickle_data/Liosceles thoracicus.pickle', '../dataset/pickle_data/Eleutherodactylus juanariveroi.pickle', '../dataset/pickle_data/Saltator grossus.pickle', '../dataset/pickle_data/Epinephelus guttatus.pickle', '../dataset/pickle_data/Chlorothraupis carmioli.pickle', '../dataset/pickle_data/Myrmeciza hemimelaena.pickle', '../dataset/pickle_data/Unknown Insect.pickle', '../dataset/pickle_data/Percnostola lophotes.pickle', '../dataset/pickle_data/Basileuterus chrysogaster.pickle', '../dataset/pickle_data/Megascops guatemalae.pickle', '../dataset/pickle_data/Eleutherodactylus coqui.pickle']\n",
      "We have 20 pickles\n"
     ]
    }
   ],
   "source": [
    "pickles = getDatasetFolders('../dataset/pickle_data')\n",
    "print(datasets)\n",
    "length = len(pickles)\n",
    "print(f'We have {length} pickles')"
   ]
  },
  {
   "cell_type": "markdown",
   "metadata": {},
   "source": [
    "### Classes "
   ]
  },
  {
   "cell_type": "markdown",
   "metadata": {},
   "source": [
    "We have to evaluate the number of classes and how are they distributed. Also, observe which species has a higher frequency, etc.  "
   ]
  },
  {
   "cell_type": "code",
   "execution_count": 73,
   "metadata": {},
   "outputs": [
    {
     "name": "stdout",
     "output_type": "stream",
     "text": [
      "Let's see if the dataset is balanced:\n",
      "The total number of images in class Eleutherodactylus juanariveroi is: 180\n",
      "The total number of images in class Hypocnemis subflava is: 810\n",
      "The total number of images in class Basileuterus bivittatus is: 630\n",
      "The total number of images in class Saltator grossus is: 405\n",
      "The total number of images in class Myrmoborus leucophrys is: 675\n",
      "The total number of images in class Chlorothraupis carmioli is: 405\n",
      "The total number of images in class Eleutherodactylus cochranae is: 495\n",
      "The total number of images in class Unknown Insect is: 225\n",
      "The total number of images in class Formicarius analis is: 360\n",
      "The total number of images in class Megascops nudipes is: 540\n",
      "The total number of images in class Thamnophilus schistaceus is: 360\n",
      "The total number of images in class Liosceles thoracicus is: 585\n",
      "The total number of images in class Eleutherodactylus coqui is: 405\n",
      "The total number of images in class Epinephelus guttatus is: 585\n",
      "The total number of images in class Percnostola lophotes is: 405\n",
      "The total number of images in class Myrmeciza hemimelaena is: 1620\n",
      "The total number of images in class Eleutherodactylus brittoni is: 540\n",
      "The total number of images in class Eleutherodactylus cooki is: 675\n",
      "The total number of images in class Microcerculus marginatus is: 405\n",
      "The total number of images in class Basileuterus chrysogaster is: 225\n",
      "For the dataset to be balanced, each class should have approximately 526 images.\n",
      "\n"
     ]
    }
   ],
   "source": [
    "# Calculates the total of images per class\n",
    "def class_is_balanced(pickles):\n",
    "    total = 0\n",
    "    for pckle in pickles:\n",
    "        if (os.path.isfile(pckle)):\n",
    "            pickle_class = pickle.load(open(pckle, \"rb\"))\n",
    "        else:\n",
    "            print(\"Error reading dataset %s. Exiting.\", pickle_path)\n",
    "            return -1\n",
    "        class_name = pckle.split('/')[-1].split('.')[0]\n",
    "        print(\"The total number of images in class %s is: %d\" % (class_name, len(pickle_class)))\n",
    "        total += len(pickle_class)\n",
    "    print(\"For the dataset to be balanced, each class should have approximately %d images.\\n\" % (total / len(pickles)))\n",
    "    return (total // len(pickles))\n",
    "    \n",
    "print(\"Let's see if the dataset is balanced:\")\n",
    "balance_num = class_is_balanced(pickles)\n"
   ]
  },
  {
   "cell_type": "code",
   "execution_count": 74,
   "metadata": {},
   "outputs": [
    {
     "name": "stdout",
     "output_type": "stream",
     "text": [
      "balanced dataset is  ['../dataset/pickle_data/Hypocnemis subflava.pickle', '../dataset/pickle_data/Basileuterus bivittatus.pickle', '../dataset/pickle_data/Myrmoborus leucophrys.pickle', '../dataset/pickle_data/Megascops nudipes.pickle', '../dataset/pickle_data/Liosceles thoracicus.pickle', '../dataset/pickle_data/Epinephelus guttatus.pickle', '../dataset/pickle_data/Myrmeciza hemimelaena.pickle', '../dataset/pickle_data/Eleutherodactylus brittoni.pickle', '../dataset/pickle_data/Eleutherodactylus cooki.pickle']\n",
      "Total images are  6660\n"
     ]
    }
   ],
   "source": [
    "def getBalancedClasses(pickle_files, balanced_num):\n",
    "    pickle_paths = []\n",
    "    total = 0\n",
    "    for pckle in pickle_files:\n",
    "        if (os.path.isfile(pckle)):\n",
    "            pickle_class = pickle.load(open(pckle, \"rb\"))\n",
    "        else:\n",
    "            print(\"Error reading dataset %s. Exiting.\", pickle_path)\n",
    "            return -1\n",
    "        if (len(pickle_class) >= balance_num):\n",
    "            total += len(pickle_class)\n",
    "            pickle_paths.append(pckle)\n",
    "    return pickle_paths, total\n",
    "\n",
    "true_pickles, total_balanced = getBalancedClasses(pickles, balance_num)\n",
    "\n",
    "print(\"balanced dataset is \", true_pickles)\n",
    "print(\"Total images are \", total_balanced)"
   ]
  },
  {
   "cell_type": "code",
   "execution_count": 75,
   "metadata": {},
   "outputs": [
    {
     "name": "stdout",
     "output_type": "stream",
     "text": [
      "Largest dataset is Myrmeciza hemimelaena with 1620 images\n"
     ]
    }
   ],
   "source": [
    "def getLargestClass(pickles):\n",
    "    num_images = 0\n",
    "    class_info = []\n",
    "    for index,pckle in enumerate(pickles):\n",
    "        if (os.path.isfile(pckle)):\n",
    "            pickle_class = pickle.load(open(pckle, \"rb\"))\n",
    "        else:\n",
    "            print(\"Error reading dataset %s. Exiting.\", pickle_path)\n",
    "            return -1\n",
    "        class_name = pckle.split('/')[-1].split('.')[0]\n",
    "        if(len(pickle_class) > num_images):\n",
    "            num_images = len(pickle_class)\n",
    "            class_info = [index, class_name, num_images]\n",
    "            \n",
    "    print(\"Largest dataset is {} with {} images\".format(class_info[1], class_info[2]))\n",
    "    return class_info\n",
    "\n",
    "class_info = getLargestClass(true_pickles)"
   ]
  },
  {
   "cell_type": "markdown",
   "metadata": {},
   "source": [
    "### Training, Testing, and Validation Separation"
   ]
  },
  {
   "cell_type": "markdown",
   "metadata": {},
   "source": [
    "As with every implementation of Supervised Learning, we separate the dataset into three components. The training, the testing, and the validation dataset. "
   ]
  },
  {
   "cell_type": "code",
   "execution_count": 76,
   "metadata": {
    "collapsed": true
   },
   "outputs": [],
   "source": [
    "def make_arrays(nb_rows, img_size):\n",
    "    if nb_rows:\n",
    "        dataset = np.ndarray((nb_rows, img_size, img_size), dtype=np.float32)\n",
    "        labels = np.ndarray(nb_rows, dtype=np.int32)\n",
    "    else:\n",
    "        dataset, labels = None, None\n",
    "    return dataset, labels\n",
    "\n",
    "def merge_datasets_all(pickle_files, train_size, valid_size, test_size): # valid_size is 0 if not given as argument. \n",
    "    num_classes = len(pickle_files)\n",
    "    valid_dataset, valid_labels = make_arrays(valid_size, image_size)\n",
    "    train_dataset, train_labels = make_arrays(train_size, image_size)\n",
    "    test_dataset, test_labels = make_arrays(test_size, image_size)\n",
    "\n",
    "    vsize_per_class = valid_size // num_classes\n",
    "    tsize_per_class = train_size // num_classes\n",
    "    tesize_per_class = test_size // num_classes\n",
    "    \n",
    "    start_v, start_t, start_te = 0, 0, 0\n",
    "    end_v, end_t, end_te= vsize_per_class, tsize_per_class, tesize_per_class\n",
    "    end_l = vsize_per_class + tsize_per_class\n",
    "    end_tst = end_l + tesize_per_class\n",
    "    \n",
    "\n",
    "    for label, pickle_file in enumerate(pickle_files):\n",
    "        #print(start_v, end_v)\n",
    "        #print(start_t, end_v)\n",
    "        name = (pickle_file.split('/')[-1]).split('.')[0]\n",
    "        try:\n",
    "            with open(pickle_file, 'rb') as f:\n",
    "                species_set = pickle.load(f) # set of images from species\n",
    "                # let's shuffle the letters to have random validation and training set\n",
    "                np.random.shuffle(species_set) # shuffle the data (the \"images\") in the pickle around \n",
    "                \n",
    "\n",
    "                print(\"Valid dataset with\", name, \". Has \", len(species_set), \" images.\")\n",
    "                print(\"Needs %d images per class\" % vsize_per_class)\n",
    "                print(\"valid_species is species_set[:%d,:,:]\" % vsize_per_class)\n",
    "                valid_species = species_set[:vsize_per_class, :, :]\n",
    "                print(\"valid_dataset[%d:%d,:,:] = valid_species\" % (start_v,end_v))\n",
    "                valid_dataset[start_v:end_v, :, :] = valid_species\n",
    "                print(\"valid_labels[%d:%d] = %d\" % (start_v,end_v,label))\n",
    "                valid_labels[start_v:end_v] = label\n",
    "                start_v += vsize_per_class\n",
    "                end_v += vsize_per_class\n",
    "\n",
    "\n",
    "                print(\"Train dataset with\", name, \". Has \", len(species_set), \" images\")\n",
    "                print(\"Needs %d images per class\" % tsize_per_class)\n",
    "                print(\"train_species is species_set[%d:%d,:,:]\" % (vsize_per_class,end_l))\n",
    "                train_species = species_set[vsize_per_class:end_l, :, :]\n",
    "                print(\"train_dataset[%d:%d,:,:] = train_species\" % (start_t,end_t))\n",
    "                train_dataset[start_t:end_t, :, :] = train_species\n",
    "                print(\"train_labels[%d:%d] = %d\" % (start_t,end_t,label))\n",
    "                train_labels[start_t:end_t] = label # give label to all images in class    \n",
    "                start_t += tsize_per_class # offset start of class for next iteration \n",
    "                end_t += tsize_per_class # offset end of class for next iteration\n",
    "                \n",
    "                print(\"Test dataset with\", name, \". Has \", len(species_set), \" images\")\n",
    "                print(\"Needs %d images per class\" % tesize_per_class)\n",
    "                print(\"test_species is species_set[%d:%d,:,:]\" % (end_l, end_te))\n",
    "                test_species = species_set[end_l:end_tst, :, :]\n",
    "                print(\"test_dataset[%d:%d,:,:] = test_species\" % (start_te,end_te))\n",
    "                test_dataset[start_te:end_te, :, :] = test_species\n",
    "                print(\"test_labels[%d:%d] = %d\" % (start_te,end_te,label))\n",
    "                test_labels[start_te:end_te] = label # give label to all images in class\n",
    "                start_te += tesize_per_class # offset start of class for next iteration \n",
    "                end_te += tesize_per_class # offset end of class for next iteration\n",
    "                \n",
    "        except Exception as e:\n",
    "            print('Unable to process data from', pickle_file, ':', e)\n",
    "            pass\n",
    "    \n",
    "    return valid_dataset, valid_labels, train_dataset, train_labels, test_dataset, test_labels"
   ]
  },
  {
   "cell_type": "code",
   "execution_count": 77,
   "metadata": {},
   "outputs": [
    {
     "name": "stdout",
     "output_type": "stream",
     "text": [
      "We need: 3330.0 for training, 1998.0 for testing, and 1332.0 for validating\n"
     ]
    }
   ],
   "source": [
    "print(f\"We need: {total_balanced*0.50} for training, {total_balanced*0.30} for testing, and {total_balanced*0.20} for validating\")\n"
   ]
  },
  {
   "cell_type": "code",
   "execution_count": 78,
   "metadata": {},
   "outputs": [
    {
     "name": "stdout",
     "output_type": "stream",
     "text": [
      "Valid dataset with Hypocnemis subflava . Has  810  images.\n",
      "Needs 148 images per class\n",
      "valid_species is species_set[:148,:,:]\n",
      "valid_dataset[0:148,:,:] = valid_species\n",
      "valid_labels[0:148] = 0\n",
      "Train dataset with Hypocnemis subflava . Has  810  images\n",
      "Needs 370 images per class\n",
      "train_species is species_set[148:518,:,:]\n",
      "train_dataset[0:370,:,:] = train_species\n",
      "train_labels[0:370] = 0\n",
      "Test dataset with Hypocnemis subflava . Has  810  images\n",
      "Needs 222 images per class\n",
      "test_species is species_set[518:222,:,:]\n",
      "test_dataset[0:222,:,:] = test_species\n",
      "test_labels[0:222] = 0\n",
      "Valid dataset with Basileuterus bivittatus . Has  630  images.\n",
      "Needs 148 images per class\n",
      "valid_species is species_set[:148,:,:]\n",
      "valid_dataset[148:296,:,:] = valid_species\n",
      "valid_labels[148:296] = 1\n",
      "Train dataset with Basileuterus bivittatus . Has  630  images\n",
      "Needs 370 images per class\n",
      "train_species is species_set[148:518,:,:]\n",
      "train_dataset[370:740,:,:] = train_species\n",
      "train_labels[370:740] = 1\n",
      "Test dataset with Basileuterus bivittatus . Has  630  images\n",
      "Needs 222 images per class\n",
      "test_species is species_set[518:444,:,:]\n",
      "test_dataset[222:444,:,:] = test_species\n",
      "Unable to process data from ../dataset/pickle_data/Basileuterus bivittatus.pickle : could not broadcast input array from shape (112,100,100) into shape (222,100,100)\n",
      "Valid dataset with Myrmoborus leucophrys . Has  675  images.\n",
      "Needs 148 images per class\n",
      "valid_species is species_set[:148,:,:]\n",
      "valid_dataset[296:444,:,:] = valid_species\n",
      "valid_labels[296:444] = 2\n",
      "Train dataset with Myrmoborus leucophrys . Has  675  images\n",
      "Needs 370 images per class\n",
      "train_species is species_set[148:518,:,:]\n",
      "train_dataset[740:1110,:,:] = train_species\n",
      "train_labels[740:1110] = 2\n",
      "Test dataset with Myrmoborus leucophrys . Has  675  images\n",
      "Needs 222 images per class\n",
      "test_species is species_set[518:444,:,:]\n",
      "test_dataset[222:444,:,:] = test_species\n",
      "Unable to process data from ../dataset/pickle_data/Myrmoborus leucophrys.pickle : could not broadcast input array from shape (157,100,100) into shape (222,100,100)\n",
      "Valid dataset with Megascops nudipes . Has  540  images.\n",
      "Needs 148 images per class\n",
      "valid_species is species_set[:148,:,:]\n",
      "valid_dataset[444:592,:,:] = valid_species\n",
      "valid_labels[444:592] = 3\n",
      "Train dataset with Megascops nudipes . Has  540  images\n",
      "Needs 370 images per class\n",
      "train_species is species_set[148:518,:,:]\n",
      "train_dataset[1110:1480,:,:] = train_species\n",
      "train_labels[1110:1480] = 3\n",
      "Test dataset with Megascops nudipes . Has  540  images\n",
      "Needs 222 images per class\n",
      "test_species is species_set[518:444,:,:]\n",
      "test_dataset[222:444,:,:] = test_species\n",
      "Unable to process data from ../dataset/pickle_data/Megascops nudipes.pickle : could not broadcast input array from shape (22,100,100) into shape (222,100,100)\n",
      "Valid dataset with Liosceles thoracicus . Has  585  images.\n",
      "Needs 148 images per class\n",
      "valid_species is species_set[:148,:,:]\n",
      "valid_dataset[592:740,:,:] = valid_species\n",
      "valid_labels[592:740] = 4\n",
      "Train dataset with Liosceles thoracicus . Has  585  images\n",
      "Needs 370 images per class\n",
      "train_species is species_set[148:518,:,:]\n",
      "train_dataset[1480:1850,:,:] = train_species\n",
      "train_labels[1480:1850] = 4\n",
      "Test dataset with Liosceles thoracicus . Has  585  images\n",
      "Needs 222 images per class\n",
      "test_species is species_set[518:444,:,:]\n",
      "test_dataset[222:444,:,:] = test_species\n",
      "Unable to process data from ../dataset/pickle_data/Liosceles thoracicus.pickle : could not broadcast input array from shape (67,100,100) into shape (222,100,100)\n",
      "Valid dataset with Epinephelus guttatus . Has  585  images.\n",
      "Needs 148 images per class\n",
      "valid_species is species_set[:148,:,:]\n",
      "valid_dataset[740:888,:,:] = valid_species\n",
      "valid_labels[740:888] = 5\n",
      "Train dataset with Epinephelus guttatus . Has  585  images\n",
      "Needs 370 images per class\n",
      "train_species is species_set[148:518,:,:]\n",
      "train_dataset[1850:2220,:,:] = train_species\n",
      "train_labels[1850:2220] = 5\n",
      "Test dataset with Epinephelus guttatus . Has  585  images\n",
      "Needs 222 images per class\n",
      "test_species is species_set[518:444,:,:]\n",
      "test_dataset[222:444,:,:] = test_species\n",
      "Unable to process data from ../dataset/pickle_data/Epinephelus guttatus.pickle : could not broadcast input array from shape (67,100,100) into shape (222,100,100)\n",
      "Valid dataset with Myrmeciza hemimelaena . Has  1620  images.\n",
      "Needs 148 images per class\n",
      "valid_species is species_set[:148,:,:]\n",
      "valid_dataset[888:1036,:,:] = valid_species\n",
      "valid_labels[888:1036] = 6\n",
      "Train dataset with Myrmeciza hemimelaena . Has  1620  images\n",
      "Needs 370 images per class\n",
      "train_species is species_set[148:518,:,:]\n",
      "train_dataset[2220:2590,:,:] = train_species\n",
      "train_labels[2220:2590] = 6\n",
      "Test dataset with Myrmeciza hemimelaena . Has  1620  images\n",
      "Needs 222 images per class\n",
      "test_species is species_set[518:444,:,:]\n",
      "test_dataset[222:444,:,:] = test_species\n",
      "test_labels[222:444] = 6\n",
      "Valid dataset with Eleutherodactylus brittoni . Has  540  images.\n",
      "Needs 148 images per class\n",
      "valid_species is species_set[:148,:,:]\n",
      "valid_dataset[1036:1184,:,:] = valid_species\n",
      "valid_labels[1036:1184] = 7\n",
      "Train dataset with Eleutherodactylus brittoni . Has  540  images\n",
      "Needs 370 images per class\n",
      "train_species is species_set[148:518,:,:]\n",
      "train_dataset[2590:2960,:,:] = train_species\n",
      "train_labels[2590:2960] = 7\n",
      "Test dataset with Eleutherodactylus brittoni . Has  540  images\n",
      "Needs 222 images per class\n",
      "test_species is species_set[518:666,:,:]\n",
      "test_dataset[444:666,:,:] = test_species\n",
      "Unable to process data from ../dataset/pickle_data/Eleutherodactylus brittoni.pickle : could not broadcast input array from shape (22,100,100) into shape (222,100,100)\n",
      "Valid dataset with Eleutherodactylus cooki . Has  675  images.\n",
      "Needs 148 images per class\n",
      "valid_species is species_set[:148,:,:]\n",
      "valid_dataset[1184:1332,:,:] = valid_species\n",
      "valid_labels[1184:1332] = 8\n",
      "Train dataset with Eleutherodactylus cooki . Has  675  images\n",
      "Needs 370 images per class\n",
      "train_species is species_set[148:518,:,:]\n",
      "train_dataset[2960:3330,:,:] = train_species\n",
      "train_labels[2960:3330] = 8\n",
      "Test dataset with Eleutherodactylus cooki . Has  675  images\n",
      "Needs 222 images per class\n",
      "test_species is species_set[518:666,:,:]\n",
      "test_dataset[444:666,:,:] = test_species\n",
      "Unable to process data from ../dataset/pickle_data/Eleutherodactylus cooki.pickle : could not broadcast input array from shape (157,100,100) into shape (222,100,100)\n",
      "-------------------------------\n",
      "\n",
      "Training: (3330, 100, 100) (3330,)\n",
      "Validation: (1332, 100, 100) (1332,)\n",
      "Testing: (1998, 100, 100) (1998,)\n"
     ]
    }
   ],
   "source": [
    "train_size = 3330\n",
    "valid_size = 1332\n",
    "test_size = 1998\n",
    "valid_dataset, valid_labels, train_dataset, train_labels, test_dataset, test_labels = merge_datasets_all(true_pickles, train_size, valid_size, test_size)\n",
    "\n",
    "print('-------------------------------\\n')\n",
    "print('Training:', train_dataset.shape, train_labels.shape)\n",
    "print('Validation:', valid_dataset.shape, valid_labels.shape)\n",
    "print('Testing:', test_dataset.shape, test_labels.shape)\n"
   ]
  },
  {
   "cell_type": "code",
   "execution_count": 79,
   "metadata": {
    "collapsed": true
   },
   "outputs": [],
   "source": [
    "# create dataset when dataset is not balanced, but want to use entire dataset\n",
    "def merge_datasets_forced(pickle_files, train_size, valid_size=0): # valid_size is 0 if not given as argument. \n",
    "    num_classes = len(pickle_files)\n",
    "    valid_dataset, valid_labels = make_arrays(valid_size, image_size)\n",
    "    train_dataset, train_labels = make_arrays(train_size, image_size)\n",
    "\n",
    "    vsize_per_class = valid_size // num_classes\n",
    "    tsize_per_class = train_size // num_classes\n",
    "\n",
    "    start_v, start_t = 0, 0\n",
    "    end_v, end_t = vsize_per_class, tsize_per_class\n",
    "    end_l = vsize_per_class+tsize_per_class\n",
    "\n",
    "    for label, pickle_file in enumerate(pickle_files):\n",
    "        #print(start_v, end_v)\n",
    "        #print(start_t, end_v)\n",
    "        name = (pickle_file.split('/')[-1]).split('.')[0]\n",
    "        try:\n",
    "            with open(pickle_file, 'rb') as f:\n",
    "                species_set = pickle.load(f) # set of images from species\n",
    "                if(len(species_set) < (tsize_per_class + vsize_per_class)):\n",
    "                    # since our dataset is not balanced we need to make sure\n",
    "                    # we're not taking more images than we have or dimmensions will not match\n",
    "                    # reset our ends to previous state, calculate new images_per_class, and \n",
    "                    # calculate new ends\n",
    "                    \n",
    "                    end_v -= vsize_per_class\n",
    "                    end_t -= tsize_per_class \n",
    "                    \n",
    "                    tsize_per_class = len(species_set) // 2\n",
    "                    vsize_per_class = len(species_set) // 2\n",
    "                    \n",
    "                    end_v += vsize_per_class\n",
    "                    end_t += tsize_per_class\n",
    "                    end_l = vsize_per_class+tsize_per_class \n",
    "                    \n",
    "                    \n",
    "                    \n",
    "                    # let's shuffle the letters to have random validation and training set\n",
    "                    np.random.shuffle(species_set) # shuffle the data (the \"images\") in the pickle around \n",
    "                    if valid_dataset is not None: # if not testing dataset \n",
    "\n",
    "                        print(\"Valid dataset with\", name, \". Has \", len(species_set), \" images.\")\n",
    "                        print(\"Needs %d images per class\" % vsize_per_class)\n",
    "                        print(\"valid_species is species_set[:%d,:,:]\" % vsize_per_class)\n",
    "                        valid_species = species_set[:vsize_per_class, :, :,:]\n",
    "                        print(\"valid_dataset[%d:%d,:,:] = valid_species\" % (start_v,end_v))\n",
    "                        valid_dataset[start_v:end_v, :, :,:] = valid_species\n",
    "                        print(\"valid_labels[%d:%d] = %d\" % (start_v,end_v,label))\n",
    "                        valid_labels[start_v:end_v] = label\n",
    "                        \n",
    "                        # increment our start by how many images we used for this class\n",
    "                        start_v += vsize_per_class\n",
    "                        # assume next class will have the required images_per_class\n",
    "                        end_v += (valid_size // num_classes)\n",
    "                    \n",
    "                        # can't reset vsize_per_class here since \n",
    "                        # the training dataset needs it's current state\n",
    "                    \n",
    "                    print(\"Train dataset with\", name, \". Has \", len(species_set), \" images\")\n",
    "                    print(\"Needs %d images per class\" % tsize_per_class)\n",
    "                    print(\"train_species is species_set[%d:%d,:,:]\" % (vsize_per_class,end_l))\n",
    "                    train_species = species_set[vsize_per_class:end_l, :, :,:]\n",
    "                    print(\"train_dataset[%d:%d,:,:] = train_species\" % (start_t,end_t))\n",
    "                    train_dataset[start_t:end_t, :, :,:] = train_species\n",
    "                    print(\"train_labels[%d:%d] = %d\" % (start_t,end_t,label))\n",
    "                    train_labels[start_t:end_t] = label # give label to all images in class\n",
    "                    \n",
    "                    # increment our start by how many images we used for this class\n",
    "                    start_t += tsize_per_class \n",
    "                    # assume next round will have required images_per_class\n",
    "                    tsize_per_class = train_size // num_classes\n",
    "                    end_t += tsize_per_class # offset end of class for next iteration\n",
    "                    vsize_per_class = valid_size // num_classes\n",
    "                    end_l = vsize_per_class+tsize_per_class\n",
    "                    \n",
    "                    \n",
    "                else: # we have enough images in this class to use our desired imgs_per_class\n",
    "                    \n",
    "                    \n",
    "                    tsize_per_class = train_size // num_classes\n",
    "                    vsize_per_class = valid_size // num_classes\n",
    "                    end_l = vsize_per_class+tsize_per_class\n",
    "                    \n",
    "                \n",
    "                    # let's shuffle the letters to have random validation and training set\n",
    "                    np.random.shuffle(species_set) # shuffle the data (the \"images\") in the pickle around \n",
    "                    if valid_dataset is not None: # if not testing dataset \n",
    "\n",
    "                        print(\"Valid dataset with\", name, \". Has \", len(species_set), \" images.\")\n",
    "                        print(\"Needs %d images per class\" % vsize_per_class)\n",
    "                        print(\"valid_species is species_set[:%d,:,:]\" % vsize_per_class)\n",
    "                        valid_species = species_set[:vsize_per_class, :, :,:]\n",
    "                        print(\"valid_dataset[%d:%d,:,:] = valid_species\" % (start_v,end_v))\n",
    "                        valid_dataset[start_v:end_v, :, :,:] = valid_species\n",
    "                        print(\"valid_labels[%d:%d] = %d\" % (start_v,end_v,label))\n",
    "                        valid_labels[start_v:end_v] = label\n",
    "                        start_v += vsize_per_class\n",
    "                        end_v += vsize_per_class\n",
    "\n",
    "\n",
    "                    print(\"Train dataset with\", name, \". Has \", len(species_set), \" images\")\n",
    "                    print(\"Needs %d images per class\" % tsize_per_class)\n",
    "                    print(\"train_species is species_set[%d:%d,:,:]\" % (vsize_per_class,end_l))\n",
    "                    train_species = species_set[vsize_per_class:end_l, :, :,:]\n",
    "                    print(\"train_dataset[%d:%d,:,:] = train_species\" % (start_t,end_t))\n",
    "                    train_dataset[start_t:end_t, :, :,:] = train_species\n",
    "                    print(\"train_labels[%d:%d] = %d\" % (start_t,end_t,label))\n",
    "                    train_labels[start_t:end_t] = label # give label to all images in class\n",
    "                    \n",
    "                    \n",
    "                    \n",
    "                    start_t += tsize_per_class # offset start of class for next iteration \n",
    "                    end_t += tsize_per_class # offset end of class for next iteration\n",
    "\n",
    "        except Exception as e:\n",
    "            print('Unable to process data from', pickle_file, ':', e)\n",
    "            raise\n",
    "        print()\n",
    "    \n",
    "    return valid_dataset, valid_labels, train_dataset, train_labels"
   ]
  },
  {
   "cell_type": "code",
   "execution_count": 80,
   "metadata": {
    "collapsed": true
   },
   "outputs": [],
   "source": [
    "def genLabelMap(pickle_files):\n",
    "    label_map = {}\n",
    "    for label, pickle_file in enumerate(pickle_files):\n",
    "        name = (pickle_file.split('/')[-1]).split('.')[0]\n",
    "        label_map[label] = name\n",
    "    return label_map\n",
    "\n",
    "def sampleCheck(dataset, labels, label_map):\n",
    "    i = random.randint(1, 5)\n",
    "    for p_i, img in enumerate(random.sample(range(len(labels)), 5*i)):\n",
    "        plt.subplot(i, 5, p_i+1)\n",
    "        plt.axis('off')\n",
    "        label = labels[img]\n",
    "        species = label_map[label]\n",
    "        #print(species)\n",
    "        title =  species + ' sample:'\n",
    "        plt.title(title)\n",
    "        plt.imshow(dataset[img])\n",
    "        plt.show()"
   ]
  },
  {
   "cell_type": "code",
   "execution_count": 81,
   "metadata": {},
   "outputs": [
    {
     "data": {
      "image/png": "[encoded data removed]",
      "text/plain": [
       "<matplotlib.figure.Figure at 0x7f2961a07c88>"
      ]
     },
     "metadata": {},
     "output_type": "display_data"
    },
    {
     "data": {
      "image/png": "[encoded data removed]",
      "text/plain": [
       "<matplotlib.figure.Figure at 0x7f2961e5c0b8>"
      ]
     },
     "metadata": {},
     "output_type": "display_data"
    },
    {
     "data": {
      "image/png": "[encoded data removed]",
      "text/plain": [
       "<matplotlib.figure.Figure at 0x7f2961d97d68>"
      ]
     },
     "metadata": {},
     "output_type": "display_data"
    },
    {
     "data": {
      "image/png": "[encoded data removed]",
      "text/plain": [
       "<matplotlib.figure.Figure at 0x7f2961dc6278>"
      ]
     },
     "metadata": {},
     "output_type": "display_data"
    },
    {
     "data": {
      "image/png": "[encoded data removed]",
      "text/plain": [
       "<matplotlib.figure.Figure at 0x7f2961ccfb70>"
      ]
     },
     "metadata": {},
     "output_type": "display_data"
    },
    {
     "data": {
      "image/png": "[encoded data removed]",
      "text/plain": [
       "<matplotlib.figure.Figure at 0x7f2961a072b0>"
      ]
     },
     "metadata": {},
     "output_type": "display_data"
    },
    {
     "data": {
      "image/png": "[encoded data removed]",
      "text/plain": [
       "<matplotlib.figure.Figure at 0x7f294e880400>"
      ]
     },
     "metadata": {},
     "output_type": "display_data"
    },
    {
     "data": {
      "image/png": "[encoded data removed]",
      "text/plain": [
       "<matplotlib.figure.Figure at 0x7f294e82c320>"
      ]
     },
     "metadata": {},
     "output_type": "display_data"
    },
    {
     "data": {
      "image/png": "[encoded data removed]",
      "text/plain": [
       "<matplotlib.figure.Figure at 0x7f294e7e5588>"
      ]
     },
     "metadata": {},
     "output_type": "display_data"
    },
    {
     "data": {
      "image/png": "[encoded data removed]",
      "text/plain": [
       "<matplotlib.figure.Figure at 0x7f294e79d2b0>"
      ]
     },
     "metadata": {},
     "output_type": "display_data"
    },
    {
     "data": {
      "image/png": "[encoded data removed]",
      "text/plain": [
       "<matplotlib.figure.Figure at 0x7f294e74f1d0>"
      ]
     },
     "metadata": {},
     "output_type": "display_data"
    },
    {
     "data": {
      "image/png": "[encoded data removed]",
      "text/plain": [
       "<matplotlib.figure.Figure at 0x7f294e71f390>"
      ]
     },
     "metadata": {},
     "output_type": "display_data"
    },
    {
     "data": {
      "image/png": "[encoded data removed]",
      "text/plain": [
       "<matplotlib.figure.Figure at 0x7f294e6d94a8>"
      ]
     },
     "metadata": {},
     "output_type": "display_data"
    },
    {
     "data": {
      "image/png": "[encoded data removed]",
      "text/plain": [
       "<matplotlib.figure.Figure at 0x7f294e69d7f0>"
      ]
     },
     "metadata": {},
     "output_type": "display_data"
    },
    {
     "data": {
      "image/png": "[encoded data removed]",
      "text/plain": [
       "<matplotlib.figure.Figure at 0x7f2961d85940>"
      ]
     },
     "metadata": {},
     "output_type": "display_data"
    }
   ],
   "source": [
    "label_map = genLabelMap(true_pickles)\n",
    "sampleCheck(train_dataset, train_labels,label_map)"
   ]
  },
  {
   "cell_type": "code",
   "execution_count": 82,
   "metadata": {
    "scrolled": true
   },
   "outputs": [
    {
     "data": {
      "image/png": "[encoded data removed]",
      "text/plain": [
       "<matplotlib.figure.Figure at 0x7f294e7560f0>"
      ]
     },
     "metadata": {},
     "output_type": "display_data"
    },
    {
     "data": {
      "image/png": "[encoded data removed]",
      "text/plain": [
       "<matplotlib.figure.Figure at 0x7f2961b75908>"
      ]
     },
     "metadata": {},
     "output_type": "display_data"
    },
    {
     "data": {
      "image/png": "[encoded data removed]",
      "text/plain": [
       "<matplotlib.figure.Figure at 0x7f2961dc6be0>"
      ]
     },
     "metadata": {},
     "output_type": "display_data"
    },
    {
     "data": {
      "image/png": "[encoded data removed]",
      "text/plain": [
       "<matplotlib.figure.Figure at 0x7f2961e4d400>"
      ]
     },
     "metadata": {},
     "output_type": "display_data"
    },
    {
     "data": {
      "image/png": "[encoded data removed]",
      "text/plain": [
       "<matplotlib.figure.Figure at 0x7f2961c90dd8>"
      ]
     },
     "metadata": {},
     "output_type": "display_data"
    }
   ],
   "source": [
    "sampleCheck(valid_dataset, valid_labels, label_map)"
   ]
  },
  {
   "cell_type": "markdown",
   "metadata": {},
   "source": [
    "### Output Data"
   ]
  },
  {
   "cell_type": "markdown",
   "metadata": {},
   "source": [
    "We output the data in a pickle format, to be used next on the models. "
   ]
  },
  {
   "cell_type": "code",
   "execution_count": 83,
   "metadata": {
    "collapsed": true
   },
   "outputs": [],
   "source": [
    "pickle_file = '../dataset/arbimonTest1.pickle'\n",
    "\n",
    "try:\n",
    "  f = open(pickle_file, 'wb')\n",
    "  save = {\n",
    "    'train_dataset': train_dataset,\n",
    "    'train_labels': train_labels,\n",
    "    'valid_dataset': valid_dataset,\n",
    "    'valid_labels': valid_labels,\n",
    "    'test_dataset': test_dataset,\n",
    "    'test_labels': test_labels,\n",
    "    } \n",
    "  pickle.dump(save, f, pickle.HIGHEST_PROTOCOL) # save all out datasets in one pickle \n",
    "  f.close()\n",
    "except Exception as e:\n",
    "  print('Unable to save data to', pickle_file, ':', e)\n",
    "  raise"
   ]
  },
  {
   "cell_type": "code",
   "execution_count": null,
   "metadata": {
    "collapsed": true
   },
   "outputs": [],
   "source": []
  }
 ],
 "metadata": {
  "kernelspec": {
   "display_name": "Python 3",
   "language": "python",
   "name": "python3"
  },
  "language_info": {
   "codemirror_mode": {
    "name": "ipython",
    "version": 3
   },
   "file_extension": ".py",
   "mimetype": "text/x-python",
   "name": "python",
   "nbconvert_exporter": "python",
   "pygments_lexer": "ipython3",
   "version": "3.6.3"
  }
 },
 "nbformat": 4,
 "nbformat_minor": 2
}
