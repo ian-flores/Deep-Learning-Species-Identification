{
 "cells": [
  {
   "cell_type": "code",
   "execution_count": null,
   "metadata": {
    "collapsed": true
   },
   "outputs": [],
   "source": [
    "import tensorflow as tf\n",
    "import numpy as np\n",
    "from six.moves import cPickle as pickle\n",
    "import random\n",
    "from sklearn.utils import shuffle\n",
    "from tensorflow.contrib.layers import flatten\n",
    "import matplotlib.pyplot as plt\n",
    "%matplotlib inline\n",
    "\n"
   ]
  },
  {
   "cell_type": "code",
   "execution_count": null,
   "metadata": {
    "collapsed": true
   },
   "outputs": [],
   "source": [
    "pickle_file = '../dataset/arbimon_VGG.pickle'\n",
    "\n",
    "with open(pickle_file, 'rb') as f:\n",
    "  save = pickle.load(f)\n",
    "  train_dataset = save['train_dataset']\n",
    "  train_labels = save['train_labels']\n",
    "  valid_dataset = save['valid_dataset']\n",
    "  valid_labels = save['valid_labels']\n",
    "  test_dataset = save['test_dataset']\n",
    "  test_labels = save['test_labels']\n",
    "  del save  # hint to help gc free up memory\n",
    "  print('Training set', train_dataset.shape, train_labels.shape)\n",
    "  print('Validation set', valid_dataset.shape, valid_labels.shape)\n",
    "  print('Test set', test_dataset.shape, test_labels.shape)"
   ]
  },
  {
   "cell_type": "code",
   "execution_count": null,
   "metadata": {
    "collapsed": true
   },
   "outputs": [],
   "source": [
    "image_size = train_dataset.shape[2]\n",
    "num_channels = 1\n",
    "num_labels = 21\n",
    "\n",
    "def reformat(dataset):#, labels):\n",
    "    #dataset = np.squeeze(dataset).shape\n",
    "    dataset = dataset.reshape((-1, image_size, image_size, num_channels, )\n",
    "                           ).astype(np.float32)\n",
    "  #labels = (np.arange(num_labels) == labels[:,None]).astype(np.float32)\n",
    "    return dataset#, labels\n",
    "X_train = reformat(train_dataset)#, train_labels)\n",
    "X_validation = reformat(valid_dataset)#, valid_labels)\n",
    "X_test = reformat(test_dataset)#, test_labels)\n",
    "y_train = train_labels\n",
    "y_validation = valid_labels\n",
    "y_test = test_labels\n",
    "print('Training set', X_train.shape, y_train.shape)\n",
    "print('Validation set', X_validation.shape, y_validation.shape)\n",
    "print('Test set', X_test.shape, y_test.shape)"
   ]
  },
  {
   "cell_type": "code",
   "execution_count": null,
   "metadata": {
    "collapsed": true
   },
   "outputs": [],
   "source": [
    "index = random.randint(0, len(X_train))\n",
    "image = X_train[index].squeeze()\n",
    "\n",
    "plt.figure(figsize=(1,1))\n",
    "plt.imshow(image, cmap=\"gray\")\n",
    "print(y_train[index])"
   ]
  },
  {
   "cell_type": "code",
   "execution_count": null,
   "metadata": {
    "collapsed": true
   },
   "outputs": [],
   "source": [
    "X_train, y_train = shuffle(X_train, y_train)"
   ]
  },
  {
   "cell_type": "code",
   "execution_count": null,
   "metadata": {
    "collapsed": true
   },
   "outputs": [],
   "source": [
    "EPOCHS = 50\n",
    "BATCH_SIZE = 20"
   ]
  },
  {
   "cell_type": "code",
   "execution_count": null,
   "metadata": {
    "collapsed": true
   },
   "outputs": [],
   "source": [
    "def conv2d(x, W, b, strides, padding):\n",
    "    x = tf.nn.conv2d(x, \n",
    "                     W, \n",
    "                     strides=[1, strides, strides, 1], \n",
    "                     padding = padding)\n",
    "    x = tf.nn.bias_add(x,b)\n",
    "    return tf.nn.relu(x)\n",
    "\n",
    "def maxpool2d(x, k, padding):\n",
    "    return tf.nn.max_pool(x, \n",
    "                          ksize=[1, k, k, 1], \n",
    "                          strides = [1, strides, strides, 1], \n",
    "                          padding = padding)\n",
    "\n"
   ]
  },
  {
   "cell_type": "code",
   "execution_count": null,
   "metadata": {
    "collapsed": true
   },
   "outputs": [],
   "source": [
    "def VGGNet(x):\n",
    "    # Hyperparameters\n",
    "    mu = 0\n",
    "    sigma = 0.1\n",
    "    \n",
    "    ## Layer 1: Convolutional, Activation, Pooling\n",
    "    layer1_conv_1 = tf.layers.conv2d(inputs = x, \n",
    "                                     filters=64,\n",
    "                                     kernel_size=[3,3],\n",
    "                                     padding='same',\n",
    "                                     activation=tf.nn.relu)\n",
    "    layer1_conv_2 = tf.layers.conv2d(inputs = layer1_conv_1,\n",
    "                                    filters = 64, \n",
    "                                    kernel_size=[3,3], \n",
    "                                    padding='same', \n",
    "                                    activation=tf.nn.relu)\n",
    "    layer1 = tf.layers.max_pooling2d(inputs=layer1_conv_2, \n",
    "                                     pool_size=[2, 2], \n",
    "                                     strides=2,\n",
    "                                     padding='same')\n",
    "    \n",
    "    \n",
    "    ## Layer 2: Conv, Activation, Pooling\n",
    "    layer2_conv_1 = tf.layers.conv2d(inputs = layer1,\n",
    "                                    filters=128,\n",
    "                                    kernel_size=[3,3],\n",
    "                                    padding='same',\n",
    "                                    activation=tf.nn.relu)\n",
    "    layer2_conv_2 = tf.layers.conv2d(inputs=layer2_conv_1,\n",
    "                                    filters=128,\n",
    "                                    kernel_size=[3,3],\n",
    "                                    padding='same')\n",
    "    layer2 = tf.layers.max_pooling2d(inputs=layer2_conv_2, \n",
    "                                     pool_size=[2,2], \n",
    "                                     strides=2, \n",
    "                                     padding='same')\n",
    "    \n",
    "    ## Layer 3: Conv, Activation, Pooling\n",
    "    layer3_conv_1 = tf.layers.conv2d(inputs = layer2,\n",
    "                                    filters=256,\n",
    "                                    kernel_size=[3,3],\n",
    "                                    padding='same',\n",
    "                                    activation=tf.nn.relu)\n",
    "    layer3_conv_2 = tf.layers.conv2d(inputs = layer3_conv_1,\n",
    "                                    filters=256,\n",
    "                                    kernel_size=[3,3],\n",
    "                                    padding='same',\n",
    "                                    activation=tf.nn.relu)\n",
    "    layer3_conv_3 = tf.layers.conv2d(inputs = layer3_conv_2,\n",
    "                                    filters=256,\n",
    "                                    kernel_size=[3,3],\n",
    "                                    padding='same',\n",
    "                                    activation=tf.nn.relu)\n",
    "    layer3_conv_4 = tf.layers.conv2d(inputs = layer3_conv_3,\n",
    "                                    filters=256,\n",
    "                                    kernel_size=[3,3],\n",
    "                                    padding='same',\n",
    "                                    activation=tf.nn.relu)\n",
    "    layer3 = tf.layers.max_pooling2d(inputs=layer3_conv_4, \n",
    "                                    pool_size=[2,2], \n",
    "                                    strides=2, \n",
    "                                    padding='same')\n",
    "\n",
    "    ## Layer 4: Conv, Activation, Pooling\n",
    "    layer4_conv_1 = tf.layers.conv2d(inputs = layer3,\n",
    "                                    filters=512,\n",
    "                                    kernel_size=[3,3],\n",
    "                                    padding='same',\n",
    "                                    activation=tf.nn.relu)\n",
    "    layer4_conv_2 = tf.layers.conv2d(inputs = layer4_conv_1,\n",
    "                                    filters=512,\n",
    "                                    kernel_size=[3,3],\n",
    "                                    padding='same',\n",
    "                                    activation=tf.nn.relu)\n",
    "    layer4_conv_3 = tf.layers.conv2d(inputs = layer4_conv_2,\n",
    "                                    filters=512,\n",
    "                                    kernel_size=[3,3],\n",
    "                                    padding='same',\n",
    "                                    activation=tf.nn.relu)\n",
    "    layer4_conv_4 = tf.layers.conv2d(inputs = layer4_conv_3,\n",
    "                                    filters=512,\n",
    "                                    kernel_size=[3,3],\n",
    "                                    padding='same',\n",
    "                                    activation=tf.nn.relu)\n",
    "    layer4 = tf.layers.max_pooling2d(inputs=layer4_conv_4, \n",
    "                                    pool_size=[2,2], \n",
    "                                    strides=2, \n",
    "                                    padding='same')\n",
    "    \n",
    "    ## Layer 5: Conv, Activation, Pooling\n",
    "    layer5_conv_1 = tf.layers.conv2d(inputs = layer4,\n",
    "                                    filters=512,\n",
    "                                    kernel_size=[3,3],\n",
    "                                    padding='same',\n",
    "                                    activation=tf.nn.relu)\n",
    "    layer5_conv_2 = tf.layers.conv2d(inputs = layer5_conv_1,\n",
    "                                    filters=512,\n",
    "                                    kernel_size=[3,3],\n",
    "                                    padding='same',\n",
    "                                    activation=tf.nn.relu)\n",
    "    layer5_conv_3 = tf.layers.conv2d(inputs = layer5_conv_2,\n",
    "                                    filters=512,\n",
    "                                    kernel_size=[3,3],\n",
    "                                    padding='same',\n",
    "                                    activation=tf.nn.relu)\n",
    "    layer5_conv_4 = tf.layers.conv2d(inputs = layer5_conv_3,\n",
    "                                    filters=512,\n",
    "                                    kernel_size=[3,3],\n",
    "                                    padding='same',\n",
    "                                    activation=tf.nn.relu)\n",
    "    layer5 = tf.layers.max_pooling2d(inputs=layer5_conv_4, \n",
    "                                    pool_size=[2,2], \n",
    "                                    strides=2, \n",
    "                                    padding='same')\n",
    "    \n",
    "    ## Layer 6: MaxPooling, FC1\n",
    "    layer6 = tf.layers.max_pooling2d(inputs=layer5,\n",
    "                                    pool_size=[2,2],\n",
    "                                    strides=2,\n",
    "                                    padding='same')\n",
    "    fc = flatten(layer6)\n",
    "    \n",
    "    fc1 = tf.contrib.layers.fully_connected(inputs=fc,\n",
    "                                     num_outputs=4096)\n",
    "    \n",
    "    ## Layer 7: FC2\n",
    "    fc2 = tf.contrib.layers.fully_connected(inputs=fc1, \n",
    "                                            num_outputs=4096)\n",
    "    \n",
    "    ## Layer 8: FC3\n",
    "    logits = tf.contrib.layers.fully_connected(inputs=fc2,\n",
    "                                              num_outputs=21)    \n",
    "    return logits"
   ]
  },
  {
   "cell_type": "code",
   "execution_count": null,
   "metadata": {
    "collapsed": true
   },
   "outputs": [],
   "source": [
    "x = tf.placeholder(tf.float32, (None, 224, 224, 1))\n",
    "y = tf.placeholder(tf.int32, (None))\n",
    "one_hot_y = tf.one_hot(y, 21)"
   ]
  },
  {
   "cell_type": "code",
   "execution_count": null,
   "metadata": {
    "collapsed": true
   },
   "outputs": [],
   "source": [
    "rate = 0.05\n",
    "\n",
    "logits = VGGNet(x)\n",
    "cross_entropy = tf.nn.softmax_cross_entropy_with_logits(logits = logits, labels = one_hot_y)\n",
    "loss_operation = tf.reduce_mean(cross_entropy)\n",
    "optimizer = tf.train.GradientDescentOptimizer(learning_rate = rate)\n",
    "training_operation = optimizer.minimize(loss_operation)"
   ]
  },
  {
   "cell_type": "code",
   "execution_count": null,
   "metadata": {
    "collapsed": true
   },
   "outputs": [],
   "source": [
    "correct_prediction = tf.equal(tf.argmax(logits, 1), tf.argmax(one_hot_y, 1))\n",
    "accuracy_operation = tf.reduce_mean(tf.cast(correct_prediction, tf.float32))\n",
    "\n",
    "def evaluate(X_data, y_data):\n",
    "    num_examples = len(X_data)\n",
    "    total_accuracy = 0\n",
    "    sess = tf.get_default_session()\n",
    "    for offset in range(0, num_examples, BATCH_SIZE):\n",
    "        batch_x, batch_y = X_data[offset:offset+BATCH_SIZE], y_data[offset:offset+BATCH_SIZE]\n",
    "        accuracy = sess.run(accuracy_operation, feed_dict={x: batch_x, y: batch_y})\n",
    "        total_accuracy += (accuracy * len(batch_x))\n",
    "    return total_accuracy / num_examples"
   ]
  },
  {
   "cell_type": "code",
   "execution_count": null,
   "metadata": {
    "collapsed": true
   },
   "outputs": [],
   "source": [
    "with tf.Session() as sess:\n",
    "    sess.run(tf.global_variables_initializer())\n",
    "    num_examples = len(X_train)\n",
    "    \n",
    "    print(\"Training...\")\n",
    "    print()\n",
    "    for i in range(EPOCHS):\n",
    "        X_train, y_train = shuffle(X_train, y_train)\n",
    "        for offset in range(0, num_examples, BATCH_SIZE):\n",
    "            end = offset + BATCH_SIZE\n",
    "            batch_x, batch_y = X_train[offset:end], y_train[offset:end]\n",
    "            sess.run(training_operation, feed_dict={x: batch_x, y: batch_y})\n",
    "            \n",
    "        validation_accuracy = evaluate(X_validation, y_validation)\n",
    "        if (i%10 == 0):\n",
    "            print(\"EPOCH {} ...\".format(i+1))\n",
    "            print(\"Validation Accuracy = {:.3f}\".format(validation_accuracy))\n",
    "            print()\n",
    "        \n",
    "    import os\n",
    "    try:\n",
    "        saver\n",
    "    except NameError:\n",
    "        saver = tf.train.Saver()\n",
    "    save_path='VGGNET'\n",
    "    if not os.path.isabs(save_path):\n",
    "        save_path = os.path.abspath(os.path.join(os.getcwd(), save_path))\n",
    "    saver.save(sess, save_path)\n",
    "    print(\"Model saved\")"
   ]
  },
  {
   "cell_type": "code",
   "execution_count": null,
   "metadata": {
    "collapsed": true
   },
   "outputs": [],
   "source": [
    "with tf.Session() as sess:\n",
    "    loader = tf.train.import_meta_graph('lenet.meta')\n",
    "    loader.restore(sess, tf.train.latest_checkpoint('./'))\n",
    "\n",
    "    test_accuracy = evaluate(X_test, y_test)\n",
    "    print(\"Test Accuracy = {:.3f}\".format(test_accuracy))"
   ]
  }
 ],
 "metadata": {
  "kernelspec": {
   "display_name": "Python 3",
   "language": "python",
   "name": "python3"
  },
  "language_info": {
   "codemirror_mode": {
    "name": "ipython",
    "version": 3
   },
   "file_extension": ".py",
   "mimetype": "text/x-python",
   "name": "python",
   "nbconvert_exporter": "python",
   "pygments_lexer": "ipython3",
   "version": "3.6.3"
  }
 },
 "nbformat": 4,
 "nbformat_minor": 2
}
