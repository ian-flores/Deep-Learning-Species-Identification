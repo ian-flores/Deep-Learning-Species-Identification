{
 "cells": [
  {
   "cell_type": "markdown",
   "metadata": {},
   "source": [
    "# Prepare Dataset"
   ]
  },
  {
   "cell_type": "markdown",
   "metadata": {},
   "source": [
    "by Ian Flores & Alejandro Vega"
   ]
  },
  {
   "cell_type": "markdown",
   "metadata": {},
   "source": [
    "### Loading Dependencies"
   ]
  },
  {
   "cell_type": "code",
   "execution_count": 1,
   "metadata": {},
   "outputs": [],
   "source": [
    "%matplotlib inline\n",
    "from six.moves import cPickle as pickle\n",
    "import os\n",
    "import shutil\n",
    "from PIL import Image, ImageOps\n",
    "import numpy as np\n",
    "import matplotlib.pyplot as plt\n",
    "from IPython.display import display as disp\n",
    "from IPython.display import Image as Im \n",
    "from scipy import ndimage\n",
    "import random\n",
    "from scipy.ndimage.interpolation import shift \n",
    "from sklearn.model_selection import train_test_split"
   ]
  },
  {
   "cell_type": "code",
   "execution_count": 2,
   "metadata": {},
   "outputs": [],
   "source": [
    "## image size \n",
    "image_size, size = 28, 28\n",
    "\n",
    "## Shifts \n",
    "num_shifts = 0\n",
    "\n",
    "## Number of imgs per class\n",
    "min_imgs_per_class = 1\n",
    "\n",
    "## Number of imgs per class after augmentation\n",
    "min_augmentation = 20"
   ]
  },
  {
   "cell_type": "markdown",
   "metadata": {},
   "source": [
    "### Cropping Spectrograms"
   ]
  },
  {
   "cell_type": "markdown",
   "metadata": {},
   "source": [
    "Given the architectures we are using in our models, we want all spectrograms to have the same size, because the models don't allow for dynamic size input. "
   ]
  },
  {
   "cell_type": "code",
   "execution_count": 3,
   "metadata": {},
   "outputs": [],
   "source": [
    "def squareAndGrayImage(image, size, path, species, name):\n",
    "    # open our image and convert to grayscale \n",
    "    # (needed since color channels add a third dimmension)\n",
    "    im = Image.open(image).convert('L')\n",
    "    # dimmensions of square image\n",
    "    size = (size,size)\n",
    "    # resize our image and adjust if image is not square. save our image\n",
    "    squared_image = ImageOps.fit(im, size, Image.ANTIALIAS)\n",
    "    squared_image.save(path + '/' + species + '/squared_' + name)\n",
    "    squared_image.close()\n",
    "    #print(ndimage.imread(path + '/' + species + '/squared_' + name).shape)\n",
    "    \n",
    "def squareAndGrayProcess(size, dataset_path, new_dataset_path):\n",
    "    # if our dataset doesn't exist create it, otherwise overwrite\n",
    "    if not os.path.exists(new_dataset_path):\n",
    "        os.makedirs(new_dataset_path)\n",
    "    else:\n",
    "        shutil.rmtree(new_dataset_path)\n",
    "        os.makedirs(new_dataset_path)\n",
    "    \n",
    "    # get a list of species folders in our dataset\n",
    "    species_dataset = os.listdir(dataset_path)\n",
    "    \n",
    "    for species in species_dataset:\n",
    "        os.makedirs(new_dataset_path + '/' + species)\n",
    "        species_images = os.listdir(dataset_path + '/' + species)\n",
    "        for image in species_images:\n",
    "            image_path = dataset_path + '/' + species + '/' + image\n",
    "            squareAndGrayImage(image_path, size, new_dataset_path, species, image)\n",
    "\n",
    "dataset_path = '../dataset/spectrogram_roi_dataset'\n",
    "new_dataset_path = '../dataset/squared_spectrogram_roi_dataset'\n",
    "squareAndGrayProcess(size, dataset_path, new_dataset_path)"
   ]
  },
  {
   "cell_type": "code",
   "execution_count": 4,
   "metadata": {},
   "outputs": [],
   "source": [
    "#new_dataset_path = '../dataset/augmented_spectrograms/'\n",
    "#new_dataset_path = '../dataset/squared_spectrogram_roi_dataset/'"
   ]
  },
  {
   "cell_type": "code",
   "execution_count": 5,
   "metadata": {},
   "outputs": [],
   "source": [
    "def getDatasetFolders(dataset_path):\n",
    "    folders = os.listdir(dataset_path)\n",
    "    dataset_folders = []\n",
    "    for folder in folders:\n",
    "        dataset_folders.append(dataset_path + '/' + folder)\n",
    "    return dataset_folders\n",
    "\n",
    "dataset_folders = getDatasetFolders(new_dataset_path)"
   ]
  },
  {
   "cell_type": "code",
   "execution_count": 6,
   "metadata": {
    "scrolled": true
   },
   "outputs": [],
   "source": [
    "pixel_depth = 255.0 # Number of levels per pixel.\n",
    "\n",
    "def load_image(folder, min_num_images):\n",
    "    \"\"\"Load the data for a single letter label.\"\"\"\n",
    "    image_files = os.listdir(folder)\n",
    "    dataset = np.ndarray(shape=(len(image_files), image_size, image_size), dtype=np.float32)\n",
    "    num_images = 0\n",
    "\n",
    "    for image in image_files:\n",
    "        image_file = os.path.join(folder, image)\n",
    "        try:\n",
    "            image_data = (ndimage.imread(image_file).astype(float) - pixel_depth / 2) / pixel_depth\n",
    "            #print(image_data.shape)\n",
    "            # our images are RGBA so we would expect shape MxNx4\n",
    "            # see: https://docs.scipy.org/doc/scipy-0.14.0/reference/generated/scipy.ndimage.imread.html\n",
    "            if (image_data.shape != (image_size, image_size)):\n",
    "                raise Exception('Unexpected image shape: %s' % str(image_data.shape))\n",
    "            dataset[num_images, :, :] = image_data\n",
    "            num_images = num_images + 1\n",
    "        except IOError as e:\n",
    "            print('Could not read:', image_file, ':', e, '- it\\'s ok, skipping.')\n",
    "\n",
    "    dataset = dataset[0:num_images, :, :]\n",
    "    #if num_images < min_num_images:\n",
    "     #   raise Exception('Many fewer images than expected: %d < %d' % (num_images, min_num_images))\n",
    "\n",
    "    print('Full dataset tensor:', dataset.shape)\n",
    "    print('Mean:', np.mean(dataset))\n",
    "    print('Standard deviation:', np.std(dataset))\n",
    "    return dataset"
   ]
  },
  {
   "cell_type": "code",
   "execution_count": null,
   "metadata": {},
   "outputs": [],
   "source": [
    "a"
   ]
  },
  {
   "cell_type": "code",
   "execution_count": 7,
   "metadata": {},
   "outputs": [
    {
     "ename": "SyntaxError",
     "evalue": "unexpected EOF while parsing (<ipython-input-7-af97bca0b823>, line 2)",
     "output_type": "error",
     "traceback": [
      "\u001b[0;36m  File \u001b[0;32m\"<ipython-input-7-af97bca0b823>\"\u001b[0;36m, line \u001b[0;32m2\u001b[0m\n\u001b[0;31m    \u001b[0m\n\u001b[0m    ^\u001b[0m\n\u001b[0;31mSyntaxError\u001b[0m\u001b[0;31m:\u001b[0m unexpected EOF while parsing\n"
     ]
    }
   ],
   "source": [
    "def splitter(new_dataset_path):\n",
    "    "
   ]
  },
  {
   "cell_type": "code",
   "execution_count": 8,
   "metadata": {},
   "outputs": [],
   "source": [
    "def augmentation(new_dataset_path, num_shifts):    \n",
    "    for folder in os.listdir(new_dataset_path):\n",
    "        species_pictures = os.listdir(new_dataset_path + '/' + folder)\n",
    "        os.makedirs('../dataset/augmented_spectrograms' + '/' + folder)\n",
    "        for image in species_pictures:\n",
    "            the_image = np.asarray(Image.open(new_dataset_path + '/' + folder + '/' + image))\n",
    "            for i in range(num_shifts+1):\n",
    "                pre_image = the_image.reshape((size,size))\n",
    "                \n",
    "                # shift up\n",
    "                shifted_image_up = shift(pre_image, [(i*(-1)), 0]) \n",
    "                shifted_image_up.save('../dataset/augmented_spectrograms/' + folder + '/shifted_up' + str(i) + '_' + image)\n",
    "                shifted_image_up.close()\n",
    "                \n",
    "                # shift_down\n",
    "                shifted_image_down = shift(pre_image, [i, 0]) \n",
    "                shifted_image_down.save('../dataset/augmented_spectrograms/' + folder + '/shifted_down' + str(i) + '_' + image)\n",
    "                shifted_image_down.close()\n",
    "                \n",
    "                #shift_left\n",
    "                shifted_image_left = shift(pre_image, [0, (i*(-1))]) \n",
    "                shifted_image_left.save('../dataset/augmented_spectrograms/' + folder + '/shifted_left' + str(i) + '_' + image)\n",
    "                shifted_image_left.close()\n",
    "                \n",
    "                #shift_right\n",
    "                shifted_image_right = shift(pre_image, [0, i]) \n",
    "                shifted_image_right.save('../dataset/augmented_spectrograms/' + folder + '/shifted_right' + str(i) + '_' + image)\n",
    "                shifted_image_right.close()\n",
    "                \n",
    "                pre_image.close()\n",
    "            del the_image"
   ]
  },
  {
   "cell_type": "markdown",
   "metadata": {},
   "source": [
    "### Pickling Data"
   ]
  },
  {
   "cell_type": "markdown",
   "metadata": {},
   "source": [
    "We want to pickle the data by species, allowing for control of the minimum images per class. Beware that this will drastically influence the performance of your model."
   ]
  },
  {
   "cell_type": "code",
   "execution_count": 9,
   "metadata": {
    "scrolled": true
   },
   "outputs": [
    {
     "name": "stdout",
     "output_type": "stream",
     "text": [
      "Pickling ../dataset/pickle_data/Myrmeciza hemimelaena.pickle.\n",
      "Full dataset tensor: (44, 28, 28)\n",
      "Mean: -0.0248039\n",
      "Standard deviation: 0.087640084\n",
      "Pickling ../dataset/pickle_data/Microcerculus marginatus.pickle.\n",
      "Full dataset tensor: (12, 28, 28)\n",
      "Mean: 0.08082441\n",
      "Standard deviation: 0.10161624\n",
      "Pickling ../dataset/pickle_data/Eleutherodactylus coqui.pickle.\n",
      "Full dataset tensor: (13, 28, 28)\n",
      "Mean: -0.030509898\n",
      "Standard deviation: 0.084106274\n",
      "Pickling ../dataset/pickle_data/Epinephelus guttatus.pickle.\n",
      "Full dataset tensor: (17, 28, 28)\n",
      "Mean: 0.03140815\n",
      "Standard deviation: 0.11902801\n",
      "Pickling ../dataset/pickle_data/Megascops nudipes.pickle.\n",
      "Full dataset tensor: (15, 28, 28)\n",
      "Mean: 0.103591435\n",
      "Standard deviation: 0.12395171\n",
      "Pickling ../dataset/pickle_data/Basileuterus chrysogaster.pickle.\n",
      "Full dataset tensor: (5, 28, 28)\n",
      "Mean: 0.0352441\n",
      "Standard deviation: 0.08039878\n",
      "Pickling ../dataset/pickle_data/Eleutherodactylus cochranae.pickle.\n",
      "Full dataset tensor: (25, 28, 28)\n",
      "Mean: 0.053360745\n",
      "Standard deviation: 0.17512971\n",
      "Pickling ../dataset/pickle_data/Eleutherodactylus juanariveroi.pickle.\n",
      "Full dataset tensor: (5, 28, 28)\n",
      "Mean: -0.09089536\n",
      "Standard deviation: 0.06600308\n",
      "Pickling ../dataset/pickle_data/Basileuterus bivittatus.pickle.\n",
      "Full dataset tensor: (15, 28, 28)\n",
      "Mean: -0.016001066\n",
      "Standard deviation: 0.0719963\n",
      "Pickling ../dataset/pickle_data/Chlorothraupis carmioli.pickle.\n",
      "Full dataset tensor: (11, 28, 28)\n",
      "Mean: 0.011695588\n",
      "Standard deviation: 0.067821875\n",
      "Pickling ../dataset/pickle_data/Hypocnemis subflava.pickle.\n",
      "Full dataset tensor: (24, 28, 28)\n",
      "Mean: 0.010053396\n",
      "Standard deviation: 0.072012834\n",
      "Pickling ../dataset/pickle_data/Megascops guatemalae.pickle.\n",
      "Full dataset tensor: (6, 28, 28)\n",
      "Mean: 0.09529146\n",
      "Standard deviation: 0.08087708\n",
      "Pickling ../dataset/pickle_data/Eleutherodactylus cooki.pickle.\n",
      "Full dataset tensor: (16, 28, 28)\n",
      "Mean: 0.01758047\n",
      "Standard deviation: 0.09191378\n",
      "Pickling ../dataset/pickle_data/Eleutherodactylus brittoni.pickle.\n",
      "Full dataset tensor: (14, 28, 28)\n",
      "Mean: -0.09099533\n",
      "Standard deviation: 0.114387356\n",
      "Pickling ../dataset/pickle_data/Formicarius analis.pickle.\n",
      "Full dataset tensor: (11, 28, 28)\n",
      "Mean: 0.03082461\n",
      "Standard deviation: 0.08634711\n",
      "Pickling ../dataset/pickle_data/Liosceles thoracicus.pickle.\n",
      "Full dataset tensor: (14, 28, 28)\n",
      "Mean: 0.0259268\n",
      "Standard deviation: 0.093088396\n"
     ]
    }
   ],
   "source": [
    "def maybe_pickle(data_folders, min_num_images_per_class, pickles_path, force=False):\n",
    "    \n",
    "    if not os.path.exists(pickles_path):\n",
    "        os.makedirs(pickles_path)\n",
    "    else:\n",
    "        shutil.rmtree(pickles_path)\n",
    "        os.makedirs(pickles_path)\n",
    "  \n",
    "    dataset_names = []\n",
    "    for folder in data_folders:\n",
    "        class_name = folder.split('/')[-1] # species name\n",
    "        set_filename = pickles_path + '/' + class_name + '.pickle'\n",
    "        dataset_names.append(set_filename)\n",
    "        if os.path.exists(set_filename) and not force:\n",
    "            # You may override by setting force=True.\n",
    "            print('%s already present - Skipping pickling.' % set_filename)\n",
    "        else:\n",
    "            image_files = os.listdir(folder)\n",
    "            count = 0\n",
    "            for image in image_files:\n",
    "                count +=1\n",
    "            if True:#count >= min_num_images_per_class:\n",
    "                print('Pickling %s.' % set_filename)\n",
    "                dataset = load_image(folder, min_num_images_per_class)\n",
    "                try:\n",
    "                    with open(set_filename, 'wb') as f:\n",
    "                        pickle.dump(dataset, f, pickle.HIGHEST_PROTOCOL)\n",
    "                except Exception as e:\n",
    "                    print('Unable to save data to', set_filename, ':', e)\n",
    "\n",
    "    return dataset_names\n",
    "\n",
    "pickles_path = '../dataset/pickle_data'\n",
    "datasets = maybe_pickle(dataset_folders, min_imgs_per_class, pickles_path)"
   ]
  },
  {
   "cell_type": "code",
   "execution_count": 10,
   "metadata": {},
   "outputs": [
    {
     "name": "stdout",
     "output_type": "stream",
     "text": [
      "We have 16 classes\n"
     ]
    }
   ],
   "source": [
    "pickles = getDatasetFolders('../dataset/pickle_data')\n",
    "#print(datasets)\n",
    "num_classes = len(pickles)\n",
    "print(f'We have {num_classes} classes')"
   ]
  },
  {
   "cell_type": "markdown",
   "metadata": {},
   "source": [
    "### Classes "
   ]
  },
  {
   "cell_type": "markdown",
   "metadata": {},
   "source": [
    "We have to evaluate the number of classes and how are they distributed. Also, observe which species has a higher frequency, etc.  "
   ]
  },
  {
   "cell_type": "code",
   "execution_count": 11,
   "metadata": {},
   "outputs": [],
   "source": [
    "def das_labeler(pickle_files):\n",
    "    labels = []\n",
    "    images = []\n",
    "    for label, pickle_file in enumerate(pickle_files):\n",
    "        try:\n",
    "            with open(pickle_file, 'rb') as f:\n",
    "                species_set = pickle.load(f)\n",
    "                for image in species_set:\n",
    "                    labels.append(label)\n",
    "                    images.append(image)\n",
    "        except Exception as e:\n",
    "            print('Unable to process data from', pickle_file, ':', e)\n",
    "            pass\n",
    "    labels = np.asarray(labels)\n",
    "    images = np.asarray(images)\n",
    "    return labels, images"
   ]
  },
  {
   "cell_type": "code",
   "execution_count": 12,
   "metadata": {},
   "outputs": [],
   "source": [
    "labels, images = das_labeler(datasets)"
   ]
  },
  {
   "cell_type": "code",
   "execution_count": 14,
   "metadata": {},
   "outputs": [],
   "source": [
    "#X_train, X_test, y_train, y_test = train_test_split(images, labels, test_size = 0.33, random_state = 42)"
   ]
  },
  {
   "cell_type": "code",
   "execution_count": 13,
   "metadata": {},
   "outputs": [
    {
     "name": "stdout",
     "output_type": "stream",
     "text": [
      "Let's see if the dataset is balanced:\n",
      "The total number of images in class Megascops nudipes is: 15\n",
      "The total number of images in class Eleutherodactylus cooki is: 16\n",
      "The total number of images in class Epinephelus guttatus is: 17\n",
      "The total number of images in class Microcerculus marginatus is: 12\n",
      "The total number of images in class Basileuterus chrysogaster is: 5\n",
      "The total number of images in class Myrmeciza hemimelaena is: 44\n",
      "The total number of images in class Megascops guatemalae is: 6\n",
      "The total number of images in class Eleutherodactylus cochranae is: 25\n",
      "The total number of images in class Basileuterus bivittatus is: 15\n",
      "The total number of images in class Eleutherodactylus brittoni is: 14\n",
      "The total number of images in class Formicarius analis is: 11\n",
      "The total number of images in class Eleutherodactylus juanariveroi is: 5\n",
      "The total number of images in class Liosceles thoracicus is: 14\n",
      "The total number of images in class Eleutherodactylus coqui is: 13\n",
      "The total number of images in class Hypocnemis subflava is: 24\n",
      "The total number of images in class Chlorothraupis carmioli is: 11\n",
      "For the dataset to be balanced, each class should have approximately 15 images.\n",
      "\n"
     ]
    }
   ],
   "source": [
    "# Calculates the total of images per class\n",
    "def class_is_balanced(pickles):\n",
    "    total = 0\n",
    "    for pckle in pickles:\n",
    "        if (os.path.isfile(pckle)):\n",
    "            pickle_class = pickle.load(open(pckle, \"rb\"))\n",
    "        else:\n",
    "            print(\"Error reading dataset %s. Exiting.\", pickle_path)\n",
    "            return -1\n",
    "        class_name = pckle.split('/')[-1].split('.')[0]\n",
    "        print(\"The total number of images in class %s is: %d\" % (class_name, len(pickle_class)))\n",
    "        total += len(pickle_class)\n",
    "    print(\"For the dataset to be balanced, each class should have approximately %d images.\\n\" % (total / len(pickles)))\n",
    "    return (total // len(pickles))\n",
    "    \n",
    "print(\"Let's see if the dataset is balanced:\")\n",
    "balance_num = class_is_balanced(pickles)\n"
   ]
  },
  {
   "cell_type": "markdown",
   "metadata": {},
   "source": [
    "### Training, Testing, and Validation Separation"
   ]
  },
  {
   "cell_type": "markdown",
   "metadata": {},
   "source": [
    "As with every implementation of Supervised Learning, we separate the dataset into three components. The training, the testing, and the validation dataset. "
   ]
  },
  {
   "cell_type": "markdown",
   "metadata": {},
   "source": [
    "### Output Data"
   ]
  },
  {
   "cell_type": "markdown",
   "metadata": {},
   "source": [
    "We output the data in a pickle format, to be used next on the models. "
   ]
  },
  {
   "cell_type": "code",
   "execution_count": 15,
   "metadata": {},
   "outputs": [],
   "source": [
    "pickle_file = '../dataset/arbimon_' + str(num_shifts) + '.pickle'\n",
    "\n",
    "try:\n",
    "  f = open(pickle_file, 'wb')\n",
    "  save = {\n",
    "    'train_dataset': X_train,\n",
    "    'train_labels': y_train,\n",
    "    'test_dataset': X_test,\n",
    "    'test_labels': y_test,\n",
    "    } \n",
    "  pickle.dump(save, f, pickle.HIGHEST_PROTOCOL) # save all out datasets in one pickle \n",
    "  f.close()\n",
    "except Exception as e:\n",
    "  print('Unable to save data to', pickle_file, ':', e)\n",
    "  raise"
   ]
  },
  {
   "cell_type": "code",
   "execution_count": null,
   "metadata": {},
   "outputs": [],
   "source": []
  }
 ],
 "metadata": {
  "kernelspec": {
   "display_name": "Python 3",
   "language": "python",
   "name": "python3"
  },
  "language_info": {
   "codemirror_mode": {
    "name": "ipython",
    "version": 3
   },
   "file_extension": ".py",
   "mimetype": "text/x-python",
   "name": "python",
   "nbconvert_exporter": "python",
   "pygments_lexer": "ipython3",
   "version": "3.6.3"
  }
 },
 "nbformat": 4,
 "nbformat_minor": 2
}
