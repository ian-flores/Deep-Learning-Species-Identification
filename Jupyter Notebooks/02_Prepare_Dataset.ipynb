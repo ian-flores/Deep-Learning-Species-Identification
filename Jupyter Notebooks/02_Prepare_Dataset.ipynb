{
 "cells": [
  {
   "cell_type": "markdown",
   "metadata": {},
   "source": [
    "# Prepare Dataset"
   ]
  },
  {
   "cell_type": "markdown",
   "metadata": {},
   "source": [
    "by Ian Flores & Alejandro Vega"
   ]
  },
  {
   "cell_type": "markdown",
   "metadata": {},
   "source": [
    "### Loading Dependencies"
   ]
  },
  {
   "cell_type": "code",
   "execution_count": 1,
   "metadata": {
    "collapsed": true
   },
   "outputs": [],
   "source": [
    "%matplotlib inline\n",
    "from six.moves import cPickle as pickle\n",
    "import os\n",
    "import shutil\n",
    "from PIL import Image, ImageOps\n",
    "import numpy as np\n",
    "import matplotlib.pyplot as plt\n",
    "from IPython.display import display as disp\n",
    "from IPython.display import Image as Im \n",
    "from scipy import ndimage\n",
    "import random"
   ]
  },
  {
   "cell_type": "code",
   "execution_count": null,
   "metadata": {
    "collapsed": true
   },
   "outputs": [],
   "source": [
    "## image size \n",
    "image_size, size = 224, 224\n",
    "\n",
    "## Shifts \n",
    "num_shifts = 7\n",
    "\n",
    "## Number of imgs per class\n",
    "min_imgs_per_class = 32\n",
    "\n",
    "## Number of imgs per class after augmentation\n",
    "min_augmentation = 56"
   ]
  },
  {
   "cell_type": "markdown",
   "metadata": {},
   "source": [
    "### Cropping Spectrograms"
   ]
  },
  {
   "cell_type": "markdown",
   "metadata": {},
   "source": [
    "Given the architectures we are using in our models, we want all spectrograms to have the same size, because the models don't allow for dynamic size input. "
   ]
  },
  {
   "cell_type": "code",
   "execution_count": 3,
   "metadata": {
    "collapsed": true
   },
   "outputs": [],
   "source": [
    "def squareAndGrayImage(image, size, path, species, name):\n",
    "    # open our image and convert to grayscale \n",
    "    # (needed since color channels add a third dimmension)\n",
    "    im = Image.open(image).convert('L')\n",
    "    # dimmensions of square image\n",
    "    size = (size,size)\n",
    "    # resize our image and adjust if image is not square. save our image\n",
    "    squared_image = ImageOps.fit(im, size, Image.ANTIALIAS)\n",
    "    squared_image.save(path + '/' + species + '/squared_' + name)\n",
    "    #print(ndimage.imread(path + '/' + species + '/squared_' + name).shape)\n",
    "    \n",
    "def squareAndGrayProcess(size, dataset_path, new_dataset_path):\n",
    "    # if our dataset doesn't exist create it, otherwise overwrite\n",
    "    if not os.path.exists(new_dataset_path):\n",
    "        os.makedirs(new_dataset_path)\n",
    "    else:\n",
    "        shutil.rmtree(new_dataset_path)\n",
    "        os.makedirs(new_dataset_path)\n",
    "    \n",
    "    # get a list of species folders in our dataset\n",
    "    species_dataset = os.listdir(dataset_path)\n",
    "    \n",
    "    for species in species_dataset:\n",
    "        os.makedirs(new_dataset_path + '/' + species)\n",
    "        species_images = os.listdir(dataset_path + '/' + species)\n",
    "        for image in species_images:\n",
    "            image_path = dataset_path + '/' + species + '/' + image\n",
    "            squareAndGrayImage(image_path, size, new_dataset_path, species, image)\n",
    "\n",
    "dataset_path = '../dataset/spectrogram_roi_dataset'\n",
    "new_dataset_path = '../dataset/squared_spectrogram_roi_dataset'\n",
    "squareAndGrayProcess(size, dataset_path, new_dataset_path)"
   ]
  },
  {
   "cell_type": "code",
   "execution_count": 5,
   "metadata": {
    "collapsed": true
   },
   "outputs": [],
   "source": [
    "os.mkdir(\"../dataset/augmented_spectrograms\")"
   ]
  },
  {
   "cell_type": "code",
   "execution_count": 6,
   "metadata": {
    "collapsed": true,
    "scrolled": true
   },
   "outputs": [],
   "source": [
    "from scipy.ndimage.interpolation import shift \n",
    "## Have to find a way to create and copy the old directory #########\n",
    "\n",
    "#To shift UP up to num_shifts pixels\n",
    "for folder in os.listdir(new_dataset_path):\n",
    "    species_pictures = os.listdir(new_dataset_path + '/' + folder)\n",
    "    os.makedirs('../dataset/augmented_spectrograms' + '/' + folder)\n",
    "    for image in species_pictures:\n",
    "        the_image = np.asarray(Image.open(new_dataset_path + '/' + folder + '/' + image))\n",
    "        for i in range(num_shifts):\n",
    "            pre_image = the_image.reshape((size,size))\n",
    "            shifted_image = shift(pre_image, [(i*(-1)), 0])\n",
    "            shifted_image = Image.fromarray(shifted_image)\n",
    "            shifted_image.save('../dataset/augmented_spectrograms/' + folder + '/' + 'shifted_up' + str(i) + '_' + image)\n",
    "            shifted_image.close()"
   ]
  },
  {
   "cell_type": "code",
   "execution_count": 7,
   "metadata": {
    "collapsed": true
   },
   "outputs": [],
   "source": [
    "#To shift down up to num_shifts pixels\n",
    "for folder in os.listdir(new_dataset_path):\n",
    "    species_pictures = os.listdir(new_dataset_path + '/' + folder)\n",
    "    for image in species_pictures:\n",
    "        the_image = np.asarray(Image.open(new_dataset_path + '/' + folder + '/' + image))\n",
    "        for i in range(num_shifts):\n",
    "            pre_image = the_image.reshape((size,size))\n",
    "            shifted_image = shift(pre_image, [i, 0])\n",
    "            shifted_image = Image.fromarray(shifted_image)\n",
    "            shifted_image.save('../dataset/augmented_spectrograms/' + folder + '/' + 'shifted_down' + str(i) + '-' + image)\n",
    "            shifted_image.close()"
   ]
  },
  {
   "cell_type": "code",
   "execution_count": 8,
   "metadata": {
    "collapsed": true
   },
   "outputs": [],
   "source": [
    "#To shift to the left up to num_shifts pixels\n",
    "for folder in os.listdir(new_dataset_path):\n",
    "    species_pictures = os.listdir(new_dataset_path + '/' + folder)\n",
    "    for image in species_pictures:\n",
    "        the_image = np.asarray(Image.open(new_dataset_path + '/' + folder + '/' + image))\n",
    "        for i in range(num_shifts):\n",
    "            pre_image = the_image.reshape((size,size))\n",
    "            shifted_image = shift(pre_image, [0, (i*(-1))])\n",
    "            shifted_image = Image.fromarray(shifted_image)\n",
    "            shifted_image.save('../dataset/augmented_spectrograms/' + folder + '/' + 'shifted_left' + str(i) + '-' + image)\n",
    "            shifted_image.close()"
   ]
  },
  {
   "cell_type": "code",
   "execution_count": 9,
   "metadata": {
    "collapsed": true
   },
   "outputs": [],
   "source": [
    "#To shift to the right up to num_shifts pixels\n",
    "for folder in os.listdir(new_dataset_path):\n",
    "    species_pictures = os.listdir(new_dataset_path + '/' + folder)\n",
    "    for image in species_pictures:\n",
    "        the_image = np.asarray(Image.open(new_dataset_path + '/' + folder + '/' + image))\n",
    "        for i in range(7):\n",
    "            pre_image = the_image.reshape((size,size))\n",
    "            shifted_image = shift(pre_image, [0, i])\n",
    "            shifted_image = Image.fromarray(shifted_image)\n",
    "            shifted_image.save('../dataset/augmented_spectrograms/' + folder + '/' + 'shifted_right' + str(i) + '-' + image)\n",
    "            shifted_image.close()"
   ]
  },
  {
   "cell_type": "code",
   "execution_count": 10,
   "metadata": {
    "collapsed": true
   },
   "outputs": [],
   "source": [
    "new_dataset_path = '../dataset/augmented_spectrograms'"
   ]
  },
  {
   "cell_type": "code",
   "execution_count": 11,
   "metadata": {
    "scrolled": false
   },
   "outputs": [
    {
     "name": "stdout",
     "output_type": "stream",
     "text": [
      "Here's a random sample from each class in the training dataset:\n",
      "Microcerculus marginatus sample :\n"
     ]
    },
    {
     "data": {
      "image/png": "[encoded data removed]",
      "text/plain": [
       "<IPython.core.display.Image object>"
      ]
     },
     "metadata": {},
     "output_type": "display_data"
    },
    {
     "name": "stdout",
     "output_type": "stream",
     "text": [
      "========================================\n",
      "Eleutherodactylus cooki sample :\n"
     ]
    },
    {
     "data": {
      "image/png": "[encoded data removed]",
      "text/plain": [
       "<IPython.core.display.Image object>"
      ]
     },
     "metadata": {},
     "output_type": "display_data"
    },
    {
     "name": "stdout",
     "output_type": "stream",
     "text": [
      "========================================\n",
      "Eleutherodactylus cochranae sample :\n"
     ]
    },
    {
     "data": {
      "image/png": "[encoded data removed]",
      "text/plain": [
       "<IPython.core.display.Image object>"
      ]
     },
     "metadata": {},
     "output_type": "display_data"
    },
    {
     "name": "stdout",
     "output_type": "stream",
     "text": [
      "========================================\n",
      "Hypocnemis subflava sample :\n"
     ]
    },
    {
     "data": {
      "image/png": "[encoded data removed]",
      "text/plain": [
       "<IPython.core.display.Image object>"
      ]
     },
     "metadata": {},
     "output_type": "display_data"
    },
    {
     "name": "stdout",
     "output_type": "stream",
     "text": [
      "========================================\n",
      "Formicarius analis sample :\n"
     ]
    },
    {
     "data": {
      "image/png": "[encoded data removed]",
      "text/plain": [
       "<IPython.core.display.Image object>"
      ]
     },
     "metadata": {},
     "output_type": "display_data"
    },
    {
     "name": "stdout",
     "output_type": "stream",
     "text": [
      "========================================\n",
      "Basileuterus bivittatus sample :\n"
     ]
    },
    {
     "data": {
      "image/png": "[encoded data removed]",
      "text/plain": [
       "<IPython.core.display.Image object>"
      ]
     },
     "metadata": {},
     "output_type": "display_data"
    },
    {
     "name": "stdout",
     "output_type": "stream",
     "text": [
      "========================================\n",
      "Megascops nudipes sample :\n"
     ]
    },
    {
     "data": {
      "image/png": "[encoded data removed]",
      "text/plain": [
       "<IPython.core.display.Image object>"
      ]
     },
     "metadata": {},
     "output_type": "display_data"
    },
    {
     "name": "stdout",
     "output_type": "stream",
     "text": [
      "========================================\n",
      "Myrmoborus leucophrys sample :\n"
     ]
    },
    {
     "data": {
      "image/png": "[encoded data removed]",
      "text/plain": [
       "<IPython.core.display.Image object>"
      ]
     },
     "metadata": {},
     "output_type": "display_data"
    },
    {
     "name": "stdout",
     "output_type": "stream",
     "text": [
      "========================================\n",
      "Thamnophilus schistaceus sample :\n"
     ]
    },
    {
     "data": {
      "image/png": "[encoded data removed]",
      "text/plain": [
       "<IPython.core.display.Image object>"
      ]
     },
     "metadata": {},
     "output_type": "display_data"
    },
    {
     "name": "stdout",
     "output_type": "stream",
     "text": [
      "========================================\n",
      "Eleutherodactylus brittoni sample :\n"
     ]
    },
    {
     "data": {
      "image/png": "[encoded data removed]",
      "text/plain": [
       "<IPython.core.display.Image object>"
      ]
     },
     "metadata": {},
     "output_type": "display_data"
    },
    {
     "name": "stdout",
     "output_type": "stream",
     "text": [
      "========================================\n",
      "Liosceles thoracicus sample :\n"
     ]
    },
    {
     "data": {
      "image/png": "[encoded data removed]",
      "text/plain": [
       "<IPython.core.display.Image object>"
      ]
     },
     "metadata": {},
     "output_type": "display_data"
    },
    {
     "name": "stdout",
     "output_type": "stream",
     "text": [
      "========================================\n",
      "Eleutherodactylus juanariveroi sample :\n"
     ]
    },
    {
     "data": {
      "image/png": "[encoded data removed]",
      "text/plain": [
       "<IPython.core.display.Image object>"
      ]
     },
     "metadata": {},
     "output_type": "display_data"
    },
    {
     "name": "stdout",
     "output_type": "stream",
     "text": [
      "========================================\n",
      "Saltator grossus sample :\n"
     ]
    },
    {
     "data": {
      "image/png": "[encoded data removed]",
      "text/plain": [
       "<IPython.core.display.Image object>"
      ]
     },
     "metadata": {},
     "output_type": "display_data"
    },
    {
     "name": "stdout",
     "output_type": "stream",
     "text": [
      "========================================\n",
      "Epinephelus guttatus sample :\n"
     ]
    },
    {
     "data": {
      "image/png": "[encoded data removed]",
      "text/plain": [
       "<IPython.core.display.Image object>"
      ]
     },
     "metadata": {},
     "output_type": "display_data"
    },
    {
     "name": "stdout",
     "output_type": "stream",
     "text": [
      "========================================\n",
      "Chlorothraupis carmioli sample :\n"
     ]
    },
    {
     "data": {
      "image/png": "[encoded data removed]",
      "text/plain": [
       "<IPython.core.display.Image object>"
      ]
     },
     "metadata": {},
     "output_type": "display_data"
    },
    {
     "name": "stdout",
     "output_type": "stream",
     "text": [
      "========================================\n",
      "Myrmeciza hemimelaena sample :\n"
     ]
    },
    {
     "data": {
      "image/png": "[encoded data removed]",
      "text/plain": [
       "<IPython.core.display.Image object>"
      ]
     },
     "metadata": {},
     "output_type": "display_data"
    },
    {
     "name": "stdout",
     "output_type": "stream",
     "text": [
      "========================================\n",
      "Unknown Insect sample :\n"
     ]
    },
    {
     "data": {
      "image/png": "[encoded data removed]",
      "text/plain": [
       "<IPython.core.display.Image object>"
      ]
     },
     "metadata": {},
     "output_type": "display_data"
    },
    {
     "name": "stdout",
     "output_type": "stream",
     "text": [
      "========================================\n",
      "Percnostola lophotes sample :\n"
     ]
    },
    {
     "data": {
      "image/png": "[encoded data removed]",
      "text/plain": [
       "<IPython.core.display.Image object>"
      ]
     },
     "metadata": {},
     "output_type": "display_data"
    },
    {
     "name": "stdout",
     "output_type": "stream",
     "text": [
      "========================================\n",
      "Basileuterus chrysogaster sample :\n"
     ]
    },
    {
     "data": {
      "image/png": "[encoded data removed]",
      "text/plain": [
       "<IPython.core.display.Image object>"
      ]
     },
     "metadata": {},
     "output_type": "display_data"
    },
    {
     "name": "stdout",
     "output_type": "stream",
     "text": [
      "========================================\n",
      "Megascops guatemalae sample :\n"
     ]
    },
    {
     "data": {
      "image/png": "[encoded data removed]",
      "text/plain": [
       "<IPython.core.display.Image object>"
      ]
     },
     "metadata": {},
     "output_type": "display_data"
    },
    {
     "name": "stdout",
     "output_type": "stream",
     "text": [
      "========================================\n",
      "Eleutherodactylus coqui sample :\n"
     ]
    },
    {
     "data": {
      "image/png": "[encoded data removed]",
      "text/plain": [
       "<IPython.core.display.Image object>"
      ]
     },
     "metadata": {},
     "output_type": "display_data"
    },
    {
     "name": "stdout",
     "output_type": "stream",
     "text": [
      "========================================\n"
     ]
    }
   ],
   "source": [
    "# Function for displaying a random photo from each class in a dataset\n",
    "def displaySamples(dataset_folders):\n",
    "    # go through each class in the dataset\n",
    "    dataset = os.listdir(dataset_folders)\n",
    "    for folder in dataset:\n",
    "        imgs_path = dataset_folders + '/' + folder\n",
    "        imgs = os.listdir(imgs_path) # list all images in a class\n",
    "        sample = dataset_folders + '/' + folder + '/' + imgs[np.random.randint(len(imgs))] # path for a random image from a dataset class\n",
    "        name = sample.split('/')[-2]\n",
    "        print(name, 'sample :')\n",
    "        disp(Im(sample)) # display our sample\n",
    "        print(\"========================================\")\n",
    "\n",
    "print(\"Here's a random sample from each class in the training dataset:\")\n",
    "displaySamples(new_dataset_path)\n",
    "\n"
   ]
  },
  {
   "cell_type": "code",
   "execution_count": 12,
   "metadata": {
    "collapsed": true
   },
   "outputs": [],
   "source": [
    "def getDatasetFolders(dataset_path):\n",
    "    folders = os.listdir(dataset_path)\n",
    "    dataset_folders = []\n",
    "    for folder in folders:\n",
    "        dataset_folders.append(dataset_path + '/' + folder)\n",
    "    return dataset_folders\n",
    "\n",
    "dataset_folders = getDatasetFolders(new_dataset_path)"
   ]
  },
  {
   "cell_type": "code",
   "execution_count": 13,
   "metadata": {
    "collapsed": true,
    "scrolled": true
   },
   "outputs": [],
   "source": [
    "pixel_depth = 255.0 # Number of levels per pixel.\n",
    "\n",
    "def load_image(folder, min_num_images):\n",
    "    \"\"\"Load the data for a single letter label.\"\"\"\n",
    "    image_files = os.listdir(folder)\n",
    "    dataset = np.ndarray(shape=(len(image_files), image_size, image_size), dtype=np.float32)\n",
    "    num_images = 0\n",
    "\n",
    "    for image in image_files:\n",
    "        image_file = os.path.join(folder, image)\n",
    "        try:\n",
    "            image_data = (ndimage.imread(image_file).astype(float) - pixel_depth / 2) / pixel_depth\n",
    "            #print(image_data.shape)\n",
    "            # our images are RGBA so we would expect shape MxNx4\n",
    "            # see: https://docs.scipy.org/doc/scipy-0.14.0/reference/generated/scipy.ndimage.imread.html\n",
    "            if (image_data.shape != (image_size, image_size)):\n",
    "                raise Exception('Unexpected image shape: %s' % str(image_data.shape))\n",
    "            dataset[num_images, :, :] = image_data\n",
    "            num_images = num_images + 1\n",
    "        except IOError as e:\n",
    "            print('Could not read:', image_file, ':', e, '- it\\'s ok, skipping.')\n",
    "\n",
    "    dataset = dataset[0:num_images, :, :]\n",
    "    #if num_images < min_num_images:\n",
    "     #   raise Exception('Many fewer images than expected: %d < %d' % (num_images, min_num_images))\n",
    "\n",
    "    print('Full dataset tensor:', dataset.shape)\n",
    "    print('Mean:', np.mean(dataset))\n",
    "    print('Standard deviation:', np.std(dataset))\n",
    "    return dataset"
   ]
  },
  {
   "cell_type": "markdown",
   "metadata": {},
   "source": [
    "### Pickling Data"
   ]
  },
  {
   "cell_type": "markdown",
   "metadata": {},
   "source": [
    "We want to pickle the data by species, allowing for control of the minimum images per class. Beware that this will drastically influence the performance of your model."
   ]
  },
  {
   "cell_type": "code",
   "execution_count": 14,
   "metadata": {
    "scrolled": true
   },
   "outputs": [
    {
     "name": "stdout",
     "output_type": "stream",
     "text": [
      "Pickling ../dataset/pickle_data/Microcerculus marginatus.pickle.\n",
      "Full dataset tensor: (252, 224, 224)\n",
      "Mean: 0.0823261\n",
      "Standard deviation: 0.138317\n",
      "Pickling ../dataset/pickle_data/Eleutherodactylus cooki.pickle.\n",
      "Full dataset tensor: (420, 224, 224)\n",
      "Mean: 0.0111603\n",
      "Standard deviation: 0.126591\n",
      "Pickling ../dataset/pickle_data/Eleutherodactylus cochranae.pickle.\n",
      "Full dataset tensor: (308, 224, 224)\n",
      "Mean: 0.0320231\n",
      "Standard deviation: 0.194776\n",
      "Pickling ../dataset/pickle_data/Hypocnemis subflava.pickle.\n",
      "Full dataset tensor: (504, 224, 224)\n",
      "Mean: 0.00276169\n",
      "Standard deviation: 0.103781\n",
      "Pickling ../dataset/pickle_data/Formicarius analis.pickle.\n",
      "Full dataset tensor: (224, 224, 224)\n",
      "Mean: 0.0220385\n",
      "Standard deviation: 0.123534\n",
      "Pickling ../dataset/pickle_data/Basileuterus bivittatus.pickle.\n",
      "Full dataset tensor: (392, 224, 224)\n",
      "Mean: -0.0218294\n",
      "Standard deviation: 0.103464\n",
      "Pickling ../dataset/pickle_data/Megascops nudipes.pickle.\n",
      "Full dataset tensor: (336, 224, 224)\n",
      "Mean: 0.0648585\n",
      "Standard deviation: 0.145121\n",
      "Pickling ../dataset/pickle_data/Myrmoborus leucophrys.pickle.\n",
      "Full dataset tensor: (420, 224, 224)\n",
      "Mean: 0.0236836\n",
      "Standard deviation: 0.112725\n",
      "Pickling ../dataset/pickle_data/Thamnophilus schistaceus.pickle.\n",
      "Full dataset tensor: (224, 224, 224)\n",
      "Mean: 0.0267791\n",
      "Standard deviation: 0.123637\n",
      "Pickling ../dataset/pickle_data/Eleutherodactylus brittoni.pickle.\n",
      "Full dataset tensor: (336, 224, 224)\n",
      "Mean: -0.0942535\n",
      "Standard deviation: 0.127846\n",
      "Pickling ../dataset/pickle_data/Liosceles thoracicus.pickle.\n",
      "Full dataset tensor: (364, 224, 224)\n",
      "Mean: 0.0194965\n",
      "Standard deviation: 0.127553\n",
      "Pickling ../dataset/pickle_data/Eleutherodactylus juanariveroi.pickle.\n",
      "Full dataset tensor: (112, 224, 224)\n",
      "Mean: -0.101586\n",
      "Standard deviation: 0.0908843\n",
      "Pickling ../dataset/pickle_data/Saltator grossus.pickle.\n",
      "Full dataset tensor: (252, 224, 224)\n",
      "Mean: 0.0229185\n",
      "Standard deviation: 0.114922\n",
      "Pickling ../dataset/pickle_data/Epinephelus guttatus.pickle.\n",
      "Full dataset tensor: (364, 224, 224)\n",
      "Mean: 0.0163052\n",
      "Standard deviation: 0.136184\n",
      "Pickling ../dataset/pickle_data/Chlorothraupis carmioli.pickle.\n",
      "Full dataset tensor: (252, 224, 224)\n",
      "Mean: 0.00806898\n",
      "Standard deviation: 0.099264\n",
      "Pickling ../dataset/pickle_data/Myrmeciza hemimelaena.pickle.\n",
      "Full dataset tensor: (1008, 224, 224)\n",
      "Mean: -0.0325758\n",
      "Standard deviation: 0.111291\n",
      "Pickling ../dataset/pickle_data/Unknown Insect.pickle.\n",
      "Full dataset tensor: (140, 224, 224)\n",
      "Mean: 0.0367518\n",
      "Standard deviation: 0.101981\n",
      "Pickling ../dataset/pickle_data/Percnostola lophotes.pickle.\n",
      "Full dataset tensor: (252, 224, 224)\n",
      "Mean: -0.0175771\n",
      "Standard deviation: 0.101226\n",
      "Pickling ../dataset/pickle_data/Basileuterus chrysogaster.pickle.\n",
      "Full dataset tensor: (140, 224, 224)\n",
      "Mean: 0.0285639\n",
      "Standard deviation: 0.111512\n",
      "Pickling ../dataset/pickle_data/Megascops guatemalae.pickle.\n",
      "Full dataset tensor: (56, 224, 224)\n",
      "Mean: 0.0640008\n",
      "Standard deviation: 0.142152\n",
      "Pickling ../dataset/pickle_data/Eleutherodactylus coqui.pickle.\n",
      "Full dataset tensor: (252, 224, 224)\n",
      "Mean: -0.0342616\n",
      "Standard deviation: 0.106026\n"
     ]
    }
   ],
   "source": [
    "def maybe_pickle(data_folders, min_num_images_per_class, pickles_path, force=False):\n",
    "    \n",
    "    if not os.path.exists(pickles_path):\n",
    "        os.makedirs(pickles_path)\n",
    "    else:\n",
    "        shutil.rmtree(pickles_path)\n",
    "        os.makedirs(pickles_path)\n",
    "  \n",
    "    dataset_names = []\n",
    "    for folder in data_folders:\n",
    "        class_name = folder.split('/')[-1] # species name\n",
    "        set_filename = pickles_path + '/' + class_name + '.pickle'\n",
    "        dataset_names.append(set_filename)\n",
    "        if os.path.exists(set_filename) and not force:\n",
    "            # You may override by setting force=True.\n",
    "            print('%s already present - Skipping pickling.' % set_filename)\n",
    "        else:\n",
    "            image_files = os.listdir(folder)\n",
    "            count = 0\n",
    "            for image in image_files:\n",
    "                count +=1\n",
    "            if count >= min_num_images_per_class:\n",
    "                print('Pickling %s.' % set_filename)\n",
    "                dataset = load_image(folder, min_num_images_per_class)\n",
    "                try:\n",
    "                    with open(set_filename, 'wb') as f:\n",
    "                        pickle.dump(dataset, f, pickle.HIGHEST_PROTOCOL)\n",
    "                except Exception as e:\n",
    "                    print('Unable to save data to', set_filename, ':', e)\n",
    "\n",
    "    return dataset_names\n",
    "\n",
    "pickles_path = '../dataset/pickle_data'\n",
    "datasets = maybe_pickle(dataset_folders, min_imgs_per_class, pickles_path)"
   ]
  },
  {
   "cell_type": "code",
   "execution_count": 1,
   "metadata": {},
   "outputs": [
    {
     "ename": "NameError",
     "evalue": "name 'getDatasetFolders' is not defined",
     "output_type": "error",
     "traceback": [
      "\u001b[0;31m---------------------------------------------------------------------------\u001b[0m",
      "\u001b[0;31mNameError\u001b[0m                                 Traceback (most recent call last)",
      "\u001b[0;32m<ipython-input-1-671656edc9fe>\u001b[0m in \u001b[0;36m<module>\u001b[0;34m()\u001b[0m\n\u001b[0;32m----> 1\u001b[0;31m \u001b[0mpickles\u001b[0m \u001b[0;34m=\u001b[0m \u001b[0mgetDatasetFolders\u001b[0m\u001b[0;34m(\u001b[0m\u001b[0;34m'../dataset/pickle_data'\u001b[0m\u001b[0;34m)\u001b[0m\u001b[0;34m\u001b[0m\u001b[0m\n\u001b[0m\u001b[1;32m      2\u001b[0m \u001b[0mprint\u001b[0m\u001b[0;34m(\u001b[0m\u001b[0mdatasets\u001b[0m\u001b[0;34m)\u001b[0m\u001b[0;34m\u001b[0m\u001b[0m\n\u001b[1;32m      3\u001b[0m \u001b[0mnum_classes\u001b[0m \u001b[0;34m=\u001b[0m \u001b[0mlen\u001b[0m\u001b[0;34m(\u001b[0m\u001b[0mpickles\u001b[0m\u001b[0;34m)\u001b[0m\u001b[0;34m\u001b[0m\u001b[0m\n\u001b[1;32m      4\u001b[0m \u001b[0mprint\u001b[0m\u001b[0;34m(\u001b[0m\u001b[0;34mf'We have {num_classes} pickles'\u001b[0m\u001b[0;34m)\u001b[0m\u001b[0;34m\u001b[0m\u001b[0m\n",
      "\u001b[0;31mNameError\u001b[0m: name 'getDatasetFolders' is not defined"
     ]
    }
   ],
   "source": [
    "pickles = getDatasetFolders('../dataset/pickle_data')\n",
    "print(datasets)\n",
    "num_classes = len(pickles)\n",
    "print(f'We have {num_classes} pickles')"
   ]
  },
  {
   "cell_type": "markdown",
   "metadata": {},
   "source": [
    "### Classes "
   ]
  },
  {
   "cell_type": "markdown",
   "metadata": {},
   "source": [
    "We have to evaluate the number of classes and how are they distributed. Also, observe which species has a higher frequency, etc.  "
   ]
  },
  {
   "cell_type": "code",
   "execution_count": 16,
   "metadata": {},
   "outputs": [
    {
     "name": "stdout",
     "output_type": "stream",
     "text": [
      "Let's see if the dataset is balanced:\n",
      "The total number of images in class Eleutherodactylus juanariveroi is: 112\n",
      "The total number of images in class Hypocnemis subflava is: 504\n",
      "The total number of images in class Basileuterus bivittatus is: 392\n",
      "The total number of images in class Megascops guatemalae is: 56\n",
      "The total number of images in class Saltator grossus is: 252\n",
      "The total number of images in class Myrmoborus leucophrys is: 420\n",
      "The total number of images in class Chlorothraupis carmioli is: 252\n",
      "The total number of images in class Eleutherodactylus cochranae is: 308\n",
      "The total number of images in class Unknown Insect is: 140\n",
      "The total number of images in class Formicarius analis is: 224\n",
      "The total number of images in class Megascops nudipes is: 336\n",
      "The total number of images in class Thamnophilus schistaceus is: 224\n",
      "The total number of images in class Liosceles thoracicus is: 364\n",
      "The total number of images in class Eleutherodactylus coqui is: 252\n",
      "The total number of images in class Epinephelus guttatus is: 364\n",
      "The total number of images in class Percnostola lophotes is: 252\n",
      "The total number of images in class Myrmeciza hemimelaena is: 1008\n",
      "The total number of images in class Eleutherodactylus brittoni is: 336\n",
      "The total number of images in class Eleutherodactylus cooki is: 420\n",
      "The total number of images in class Microcerculus marginatus is: 252\n",
      "The total number of images in class Basileuterus chrysogaster is: 140\n",
      "For the dataset to be balanced, each class should have approximately 314 images.\n",
      "\n"
     ]
    }
   ],
   "source": [
    "# Calculates the total of images per class\n",
    "def class_is_balanced(pickles):\n",
    "    total = 0\n",
    "    for pckle in pickles:\n",
    "        if (os.path.isfile(pckle)):\n",
    "            pickle_class = pickle.load(open(pckle, \"rb\"))\n",
    "        else:\n",
    "            print(\"Error reading dataset %s. Exiting.\", pickle_path)\n",
    "            return -1\n",
    "        class_name = pckle.split('/')[-1].split('.')[0]\n",
    "        print(\"The total number of images in class %s is: %d\" % (class_name, len(pickle_class)))\n",
    "        total += len(pickle_class)\n",
    "    print(\"For the dataset to be balanced, each class should have approximately %d images.\\n\" % (total / len(pickles)))\n",
    "    return (total // len(pickles))\n",
    "    \n",
    "print(\"Let's see if the dataset is balanced:\")\n",
    "balance_num = class_is_balanced(pickles)\n"
   ]
  },
  {
   "cell_type": "code",
   "execution_count": 17,
   "metadata": {},
   "outputs": [
    {
     "name": "stdout",
     "output_type": "stream",
     "text": [
      "balanced dataset is  ['../dataset/pickle_data/Hypocnemis subflava.pickle', '../dataset/pickle_data/Basileuterus bivittatus.pickle', '../dataset/pickle_data/Myrmoborus leucophrys.pickle', '../dataset/pickle_data/Megascops nudipes.pickle', '../dataset/pickle_data/Liosceles thoracicus.pickle', '../dataset/pickle_data/Epinephelus guttatus.pickle', '../dataset/pickle_data/Myrmeciza hemimelaena.pickle', '../dataset/pickle_data/Eleutherodactylus brittoni.pickle', '../dataset/pickle_data/Eleutherodactylus cooki.pickle']\n",
      "Total images are  4144\n"
     ]
    }
   ],
   "source": [
    "def getBalancedClasses(pickle_files, balanced_num):\n",
    "    pickle_paths = []\n",
    "    total = 0\n",
    "    for pckle in pickle_files:\n",
    "        if (os.path.isfile(pckle)):\n",
    "            pickle_class = pickle.load(open(pckle, \"rb\"))\n",
    "        else:\n",
    "            print(\"Error reading dataset %s. Exiting.\", pickle_path)\n",
    "            return -1\n",
    "        if (len(pickle_class) >= balance_num):\n",
    "            total += len(pickle_class)\n",
    "            pickle_paths.append(pckle)\n",
    "    return pickle_paths, total\n",
    "\n",
    "true_pickles, total_balanced = getBalancedClasses(pickles, balance_num)\n",
    "\n",
    "print(\"balanced dataset is \", true_pickles)\n",
    "print(\"Total images are \", total_balanced)"
   ]
  },
  {
   "cell_type": "code",
   "execution_count": 18,
   "metadata": {},
   "outputs": [
    {
     "name": "stdout",
     "output_type": "stream",
     "text": [
      "Largest dataset is Myrmeciza hemimelaena with 1008 images\n"
     ]
    }
   ],
   "source": [
    "def getLargestClass(pickles):\n",
    "    num_images = 0\n",
    "    class_info = []\n",
    "    for index,pckle in enumerate(pickles):\n",
    "        if (os.path.isfile(pckle)):\n",
    "            pickle_class = pickle.load(open(pckle, \"rb\"))\n",
    "        else:\n",
    "            print(\"Error reading dataset %s. Exiting.\", pickle_path)\n",
    "            return -1\n",
    "        class_name = pckle.split('/')[-1].split('.')[0]\n",
    "        if(len(pickle_class) > num_images):\n",
    "            num_images = len(pickle_class)\n",
    "            class_info = [index, class_name, num_images]\n",
    "            \n",
    "    print(\"Largest dataset is {} with {} images\".format(class_info[1], class_info[2]))\n",
    "    return class_info\n",
    "\n",
    "class_info = getLargestClass(true_pickles)"
   ]
  },
  {
   "cell_type": "code",
   "execution_count": 19,
   "metadata": {
    "collapsed": true
   },
   "outputs": [],
   "source": [
    "def findMinClass(dataset_path):\n",
    "    minm = float('inf')\n",
    "    species = ''\n",
    "    for folder in dataset_folders:\n",
    "        images= os.listdir(folder)\n",
    "        count = len(images)\n",
    "        if (count < minm): \n",
    "            minm = count\n",
    "            species = folder.split('/')[-1]\n",
    "\n",
    "    return (species, minm)"
   ]
  },
  {
   "cell_type": "code",
   "execution_count": 20,
   "metadata": {
    "scrolled": true
   },
   "outputs": [
    {
     "name": "stdout",
     "output_type": "stream",
     "text": [
      "('Megascops guatemalae', 56)\n"
     ]
    }
   ],
   "source": [
    "min_class = findMinClass(true_pickles)\n",
    "print(min_class)"
   ]
  },
  {
   "cell_type": "code",
   "execution_count": 21,
   "metadata": {
    "collapsed": true
   },
   "outputs": [],
   "source": [
    "# go through our pickles, load them, shuffle them, and choose class_size amount of the images\n",
    "def makeSubClasses(class_size, pickle_path, pickle_files):\n",
    "    \n",
    "    # create path for folder of pickles of subsets of classes\n",
    "    if not os.path.exists(pickle_path):\n",
    "        os.makedirs(pickle_path)\n",
    "    else:\n",
    "        shutil.rmtree(pickle_path)\n",
    "        os.makedirs(pickle_path)\n",
    "    \n",
    "    # list of pickles of subsets of classes\n",
    "    subclasses = []\n",
    "    \n",
    "    for pickle_file in pickle_files:\n",
    "        try:\n",
    "            with open(pickle_file, 'rb') as f:\n",
    "                name = pickle_path + pickle_file.split('/')[-1].split('.')[0] + '_subset.pickle'\n",
    "                species_set = pickle.load(f) # set of images from species\n",
    "                # let's shuffle the letters to have random subset\n",
    "                np.random.shuffle(species_set)\n",
    "                species_set = species_set[:class_size,:,:]\n",
    "                try:\n",
    "                    with open(name, 'wb') as f:\n",
    "                        pickle.dump(species_set, f, pickle.HIGHEST_PROTOCOL)\n",
    "                        subclasses.append(name)\n",
    "                except Exception as e:\n",
    "                    print('Unable to save data to', name, ':', e)\n",
    "        except Exception as e:\n",
    "            print('Unable to process data from', pickle_file, ':', e)\n",
    "            pass\n",
    "    return subclasses"
   ]
  },
  {
   "cell_type": "code",
   "execution_count": 22,
   "metadata": {
    "collapsed": true
   },
   "outputs": [],
   "source": [
    "pickle_subclasses = makeSubClasses(min_augmentation, '../dataset/subclasess_pickle_data/', pickles)"
   ]
  },
  {
   "cell_type": "markdown",
   "metadata": {},
   "source": [
    "### Training, Testing, and Validation Separation"
   ]
  },
  {
   "cell_type": "markdown",
   "metadata": {},
   "source": [
    "As with every implementation of Supervised Learning, we separate the dataset into three components. The training, the testing, and the validation dataset. "
   ]
  },
  {
   "cell_type": "code",
   "execution_count": 23,
   "metadata": {},
   "outputs": [
    {
     "name": "stdout",
     "output_type": "stream",
     "text": [
      "We have a total of 1176.\n",
      "We'll split them 60/20/20 for training, validation, and testing respectively.\n",
      "Training dataset size: 705\n",
      "Validation dataset size: 235\n",
      "Testing dataset size: 235\n"
     ]
    }
   ],
   "source": [
    "# our dataset is now balanced. calculate our training, validation, and test dataset sizes\n",
    "total_images = len(pickle_subclasses) * 56\n",
    "print(\"We have a total of {}.\".format(total_images))\n",
    "print(\"We'll split them 60/20/20 for training, validation, and testing respectively.\")\n",
    "print(\"Training dataset size: {}\".format(int(total_images*0.6)))\n",
    "print(\"Validation dataset size: {}\".format(int(total_images*0.2)))\n",
    "print(\"Testing dataset size: {}\".format(int(total_images*0.2)))"
   ]
  },
  {
   "cell_type": "code",
   "execution_count": 24,
   "metadata": {
    "collapsed": true
   },
   "outputs": [],
   "source": [
    "def make_arrays(nb_rows, img_size):\n",
    "    if nb_rows:\n",
    "        dataset = np.ndarray((nb_rows, img_size, img_size), dtype=np.float32)\n",
    "        labels = np.ndarray(nb_rows, dtype=np.int32)\n",
    "    else:\n",
    "        dataset, labels = None, None\n",
    "    return dataset, labels\n",
    "\n",
    "def merge_datasets_all(pickle_files, train_size, valid_size, test_size): # valid_size is 0 if not given as argument. \n",
    "    num_classes = len(pickle_files)\n",
    "    valid_dataset, valid_labels = make_arrays(valid_size, image_size)\n",
    "    train_dataset, train_labels = make_arrays(train_size, image_size)\n",
    "    test_dataset, test_labels = make_arrays(test_size, image_size)\n",
    "\n",
    "    vsize_per_class = valid_size // num_classes\n",
    "    tsize_per_class = train_size // num_classes\n",
    "    tesize_per_class = test_size // num_classes\n",
    "    \n",
    "    start_v, start_t, start_te = 0, 0, 0\n",
    "    end_v, end_t, end_te= vsize_per_class, tsize_per_class, tesize_per_class\n",
    "    end_l = vsize_per_class + tsize_per_class\n",
    "    end_tst = end_l + tesize_per_class\n",
    "    \n",
    "\n",
    "    for label, pickle_file in enumerate(pickle_files):\n",
    "        #print(start_v, end_v)\n",
    "        #print(start_t, end_v)\n",
    "        name = (pickle_file.split('/')[-1]).split('.')[0]\n",
    "        try:\n",
    "            with open(pickle_file, 'rb') as f:\n",
    "                species_set = pickle.load(f) # set of images from species\n",
    "                # let's shuffle the letters to have random validation and training set\n",
    "                np.random.shuffle(species_set) # shuffle the data (the \"images\") in the pickle around \n",
    "                \n",
    "\n",
    "                print(\"Valid dataset with\", name, \". Has \", len(species_set), \" images.\")\n",
    "                print(\"Needs %d images per class\" % vsize_per_class)\n",
    "                print(\"valid_species is species_set[:%d,:,:]\" % vsize_per_class)\n",
    "                valid_species = species_set[:vsize_per_class, :, :]\n",
    "                print(\"valid_dataset[%d:%d,:,:] = valid_species\" % (start_v,end_v))\n",
    "                valid_dataset[start_v:end_v, :, :] = valid_species\n",
    "                print(\"valid_labels[%d:%d] = %d\" % (start_v,end_v,label))\n",
    "                valid_labels[start_v:end_v] = label\n",
    "                start_v += vsize_per_class\n",
    "                end_v += vsize_per_class\n",
    "\n",
    "\n",
    "                print(\"Train dataset with\", name, \". Has \", len(species_set), \" images\")\n",
    "                print(\"Needs %d images per class\" % tsize_per_class)\n",
    "                print(\"train_species is species_set[%d:%d,:,:]\" % (vsize_per_class,end_l))\n",
    "                train_species = species_set[vsize_per_class:end_l, :, :]\n",
    "                print(\"train_dataset[%d:%d,:,:] = train_species\" % (start_t,end_t))\n",
    "                train_dataset[start_t:end_t, :, :] = train_species\n",
    "                print(\"train_labels[%d:%d] = %d\" % (start_t,end_t,label))\n",
    "                train_labels[start_t:end_t] = label # give label to all images in class    \n",
    "                start_t += tsize_per_class # offset start of class for next iteration \n",
    "                end_t += tsize_per_class # offset end of class for next iteration\n",
    "                \n",
    "                print(\"Test dataset with\", name, \". Has \", len(species_set), \" images\")\n",
    "                print(\"Needs %d images per class\" % tesize_per_class)\n",
    "                print(\"test_species is species_set[%d:%d,:,:]\" % (end_l, end_te))\n",
    "                test_species = species_set[end_l:end_tst, :, :]\n",
    "                print(\"test_dataset[%d:%d,:,:] = test_species\" % (start_te,end_te))\n",
    "                test_dataset[start_te:end_te, :, :] = test_species\n",
    "                print(\"test_labels[%d:%d] = %d\" % (start_te,end_te,label))\n",
    "                test_labels[start_te:end_te] = label # give label to all images in class\n",
    "                start_te += tesize_per_class # offset start of class for next iteration \n",
    "                end_te += tesize_per_class # offset end of class for next iteration\n",
    "                \n",
    "        except Exception as e:\n",
    "            print('Unable to process data from', pickle_file, ':', e)\n",
    "            pass\n",
    "    \n",
    "    return valid_dataset, valid_labels, train_dataset, train_labels, test_dataset, test_labels"
   ]
  },
  {
   "cell_type": "code",
   "execution_count": 25,
   "metadata": {},
   "outputs": [
    {
     "name": "stdout",
     "output_type": "stream",
     "text": [
      "Valid dataset with Eleutherodactylus juanariveroi_subset . Has  56  images.\n",
      "Needs 11 images per class\n",
      "valid_species is species_set[:11,:,:]\n",
      "valid_dataset[0:11,:,:] = valid_species\n",
      "valid_labels[0:11] = 0\n",
      "Train dataset with Eleutherodactylus juanariveroi_subset . Has  56  images\n",
      "Needs 33 images per class\n",
      "train_species is species_set[11:44,:,:]\n",
      "train_dataset[0:33,:,:] = train_species\n",
      "train_labels[0:33] = 0\n",
      "Test dataset with Eleutherodactylus juanariveroi_subset . Has  56  images\n",
      "Needs 11 images per class\n",
      "test_species is species_set[44:11,:,:]\n",
      "test_dataset[0:11,:,:] = test_species\n",
      "test_labels[0:11] = 0\n",
      "Valid dataset with Hypocnemis subflava_subset . Has  56  images.\n",
      "Needs 11 images per class\n",
      "valid_species is species_set[:11,:,:]\n",
      "valid_dataset[11:22,:,:] = valid_species\n",
      "valid_labels[11:22] = 1\n",
      "Train dataset with Hypocnemis subflava_subset . Has  56  images\n",
      "Needs 33 images per class\n",
      "train_species is species_set[11:44,:,:]\n",
      "train_dataset[33:66,:,:] = train_species\n",
      "train_labels[33:66] = 1\n",
      "Test dataset with Hypocnemis subflava_subset . Has  56  images\n",
      "Needs 11 images per class\n",
      "test_species is species_set[44:22,:,:]\n",
      "test_dataset[11:22,:,:] = test_species\n",
      "test_labels[11:22] = 1\n",
      "Valid dataset with Basileuterus bivittatus_subset . Has  56  images.\n",
      "Needs 11 images per class\n",
      "valid_species is species_set[:11,:,:]\n",
      "valid_dataset[22:33,:,:] = valid_species\n",
      "valid_labels[22:33] = 2\n",
      "Train dataset with Basileuterus bivittatus_subset . Has  56  images\n",
      "Needs 33 images per class\n",
      "train_species is species_set[11:44,:,:]\n",
      "train_dataset[66:99,:,:] = train_species\n",
      "train_labels[66:99] = 2\n",
      "Test dataset with Basileuterus bivittatus_subset . Has  56  images\n",
      "Needs 11 images per class\n",
      "test_species is species_set[44:33,:,:]\n",
      "test_dataset[22:33,:,:] = test_species\n",
      "test_labels[22:33] = 2\n",
      "Valid dataset with Megascops guatemalae_subset . Has  56  images.\n",
      "Needs 11 images per class\n",
      "valid_species is species_set[:11,:,:]\n",
      "valid_dataset[33:44,:,:] = valid_species\n",
      "valid_labels[33:44] = 3\n",
      "Train dataset with Megascops guatemalae_subset . Has  56  images\n",
      "Needs 33 images per class\n",
      "train_species is species_set[11:44,:,:]\n",
      "train_dataset[99:132,:,:] = train_species\n",
      "train_labels[99:132] = 3\n",
      "Test dataset with Megascops guatemalae_subset . Has  56  images\n",
      "Needs 11 images per class\n",
      "test_species is species_set[44:44,:,:]\n",
      "test_dataset[33:44,:,:] = test_species\n",
      "test_labels[33:44] = 3\n",
      "Valid dataset with Saltator grossus_subset . Has  56  images.\n",
      "Needs 11 images per class\n",
      "valid_species is species_set[:11,:,:]\n",
      "valid_dataset[44:55,:,:] = valid_species\n",
      "valid_labels[44:55] = 4\n",
      "Train dataset with Saltator grossus_subset . Has  56  images\n",
      "Needs 33 images per class\n",
      "train_species is species_set[11:44,:,:]\n",
      "train_dataset[132:165,:,:] = train_species\n",
      "train_labels[132:165] = 4\n",
      "Test dataset with Saltator grossus_subset . Has  56  images\n",
      "Needs 11 images per class\n",
      "test_species is species_set[44:55,:,:]\n",
      "test_dataset[44:55,:,:] = test_species\n",
      "test_labels[44:55] = 4\n",
      "Valid dataset with Myrmoborus leucophrys_subset . Has  56  images.\n",
      "Needs 11 images per class\n",
      "valid_species is species_set[:11,:,:]\n",
      "valid_dataset[55:66,:,:] = valid_species\n",
      "valid_labels[55:66] = 5\n",
      "Train dataset with Myrmoborus leucophrys_subset . Has  56  images\n",
      "Needs 33 images per class\n",
      "train_species is species_set[11:44,:,:]\n",
      "train_dataset[165:198,:,:] = train_species\n",
      "train_labels[165:198] = 5\n",
      "Test dataset with Myrmoborus leucophrys_subset . Has  56  images\n",
      "Needs 11 images per class\n",
      "test_species is species_set[44:66,:,:]\n",
      "test_dataset[55:66,:,:] = test_species\n",
      "test_labels[55:66] = 5\n",
      "Valid dataset with Chlorothraupis carmioli_subset . Has  56  images.\n",
      "Needs 11 images per class\n",
      "valid_species is species_set[:11,:,:]\n",
      "valid_dataset[66:77,:,:] = valid_species\n",
      "valid_labels[66:77] = 6\n",
      "Train dataset with Chlorothraupis carmioli_subset . Has  56  images\n",
      "Needs 33 images per class\n",
      "train_species is species_set[11:44,:,:]\n",
      "train_dataset[198:231,:,:] = train_species\n",
      "train_labels[198:231] = 6\n",
      "Test dataset with Chlorothraupis carmioli_subset . Has  56  images\n",
      "Needs 11 images per class\n",
      "test_species is species_set[44:77,:,:]\n",
      "test_dataset[66:77,:,:] = test_species\n",
      "test_labels[66:77] = 6\n",
      "Valid dataset with Eleutherodactylus cochranae_subset . Has  56  images.\n",
      "Needs 11 images per class\n",
      "valid_species is species_set[:11,:,:]\n",
      "valid_dataset[77:88,:,:] = valid_species\n",
      "valid_labels[77:88] = 7\n",
      "Train dataset with Eleutherodactylus cochranae_subset . Has  56  images\n",
      "Needs 33 images per class\n",
      "train_species is species_set[11:44,:,:]\n",
      "train_dataset[231:264,:,:] = train_species\n",
      "train_labels[231:264] = 7\n",
      "Test dataset with Eleutherodactylus cochranae_subset . Has  56  images\n",
      "Needs 11 images per class\n",
      "test_species is species_set[44:88,:,:]\n",
      "test_dataset[77:88,:,:] = test_species\n",
      "test_labels[77:88] = 7\n",
      "Valid dataset with Unknown Insect_subset . Has  56  images.\n",
      "Needs 11 images per class\n",
      "valid_species is species_set[:11,:,:]\n",
      "valid_dataset[88:99,:,:] = valid_species\n",
      "valid_labels[88:99] = 8\n",
      "Train dataset with Unknown Insect_subset . Has  56  images\n",
      "Needs 33 images per class\n",
      "train_species is species_set[11:44,:,:]\n",
      "train_dataset[264:297,:,:] = train_species\n",
      "train_labels[264:297] = 8\n",
      "Test dataset with Unknown Insect_subset . Has  56  images\n",
      "Needs 11 images per class\n",
      "test_species is species_set[44:99,:,:]\n",
      "test_dataset[88:99,:,:] = test_species\n",
      "test_labels[88:99] = 8\n",
      "Valid dataset with Formicarius analis_subset . Has  56  images.\n",
      "Needs 11 images per class\n",
      "valid_species is species_set[:11,:,:]\n",
      "valid_dataset[99:110,:,:] = valid_species\n",
      "valid_labels[99:110] = 9\n",
      "Train dataset with Formicarius analis_subset . Has  56  images\n",
      "Needs 33 images per class\n",
      "train_species is species_set[11:44,:,:]\n",
      "train_dataset[297:330,:,:] = train_species\n",
      "train_labels[297:330] = 9\n",
      "Test dataset with Formicarius analis_subset . Has  56  images\n",
      "Needs 11 images per class\n",
      "test_species is species_set[44:110,:,:]\n",
      "test_dataset[99:110,:,:] = test_species\n",
      "test_labels[99:110] = 9\n",
      "Valid dataset with Megascops nudipes_subset . Has  56  images.\n",
      "Needs 11 images per class\n",
      "valid_species is species_set[:11,:,:]\n",
      "valid_dataset[110:121,:,:] = valid_species\n",
      "valid_labels[110:121] = 10\n",
      "Train dataset with Megascops nudipes_subset . Has  56  images\n",
      "Needs 33 images per class\n",
      "train_species is species_set[11:44,:,:]\n",
      "train_dataset[330:363,:,:] = train_species\n",
      "train_labels[330:363] = 10\n",
      "Test dataset with Megascops nudipes_subset . Has  56  images\n",
      "Needs 11 images per class\n",
      "test_species is species_set[44:121,:,:]\n",
      "test_dataset[110:121,:,:] = test_species\n",
      "test_labels[110:121] = 10\n",
      "Valid dataset with Thamnophilus schistaceus_subset . Has  56  images.\n",
      "Needs 11 images per class\n",
      "valid_species is species_set[:11,:,:]\n",
      "valid_dataset[121:132,:,:] = valid_species\n",
      "valid_labels[121:132] = 11\n",
      "Train dataset with Thamnophilus schistaceus_subset . Has  56  images\n",
      "Needs 33 images per class\n",
      "train_species is species_set[11:44,:,:]\n",
      "train_dataset[363:396,:,:] = train_species\n",
      "train_labels[363:396] = 11\n",
      "Test dataset with Thamnophilus schistaceus_subset . Has  56  images\n",
      "Needs 11 images per class\n",
      "test_species is species_set[44:132,:,:]\n",
      "test_dataset[121:132,:,:] = test_species\n",
      "test_labels[121:132] = 11\n",
      "Valid dataset with Liosceles thoracicus_subset . Has  56  images.\n",
      "Needs 11 images per class\n",
      "valid_species is species_set[:11,:,:]\n",
      "valid_dataset[132:143,:,:] = valid_species\n",
      "valid_labels[132:143] = 12\n",
      "Train dataset with Liosceles thoracicus_subset . Has  56  images\n",
      "Needs 33 images per class\n",
      "train_species is species_set[11:44,:,:]\n",
      "train_dataset[396:429,:,:] = train_species\n",
      "train_labels[396:429] = 12\n",
      "Test dataset with Liosceles thoracicus_subset . Has  56  images\n",
      "Needs 11 images per class\n",
      "test_species is species_set[44:143,:,:]\n",
      "test_dataset[132:143,:,:] = test_species\n",
      "test_labels[132:143] = 12\n",
      "Valid dataset with Eleutherodactylus coqui_subset . Has  56  images.\n",
      "Needs 11 images per class\n",
      "valid_species is species_set[:11,:,:]\n",
      "valid_dataset[143:154,:,:] = valid_species\n",
      "valid_labels[143:154] = 13\n",
      "Train dataset with Eleutherodactylus coqui_subset . Has  56  images\n",
      "Needs 33 images per class\n",
      "train_species is species_set[11:44,:,:]\n",
      "train_dataset[429:462,:,:] = train_species\n",
      "train_labels[429:462] = 13\n",
      "Test dataset with Eleutherodactylus coqui_subset . Has  56  images\n",
      "Needs 11 images per class\n",
      "test_species is species_set[44:154,:,:]\n",
      "test_dataset[143:154,:,:] = test_species\n",
      "test_labels[143:154] = 13\n",
      "Valid dataset with Epinephelus guttatus_subset . Has  56  images.\n",
      "Needs 11 images per class\n",
      "valid_species is species_set[:11,:,:]\n",
      "valid_dataset[154:165,:,:] = valid_species\n",
      "valid_labels[154:165] = 14\n",
      "Train dataset with Epinephelus guttatus_subset . Has  56  images\n",
      "Needs 33 images per class\n",
      "train_species is species_set[11:44,:,:]\n",
      "train_dataset[462:495,:,:] = train_species\n",
      "train_labels[462:495] = 14\n",
      "Test dataset with Epinephelus guttatus_subset . Has  56  images\n",
      "Needs 11 images per class\n",
      "test_species is species_set[44:165,:,:]\n",
      "test_dataset[154:165,:,:] = test_species\n",
      "test_labels[154:165] = 14\n",
      "Valid dataset with Percnostola lophotes_subset . Has  56  images.\n",
      "Needs 11 images per class\n",
      "valid_species is species_set[:11,:,:]\n",
      "valid_dataset[165:176,:,:] = valid_species\n",
      "valid_labels[165:176] = 15\n",
      "Train dataset with Percnostola lophotes_subset . Has  56  images\n",
      "Needs 33 images per class\n",
      "train_species is species_set[11:44,:,:]\n",
      "train_dataset[495:528,:,:] = train_species\n",
      "train_labels[495:528] = 15\n",
      "Test dataset with Percnostola lophotes_subset . Has  56  images\n",
      "Needs 11 images per class\n",
      "test_species is species_set[44:176,:,:]\n",
      "test_dataset[165:176,:,:] = test_species\n",
      "test_labels[165:176] = 15\n",
      "Valid dataset with Myrmeciza hemimelaena_subset . Has  56  images.\n",
      "Needs 11 images per class\n",
      "valid_species is species_set[:11,:,:]\n",
      "valid_dataset[176:187,:,:] = valid_species\n",
      "valid_labels[176:187] = 16\n",
      "Train dataset with Myrmeciza hemimelaena_subset . Has  56  images\n",
      "Needs 33 images per class\n",
      "train_species is species_set[11:44,:,:]\n",
      "train_dataset[528:561,:,:] = train_species\n",
      "train_labels[528:561] = 16\n",
      "Test dataset with Myrmeciza hemimelaena_subset . Has  56  images\n",
      "Needs 11 images per class\n",
      "test_species is species_set[44:187,:,:]\n",
      "test_dataset[176:187,:,:] = test_species\n",
      "test_labels[176:187] = 16\n",
      "Valid dataset with Eleutherodactylus brittoni_subset . Has  56  images.\n",
      "Needs 11 images per class\n",
      "valid_species is species_set[:11,:,:]\n",
      "valid_dataset[187:198,:,:] = valid_species\n",
      "valid_labels[187:198] = 17\n",
      "Train dataset with Eleutherodactylus brittoni_subset . Has  56  images\n",
      "Needs 33 images per class\n",
      "train_species is species_set[11:44,:,:]\n",
      "train_dataset[561:594,:,:] = train_species\n",
      "train_labels[561:594] = 17\n",
      "Test dataset with Eleutherodactylus brittoni_subset . Has  56  images\n",
      "Needs 11 images per class\n",
      "test_species is species_set[44:198,:,:]\n",
      "test_dataset[187:198,:,:] = test_species\n",
      "test_labels[187:198] = 17\n",
      "Valid dataset with Eleutherodactylus cooki_subset . Has  56  images.\n",
      "Needs 11 images per class\n",
      "valid_species is species_set[:11,:,:]\n",
      "valid_dataset[198:209,:,:] = valid_species\n",
      "valid_labels[198:209] = 18\n",
      "Train dataset with Eleutherodactylus cooki_subset . Has  56  images\n",
      "Needs 33 images per class\n",
      "train_species is species_set[11:44,:,:]\n",
      "train_dataset[594:627,:,:] = train_species\n",
      "train_labels[594:627] = 18\n",
      "Test dataset with Eleutherodactylus cooki_subset . Has  56  images\n",
      "Needs 11 images per class\n",
      "test_species is species_set[44:209,:,:]\n",
      "test_dataset[198:209,:,:] = test_species\n",
      "test_labels[198:209] = 18\n",
      "Valid dataset with Microcerculus marginatus_subset . Has  56  images.\n",
      "Needs 11 images per class\n",
      "valid_species is species_set[:11,:,:]\n",
      "valid_dataset[209:220,:,:] = valid_species\n",
      "valid_labels[209:220] = 19\n",
      "Train dataset with Microcerculus marginatus_subset . Has  56  images\n",
      "Needs 33 images per class\n",
      "train_species is species_set[11:44,:,:]\n",
      "train_dataset[627:660,:,:] = train_species\n",
      "train_labels[627:660] = 19\n",
      "Test dataset with Microcerculus marginatus_subset . Has  56  images\n",
      "Needs 11 images per class\n",
      "test_species is species_set[44:220,:,:]\n",
      "test_dataset[209:220,:,:] = test_species\n",
      "test_labels[209:220] = 19\n",
      "Valid dataset with Basileuterus chrysogaster_subset . Has  56  images.\n",
      "Needs 11 images per class\n",
      "valid_species is species_set[:11,:,:]\n",
      "valid_dataset[220:231,:,:] = valid_species\n",
      "valid_labels[220:231] = 20\n",
      "Train dataset with Basileuterus chrysogaster_subset . Has  56  images\n",
      "Needs 33 images per class\n",
      "train_species is species_set[11:44,:,:]\n",
      "train_dataset[660:693,:,:] = train_species\n",
      "train_labels[660:693] = 20\n",
      "Test dataset with Basileuterus chrysogaster_subset . Has  56  images\n",
      "Needs 11 images per class\n",
      "test_species is species_set[44:231,:,:]\n",
      "test_dataset[220:231,:,:] = test_species\n",
      "test_labels[220:231] = 20\n"
     ]
    }
   ],
   "source": [
    "train_size = int(total_images * 0.6)\n",
    "valid_size = int(total_images * 0.2)\n",
    "test_size = int(total_images * 0.2)\n",
    "valid_dataset, valid_labels, train_dataset, train_labels, test_dataset, test_labels = merge_datasets_all(pickle_subclasses, train_size, valid_size, test_size)\n"
   ]
  },
  {
   "cell_type": "code",
   "execution_count": 26,
   "metadata": {
    "collapsed": true
   },
   "outputs": [],
   "source": [
    "# create dataset when dataset is not balanced, but want to use entire dataset\n",
    "def merge_datasets_forced(pickle_files, train_size, valid_size=0): # valid_size is 0 if not given as argument. \n",
    "    num_classes = len(pickle_files)\n",
    "    valid_dataset, valid_labels = make_arrays(valid_size, image_size)\n",
    "    train_dataset, train_labels = make_arrays(train_size, image_size)\n",
    "\n",
    "    vsize_per_class = valid_size // num_classes\n",
    "    tsize_per_class = train_size // num_classes\n",
    "\n",
    "    start_v, start_t = 0, 0\n",
    "    end_v, end_t = vsize_per_class, tsize_per_class\n",
    "    end_l = vsize_per_class+tsize_per_class\n",
    "\n",
    "    for label, pickle_file in enumerate(pickle_files):\n",
    "        #print(start_v, end_v)\n",
    "        #print(start_t, end_v)\n",
    "        name = (pickle_file.split('/')[-1]).split('.')[0]\n",
    "        try:\n",
    "            with open(pickle_file, 'rb') as f:\n",
    "                species_set = pickle.load(f) # set of images from species\n",
    "                if(len(species_set) < (tsize_per_class + vsize_per_class)):\n",
    "                    # since our dataset is not balanced we need to make sure\n",
    "                    # we're not taking more images than we have or dimmensions will not match\n",
    "                    # reset our ends to previous state, calculate new images_per_class, and \n",
    "                    # calculate new ends\n",
    "                    \n",
    "                    end_v -= vsize_per_class\n",
    "                    end_t -= tsize_per_class \n",
    "                    \n",
    "                    tsize_per_class = len(species_set) // 2\n",
    "                    vsize_per_class = len(species_set) // 2\n",
    "                    \n",
    "                    end_v += vsize_per_class\n",
    "                    end_t += tsize_per_class\n",
    "                    end_l = vsize_per_class+tsize_per_class \n",
    "                    \n",
    "                    \n",
    "                    \n",
    "                    # let's shuffle the letters to have random validation and training set\n",
    "                    np.random.shuffle(species_set) # shuffle the data (the \"images\") in the pickle around \n",
    "                    if valid_dataset is not None: # if not testing dataset \n",
    "\n",
    "                        print(\"Valid dataset with\", name, \". Has \", len(species_set), \" images.\")\n",
    "                        print(\"Needs %d images per class\" % vsize_per_class)\n",
    "                        print(\"valid_species is species_set[:%d,:,:]\" % vsize_per_class)\n",
    "                        valid_species = species_set[:vsize_per_class, :, :,:]\n",
    "                        print(\"valid_dataset[%d:%d,:,:] = valid_species\" % (start_v,end_v))\n",
    "                        valid_dataset[start_v:end_v, :, :,:] = valid_species\n",
    "                        print(\"valid_labels[%d:%d] = %d\" % (start_v,end_v,label))\n",
    "                        valid_labels[start_v:end_v] = label\n",
    "                        \n",
    "                        # increment our start by how many images we used for this class\n",
    "                        start_v += vsize_per_class\n",
    "                        # assume next class will have the required images_per_class\n",
    "                        end_v += (valid_size // num_classes)\n",
    "                    \n",
    "                        # can't reset vsize_per_class here since \n",
    "                        # the training dataset needs it's current state\n",
    "                    \n",
    "                    print(\"Train dataset with\", name, \". Has \", len(species_set), \" images\")\n",
    "                    print(\"Needs %d images per class\" % tsize_per_class)\n",
    "                    print(\"train_species is species_set[%d:%d,:,:]\" % (vsize_per_class,end_l))\n",
    "                    train_species = species_set[vsize_per_class:end_l, :, :,:]\n",
    "                    print(\"train_dataset[%d:%d,:,:] = train_species\" % (start_t,end_t))\n",
    "                    train_dataset[start_t:end_t, :, :,:] = train_species\n",
    "                    print(\"train_labels[%d:%d] = %d\" % (start_t,end_t,label))\n",
    "                    train_labels[start_t:end_t] = label # give label to all images in class\n",
    "                    \n",
    "                    # increment our start by how many images we used for this class\n",
    "                    start_t += tsize_per_class \n",
    "                    # assume next round will have required images_per_class\n",
    "                    tsize_per_class = train_size // num_classes\n",
    "                    end_t += tsize_per_class # offset end of class for next iteration\n",
    "                    vsize_per_class = valid_size // num_classes\n",
    "                    end_l = vsize_per_class+tsize_per_class\n",
    "                    \n",
    "                    \n",
    "                else: # we have enough images in this class to use our desired imgs_per_class\n",
    "                    \n",
    "                    \n",
    "                    tsize_per_class = train_size // num_classes\n",
    "                    vsize_per_class = valid_size // num_classes\n",
    "                    end_l = vsize_per_class+tsize_per_class\n",
    "                    \n",
    "                \n",
    "                    # let's shuffle the letters to have random validation and training set\n",
    "                    np.random.shuffle(species_set) # shuffle the data (the \"images\") in the pickle around \n",
    "                    if valid_dataset is not None: # if not testing dataset \n",
    "\n",
    "                        print(\"Valid dataset with\", name, \". Has \", len(species_set), \" images.\")\n",
    "                        print(\"Needs %d images per class\" % vsize_per_class)\n",
    "                        print(\"valid_species is species_set[:%d,:,:]\" % vsize_per_class)\n",
    "                        valid_species = species_set[:vsize_per_class, :, :,:]\n",
    "                        print(\"valid_dataset[%d:%d,:,:] = valid_species\" % (start_v,end_v))\n",
    "                        valid_dataset[start_v:end_v, :, :,:] = valid_species\n",
    "                        print(\"valid_labels[%d:%d] = %d\" % (start_v,end_v,label))\n",
    "                        valid_labels[start_v:end_v] = label\n",
    "                        start_v += vsize_per_class\n",
    "                        end_v += vsize_per_class\n",
    "\n",
    "\n",
    "                    print(\"Train dataset with\", name, \". Has \", len(species_set), \" images\")\n",
    "                    print(\"Needs %d images per class\" % tsize_per_class)\n",
    "                    print(\"train_species is species_set[%d:%d,:,:]\" % (vsize_per_class,end_l))\n",
    "                    train_species = species_set[vsize_per_class:end_l, :, :,:]\n",
    "                    print(\"train_dataset[%d:%d,:,:] = train_species\" % (start_t,end_t))\n",
    "                    train_dataset[start_t:end_t, :, :,:] = train_species\n",
    "                    print(\"train_labels[%d:%d] = %d\" % (start_t,end_t,label))\n",
    "                    train_labels[start_t:end_t] = label # give label to all images in class\n",
    "                    \n",
    "                    \n",
    "                    \n",
    "                    start_t += tsize_per_class # offset start of class for next iteration \n",
    "                    end_t += tsize_per_class # offset end of class for next iteration\n",
    "\n",
    "        except Exception as e:\n",
    "            print('Unable to process data from', pickle_file, ':', e)\n",
    "            raise\n",
    "        print()\n",
    "    \n",
    "    return valid_dataset, valid_labels, train_dataset, train_labels"
   ]
  },
  {
   "cell_type": "code",
   "execution_count": 27,
   "metadata": {
    "collapsed": true
   },
   "outputs": [],
   "source": [
    "def genLabelMap(pickle_files):\n",
    "    label_map = {}\n",
    "    for label, pickle_file in enumerate(pickle_files):\n",
    "        name = (pickle_file.split('/')[-1]).split('.')[0]\n",
    "        label_map[label] = name\n",
    "    return label_map\n",
    "\n",
    "def sampleCheck(dataset, labels, label_map):\n",
    "    i = random.randint(1, 5)\n",
    "    for p_i, img in enumerate(random.sample(range(len(labels)), 5*i)):\n",
    "        plt.subplot(i, 5, p_i+1)\n",
    "        plt.axis('off')\n",
    "        label = labels[img]\n",
    "        species = label_map[label]\n",
    "        #print(species)\n",
    "        title =  species + ' sample:'\n",
    "        plt.title(title)\n",
    "        plt.imshow(dataset[img])\n",
    "        plt.show()"
   ]
  },
  {
   "cell_type": "code",
   "execution_count": 28,
   "metadata": {},
   "outputs": [
    {
     "data": {
      "image/png": "[encoded data removed]",
      "text/plain": [
       "<matplotlib.figure.Figure at 0x7f3372195160>"
      ]
     },
     "metadata": {},
     "output_type": "display_data"
    },
    {
     "data": {
      "image/png": "[encoded data removed]",
      "text/plain": [
       "<matplotlib.figure.Figure at 0x7f33333934a8>"
      ]
     },
     "metadata": {},
     "output_type": "display_data"
    },
    {
     "data": {
      "image/png": "[encoded data removed]",
      "text/plain": [
       "<matplotlib.figure.Figure at 0x7f33414c8668>"
      ]
     },
     "metadata": {},
     "output_type": "display_data"
    },
    {
     "data": {
      "image/png": "[encoded data removed]",
      "text/plain": [
       "<matplotlib.figure.Figure at 0x7f332ffb7550>"
      ]
     },
     "metadata": {},
     "output_type": "display_data"
    },
    {
     "data": {
      "image/png": "[encoded data removed]",
      "text/plain": [
       "<matplotlib.figure.Figure at 0x7f332fff87b8>"
      ]
     },
     "metadata": {},
     "output_type": "display_data"
    },
    {
     "data": {
      "image/png": "[encoded data removed]",
      "text/plain": [
       "<matplotlib.figure.Figure at 0x7f33414c8be0>"
      ]
     },
     "metadata": {},
     "output_type": "display_data"
    },
    {
     "data": {
      "image/png": "[encoded data removed]",
      "text/plain": [
       "<matplotlib.figure.Figure at 0x7f333338af60>"
      ]
     },
     "metadata": {},
     "output_type": "display_data"
    },
    {
     "data": {
      "image/png": "[encoded data removed]",
      "text/plain": [
       "<matplotlib.figure.Figure at 0x7f333005f780>"
      ]
     },
     "metadata": {},
     "output_type": "display_data"
    },
    {
     "data": {
      "image/png": "[encoded data removed]",
      "text/plain": [
       "<matplotlib.figure.Figure at 0x7f332ff48710>"
      ]
     },
     "metadata": {},
     "output_type": "display_data"
    },
    {
     "data": {
      "image/png": "[encoded data removed]",
      "text/plain": [
       "<matplotlib.figure.Figure at 0x7f332ff08240>"
      ]
     },
     "metadata": {},
     "output_type": "display_data"
    },
    {
     "data": {
      "image/png": "[encoded data removed]",
      "text/plain": [
       "<matplotlib.figure.Figure at 0x7f333000cdd8>"
      ]
     },
     "metadata": {},
     "output_type": "display_data"
    },
    {
     "data": {
      "image/png": "[encoded data removed]",
      "text/plain": [
       "<matplotlib.figure.Figure at 0x7f332ffd2f60>"
      ]
     },
     "metadata": {},
     "output_type": "display_data"
    },
    {
     "data": {
      "image/png": "[encoded data removed]",
      "text/plain": [
       "<matplotlib.figure.Figure at 0x7f332fe56470>"
      ]
     },
     "metadata": {},
     "output_type": "display_data"
    },
    {
     "data": {
      "image/png": "[encoded data removed]",
      "text/plain": [
       "<matplotlib.figure.Figure at 0x7f332fff8780>"
      ]
     },
     "metadata": {},
     "output_type": "display_data"
    },
    {
     "data": {
      "image/png": "[encoded data removed]",
      "text/plain": [
       "<matplotlib.figure.Figure at 0x7f332fde82b0>"
      ]
     },
     "metadata": {},
     "output_type": "display_data"
    },
    {
     "data": {
      "image/png": "[encoded data removed]",
      "text/plain": [
       "<matplotlib.figure.Figure at 0x7f332fdad320>"
      ]
     },
     "metadata": {},
     "output_type": "display_data"
    },
    {
     "data": {
      "image/png": "[encoded data removed]",
      "text/plain": [
       "<matplotlib.figure.Figure at 0x7f332fcf0438>"
      ]
     },
     "metadata": {},
     "output_type": "display_data"
    },
    {
     "data": {
      "image/png": "[encoded data removed]",
      "text/plain": [
       "<matplotlib.figure.Figure at 0x7f332fd20e10>"
      ]
     },
     "metadata": {},
     "output_type": "display_data"
    },
    {
     "data": {
      "image/png": "[encoded data removed]",
      "text/plain": [
       "<matplotlib.figure.Figure at 0x7f332fd7bbe0>"
      ]
     },
     "metadata": {},
     "output_type": "display_data"
    },
    {
     "data": {
      "image/png": "[encoded data removed]",
      "text/plain": [
       "<matplotlib.figure.Figure at 0x7f332fe687f0>"
      ]
     },
     "metadata": {},
     "output_type": "display_data"
    }
   ],
   "source": [
    "label_map = genLabelMap(pickle_subclasses)\n",
    "sampleCheck(train_dataset, train_labels,label_map)"
   ]
  },
  {
   "cell_type": "markdown",
   "metadata": {},
   "source": [
    "### Output Data"
   ]
  },
  {
   "cell_type": "markdown",
   "metadata": {},
   "source": [
    "We output the data in a pickle format, to be used next on the models. "
   ]
  },
  {
   "cell_type": "code",
   "execution_count": 29,
   "metadata": {
    "collapsed": true
   },
   "outputs": [],
   "source": [
    "pickle_file = '../dataset/arbimon_VGG.pickle'\n",
    "\n",
    "try:\n",
    "  f = open(pickle_file, 'wb')\n",
    "  save = {\n",
    "    'train_dataset': train_dataset,\n",
    "    'train_labels': train_labels,\n",
    "    'valid_dataset': valid_dataset,\n",
    "    'valid_labels': valid_labels,\n",
    "    'test_dataset': test_dataset,\n",
    "    'test_labels': test_labels,\n",
    "    } \n",
    "  pickle.dump(save, f, pickle.HIGHEST_PROTOCOL) # save all out datasets in one pickle \n",
    "  f.close()\n",
    "except Exception as e:\n",
    "  print('Unable to save data to', pickle_file, ':', e)\n",
    "  raise"
   ]
  }
 ],
 "metadata": {
  "kernelspec": {
   "display_name": "Python 3",
   "language": "python",
   "name": "python3"
  },
  "language_info": {
   "codemirror_mode": {
    "name": "ipython",
    "version": 3
   },
   "file_extension": ".py",
   "mimetype": "text/x-python",
   "name": "python",
   "nbconvert_exporter": "python",
   "pygments_lexer": "ipython3",
   "version": "3.6.3"
  }
 },
 "nbformat": 4,
 "nbformat_minor": 2
}
