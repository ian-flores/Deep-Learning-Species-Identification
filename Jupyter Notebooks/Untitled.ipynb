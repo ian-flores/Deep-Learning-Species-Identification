{
 "cells": [
  {
   "cell_type": "code",
   "execution_count": 1,
   "metadata": {
    "collapsed": true
   },
   "outputs": [],
   "source": [
    "import numpy as np\n",
    "import matplotlib.pyplot as plt\n",
    "import matplotlib\n",
    "%matplotlib inline"
   ]
  },
  {
   "cell_type": "code",
   "execution_count": 2,
   "metadata": {},
   "outputs": [
    {
     "data": {
      "text/plain": [
       "((50000, 8, 8), (50000, 1, 4))"
      ]
     },
     "execution_count": 2,
     "metadata": {},
     "output_type": "execute_result"
    }
   ],
   "source": [
    "# Create images with random rectangles and bounding boxes. \n",
    "num_imgs = 50000\n",
    "\n",
    "img_size = 8\n",
    "min_object_size = 1\n",
    "max_object_size = 4\n",
    "num_objects = 1\n",
    "\n",
    "bboxes = np.zeros((num_imgs, num_objects, 4))\n",
    "imgs = np.zeros((num_imgs, img_size, img_size))  # set background to 0\n",
    "\n",
    "for i_img in range(num_imgs):\n",
    "    for i_object in range(num_objects):\n",
    "        w, h = np.random.randint(min_object_size, max_object_size, size=2)\n",
    "        x = np.random.randint(0, img_size - w)\n",
    "        y = np.random.randint(0, img_size - h)\n",
    "        imgs[i_img, x:x+w, y:y+h] = 1.  # set rectangle to 1\n",
    "        bboxes[i_img, i_object] = [x, y, w, h]\n",
    "        \n",
    "imgs.shape, bboxes.shape"
   ]
  },
  {
   "cell_type": "code",
   "execution_count": 4,
   "metadata": {},
   "outputs": [
    {
     "data": {
      "text/plain": [
       "array([[ 0.,  0.,  0.,  0.,  0.,  0.,  0.,  0.],\n",
       "       [ 0.,  1.,  0.,  0.,  0.,  0.,  0.,  0.],\n",
       "       [ 0.,  1.,  0.,  0.,  0.,  0.,  0.,  0.],\n",
       "       [ 0.,  1.,  0.,  0.,  0.,  0.,  0.,  0.],\n",
       "       [ 0.,  0.,  0.,  0.,  0.,  0.,  0.,  0.],\n",
       "       [ 0.,  0.,  0.,  0.,  0.,  0.,  0.,  0.],\n",
       "       [ 0.,  0.,  0.,  0.,  0.,  0.,  0.,  0.],\n",
       "       [ 0.,  0.,  0.,  0.,  0.,  0.,  0.,  0.]])"
      ]
     },
     "execution_count": 4,
     "metadata": {},
     "output_type": "execute_result"
    }
   ],
   "source": [
    "imgs[0]"
   ]
  },
  {
   "cell_type": "code",
   "execution_count": 4,
   "metadata": {},
   "outputs": [
    {
     "data": {
      "image/png": "[encoded data removed]",
      "text/plain": [
       "<matplotlib.figure.Figure at 0x7f888cae9438>"
      ]
     },
     "metadata": {},
     "output_type": "display_data"
    }
   ],
   "source": [
    "i = 0\n",
    "plt.imshow(imgs[i].T, cmap='Greys', interpolation='none', origin='lower', extent=[0, img_size, 0, img_size])\n",
    "for bbox in bboxes[i]:\n",
    "    plt.gca().add_patch(matplotlib.patches.Rectangle((bbox[0], bbox[1]), bbox[2], bbox[3], ec='r', fc='none'))"
   ]
  },
  {
   "cell_type": "code",
   "execution_count": 5,
   "metadata": {},
   "outputs": [
    {
     "data": {
      "text/plain": [
       "((50000, 64), 5.3876902939009595e-17, 1.0)"
      ]
     },
     "execution_count": 5,
     "metadata": {},
     "output_type": "execute_result"
    }
   ],
   "source": [
    "# Reshape and normalize the image data to mean 0 and std 1. \n",
    "X = (imgs.reshape(num_imgs, -1) - np.mean(imgs)) / np.std(imgs)\n",
    "X.shape, np.mean(X), np.std(X)"
   ]
  },
  {
   "cell_type": "code",
   "execution_count": 6,
   "metadata": {},
   "outputs": [
    {
     "data": {
      "text/plain": [
       "array([-0.258077  , -0.258077  , -0.258077  , -0.258077  , -0.258077  ,\n",
       "       -0.258077  , -0.258077  , -0.258077  , -0.258077  , -0.258077  ,\n",
       "       -0.258077  , -0.258077  , -0.258077  , -0.258077  , -0.258077  ,\n",
       "       -0.258077  , -0.258077  ,  3.87481258,  3.87481258, -0.258077  ,\n",
       "       -0.258077  , -0.258077  , -0.258077  , -0.258077  , -0.258077  ,\n",
       "        3.87481258,  3.87481258, -0.258077  , -0.258077  , -0.258077  ,\n",
       "       -0.258077  , -0.258077  , -0.258077  , -0.258077  , -0.258077  ,\n",
       "       -0.258077  , -0.258077  , -0.258077  , -0.258077  , -0.258077  ,\n",
       "       -0.258077  , -0.258077  , -0.258077  , -0.258077  , -0.258077  ,\n",
       "       -0.258077  , -0.258077  , -0.258077  , -0.258077  , -0.258077  ,\n",
       "       -0.258077  , -0.258077  , -0.258077  , -0.258077  , -0.258077  ,\n",
       "       -0.258077  , -0.258077  , -0.258077  , -0.258077  , -0.258077  ,\n",
       "       -0.258077  , -0.258077  , -0.258077  , -0.258077  ])"
      ]
     },
     "execution_count": 6,
     "metadata": {},
     "output_type": "execute_result"
    }
   ],
   "source": [
    "X[0]"
   ]
  },
  {
   "cell_type": "code",
   "execution_count": 7,
   "metadata": {},
   "outputs": [
    {
     "data": {
      "text/plain": [
       "((50000, 4), 0.28120499999999998, 0.1750941653082706)"
      ]
     },
     "execution_count": 7,
     "metadata": {},
     "output_type": "execute_result"
    }
   ],
   "source": [
    "# Normalize x, y, w, h by img_size, so that all values are between 0 and 1.\n",
    "# Important: Do not shift to negative values (e.g. by setting to mean 0), because the IOU calculation needs positive w and h.\n",
    "y = bboxes.reshape(num_imgs, -1) / img_size\n",
    "y.shape, np.mean(y), np.std(y)"
   ]
  },
  {
   "cell_type": "code",
   "execution_count": 12,
   "metadata": {},
   "outputs": [
    {
     "data": {
      "text/plain": [
       "array([[ 0.25 ,  0.125,  0.25 ,  0.25 ],\n",
       "       [ 0.125,  0.5  ,  0.375,  0.125],\n",
       "       [ 0.375,  0.125,  0.25 ,  0.375],\n",
       "       ..., \n",
       "       [ 0.125,  0.25 ,  0.375,  0.125],\n",
       "       [ 0.625,  0.125,  0.25 ,  0.375],\n",
       "       [ 0.   ,  0.5  ,  0.375,  0.25 ]])"
      ]
     },
     "execution_count": 12,
     "metadata": {},
     "output_type": "execute_result"
    }
   ],
   "source": [
    "y"
   ]
  },
  {
   "cell_type": "code",
   "execution_count": 11,
   "metadata": {},
   "outputs": [
    {
     "data": {
      "text/plain": [
       "array([ 0.125,  0.5  ,  0.375,  0.125])"
      ]
     },
     "execution_count": 11,
     "metadata": {},
     "output_type": "execute_result"
    }
   ],
   "source": [
    "y[1]"
   ]
  },
  {
   "cell_type": "code",
   "execution_count": 8,
   "metadata": {
    "collapsed": true
   },
   "outputs": [],
   "source": [
    "# Split training and test.\n",
    "i = int(0.8 * num_imgs)\n",
    "train_X = X[:i]\n",
    "test_X = X[i:]\n",
    "train_y = y[:i]\n",
    "test_y = y[i:]\n",
    "test_imgs = imgs[i:]\n",
    "test_bboxes = bboxes[i:]"
   ]
  },
  {
   "cell_type": "code",
   "execution_count": 15,
   "metadata": {
    "collapsed": true
   },
   "outputs": [],
   "source": [
    "# Build the model.\n",
    "from keras.models import Sequential\n",
    "from keras.layers import Dense, Activation, Dropout\n",
    "from keras.optimizers import SGD\n",
    "model = Sequential([\n",
    "        Dense(200, input_dim=X.shape[-1]),\n",
    "        Activation('relu'), \n",
    "        Dropout(0.2), \n",
    "        Dense(y.shape[-1])\n",
    "    ])\n",
    "model.compile('adadelta', 'mse')"
   ]
  },
  {
   "cell_type": "code",
   "execution_count": 16,
   "metadata": {},
   "outputs": [
    {
     "name": "stderr",
     "output_type": "stream",
     "text": [
      "/home/kropotkin/anaconda3/lib/python3.6/site-packages/keras/models.py:874: UserWarning: The `nb_epoch` argument in `fit` has been renamed `epochs`.\n",
      "  warnings.warn('The `nb_epoch` argument in `fit` '\n"
     ]
    },
    {
     "name": "stdout",
     "output_type": "stream",
     "text": [
      "Train on 40000 samples, validate on 10000 samples\n",
      "Epoch 1/30\n",
      " - 3s - loss: 0.0266 - val_loss: 4.6523e-04\n",
      "Epoch 2/30\n",
      " - 3s - loss: 0.0018 - val_loss: 2.3452e-04\n",
      "Epoch 3/30\n",
      " - 3s - loss: 0.0012 - val_loss: 1.8319e-04\n",
      "Epoch 4/30\n",
      " - 3s - loss: 0.0011 - val_loss: 1.4678e-04\n",
      "Epoch 5/30\n",
      " - 3s - loss: 9.5651e-04 - val_loss: 1.1172e-04\n",
      "Epoch 6/30\n",
      " - 3s - loss: 8.9412e-04 - val_loss: 8.7640e-05\n",
      "Epoch 7/30\n",
      " - 6s - loss: 8.4826e-04 - val_loss: 1.1922e-04\n",
      "Epoch 8/30\n",
      " - 4s - loss: 8.1009e-04 - val_loss: 8.0112e-05\n",
      "Epoch 9/30\n",
      " - 4s - loss: 7.7537e-04 - val_loss: 7.1250e-05\n",
      "Epoch 10/30\n",
      " - 3s - loss: 7.6131e-04 - val_loss: 7.4962e-05\n",
      "Epoch 11/30\n",
      " - 3s - loss: 7.4503e-04 - val_loss: 9.8507e-05\n",
      "Epoch 12/30\n",
      " - 3s - loss: 7.2217e-04 - val_loss: 6.6550e-05\n",
      "Epoch 13/30\n",
      " - 3s - loss: 7.0603e-04 - val_loss: 7.2353e-05\n",
      "Epoch 14/30\n",
      " - 3s - loss: 7.0414e-04 - val_loss: 6.9285e-05\n",
      "Epoch 15/30\n",
      " - 3s - loss: 6.8727e-04 - val_loss: 7.0750e-05\n",
      "Epoch 16/30\n",
      " - 3s - loss: 6.7647e-04 - val_loss: 6.8843e-05\n",
      "Epoch 17/30\n",
      " - 3s - loss: 6.6866e-04 - val_loss: 6.7441e-05\n",
      "Epoch 18/30\n",
      " - 3s - loss: 6.5979e-04 - val_loss: 7.9719e-05\n",
      "Epoch 19/30\n",
      " - 3s - loss: 6.5581e-04 - val_loss: 6.5404e-05\n",
      "Epoch 20/30\n",
      " - 3s - loss: 6.4264e-04 - val_loss: 5.5436e-05\n",
      "Epoch 21/30\n",
      " - 4s - loss: 6.3913e-04 - val_loss: 7.1093e-05\n",
      "Epoch 22/30\n",
      " - 4s - loss: 6.3719e-04 - val_loss: 5.1348e-05\n",
      "Epoch 23/30\n",
      " - 3s - loss: 6.3139e-04 - val_loss: 7.0536e-05\n",
      "Epoch 24/30\n",
      " - 3s - loss: 6.2417e-04 - val_loss: 5.6604e-05\n",
      "Epoch 25/30\n",
      " - 3s - loss: 6.2097e-04 - val_loss: 6.9661e-05\n",
      "Epoch 26/30\n",
      " - 3s - loss: 6.1677e-04 - val_loss: 5.4750e-05\n",
      "Epoch 27/30\n",
      " - 3s - loss: 6.0937e-04 - val_loss: 6.3666e-05\n",
      "Epoch 28/30\n",
      " - 3s - loss: 6.0736e-04 - val_loss: 4.6056e-05\n",
      "Epoch 29/30\n",
      " - 3s - loss: 6.0788e-04 - val_loss: 5.8090e-05\n",
      "Epoch 30/30\n",
      " - 3s - loss: 5.9992e-04 - val_loss: 4.8996e-05\n"
     ]
    },
    {
     "data": {
      "text/plain": [
       "<keras.callbacks.History at 0x7f2797abceb8>"
      ]
     },
     "execution_count": 16,
     "metadata": {},
     "output_type": "execute_result"
    }
   ],
   "source": [
    "# Train.\n",
    "model.fit(train_X, train_y, nb_epoch=30, validation_data=(test_X, test_y), verbose=2)"
   ]
  },
  {
   "cell_type": "code",
   "execution_count": 17,
   "metadata": {},
   "outputs": [
    {
     "data": {
      "text/plain": [
       "(10000, 1, 4)"
      ]
     },
     "execution_count": 17,
     "metadata": {},
     "output_type": "execute_result"
    }
   ],
   "source": [
    "# Predict bounding boxes on the test images.\n",
    "pred_y = model.predict(test_X)\n",
    "pred_bboxes = pred_y * img_size\n",
    "pred_bboxes = pred_bboxes.reshape(len(pred_bboxes), num_objects, -1)\n",
    "pred_bboxes.shape"
   ]
  },
  {
   "cell_type": "code",
   "execution_count": 18,
   "metadata": {
    "collapsed": true
   },
   "outputs": [],
   "source": [
    "def IOU(bbox1, bbox2):\n",
    "    '''Calculate overlap between two bounding boxes [x, y, w, h] as the area of intersection over the area of unity'''\n",
    "    x1, y1, w1, h1 = bbox1[0], bbox1[1], bbox1[2], bbox1[3]\n",
    "    x2, y2, w2, h2 = bbox2[0], bbox2[1], bbox2[2], bbox2[3]\n",
    "\n",
    "    w_I = min(x1 + w1, x2 + w2) - max(x1, x2)\n",
    "    h_I = min(y1 + h1, y2 + h2) - max(y1, y2)\n",
    "    if w_I <= 0 or h_I <= 0:  # no overlap\n",
    "        return 0.\n",
    "    I = w_I * h_I\n",
    "\n",
    "    U = w1 * h1 + w2 * h2 - I\n",
    "\n",
    "    return I / U"
   ]
  },
  {
   "cell_type": "code",
   "execution_count": 19,
   "metadata": {},
   "outputs": [
    {
     "data": {
      "image/png": "[encoded data removed]",
      "text/plain": [
       "<matplotlib.figure.Figure at 0x7f27976c5898>"
      ]
     },
     "metadata": {},
     "output_type": "display_data"
    }
   ],
   "source": [
    "# Show a few images and predicted bounding boxes from the test dataset. \n",
    "plt.figure(figsize=(12, 3))\n",
    "for i_subplot in range(1, 5):\n",
    "    plt.subplot(1, 4, i_subplot)\n",
    "    i = np.random.randint(len(test_imgs))\n",
    "    plt.imshow(test_imgs[i].T, cmap='Greys', interpolation='none', origin='lower', extent=[0, img_size, 0, img_size])\n",
    "    for pred_bbox, exp_bbox in zip(pred_bboxes[i], test_bboxes[i]):\n",
    "        plt.gca().add_patch(matplotlib.patches.Rectangle((pred_bbox[0], pred_bbox[1]), pred_bbox[2], pred_bbox[3], ec='r', fc='none'))\n",
    "        plt.annotate('IOU: {:.2f}'.format(IOU(pred_bbox, exp_bbox)), (pred_bbox[0], pred_bbox[1]+pred_bbox[3]+0.2), color='r')\n",
    "        \n",
    "# plt.savefig('plots/bw-single-rectangle_prediction.png', dpi=300)"
   ]
  },
  {
   "cell_type": "code",
   "execution_count": 20,
   "metadata": {},
   "outputs": [
    {
     "data": {
      "text/plain": [
       "0.88385732073488832"
      ]
     },
     "execution_count": 20,
     "metadata": {},
     "output_type": "execute_result"
    }
   ],
   "source": [
    "# Calculate the mean IOU (overlap) between the predicted and expected bounding boxes on the test dataset. \n",
    "summed_IOU = 0.\n",
    "for pred_bbox, test_bbox in zip(pred_bboxes.reshape(-1, 4), test_bboxes.reshape(-1, 4)):\n",
    "    summed_IOU += IOU(pred_bbox, test_bbox)\n",
    "mean_IOU = summed_IOU / len(pred_bboxes)\n",
    "mean_IOU"
   ]
  },
  {
   "cell_type": "code",
   "execution_count": null,
   "metadata": {
    "collapsed": true
   },
   "outputs": [],
   "source": []
  }
 ],
 "metadata": {
  "kernelspec": {
   "display_name": "Python 3",
   "language": "python",
   "name": "python3"
  },
  "language_info": {
   "codemirror_mode": {
    "name": "ipython",
    "version": 3
   },
   "file_extension": ".py",
   "mimetype": "text/x-python",
   "name": "python",
   "nbconvert_exporter": "python",
   "pygments_lexer": "ipython3",
   "version": "3.6.4"
  }
 },
 "nbformat": 4,
 "nbformat_minor": 2
}
