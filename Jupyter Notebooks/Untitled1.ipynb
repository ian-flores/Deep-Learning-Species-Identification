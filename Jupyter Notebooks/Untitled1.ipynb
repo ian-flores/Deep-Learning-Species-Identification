{
 "cells": [
  {
   "cell_type": "code",
   "execution_count": 52,
   "metadata": {},
   "outputs": [],
   "source": [
    "pickle_file = '../dataset/color_pickle.pickle'"
   ]
  },
  {
   "cell_type": "code",
   "execution_count": 53,
   "metadata": {},
   "outputs": [],
   "source": [
    "from six.moves import cPickle as pickle\n",
    "import matplotlib.pyplot as plt\n"
   ]
  },
  {
   "cell_type": "code",
   "execution_count": 54,
   "metadata": {},
   "outputs": [],
   "source": [
    "with open(pickle_file, 'rb') as f:\n",
    "        save = pickle.load(f)\n",
    "        labels = save['labels']\n",
    "        images = save['images']\n",
    "        del save"
   ]
  },
  {
   "cell_type": "code",
   "execution_count": 60,
   "metadata": {},
   "outputs": [],
   "source": [
    "X = images\n",
    "y = labels\n",
    "y = np_utils.to_categorical(y)"
   ]
  },
  {
   "cell_type": "code",
   "execution_count": 61,
   "metadata": {},
   "outputs": [],
   "source": [
    "from sklearn.model_selection import train_test_split"
   ]
  },
  {
   "cell_type": "code",
   "execution_count": 62,
   "metadata": {},
   "outputs": [],
   "source": [
    "X_train, X_test, y_train, y_test = train_test_split(X, y)"
   ]
  },
  {
   "cell_type": "code",
   "execution_count": 66,
   "metadata": {},
   "outputs": [],
   "source": [
    "import keras\n",
    "from keras.models import Sequential\n",
    "from keras.layers import Dense, Activation, MaxPooling2D, Conv2D, Flatten, Dropout\n",
    "import numpy as np\n",
    "from keras.optimizers import SGD\n",
    "from keras.layers.normalization import BatchNormalization\n",
    "\n",
    "import tensorflow\n",
    "\n",
    "session_conf = tensorflow.ConfigProto(intra_op_parallelism_threads=20, inter_op_parallelism_threads=20)\n",
    "sess = tensorflow.Session(graph=tensorflow.get_default_graph(), config=session_conf)\n",
    "keras.backend.set_session(sess)"
   ]
  },
  {
   "cell_type": "code",
   "execution_count": 69,
   "metadata": {},
   "outputs": [
    {
     "name": "stdout",
     "output_type": "stream",
     "text": [
      "_________________________________________________________________\n",
      "Layer (type)                 Output Shape              Param #   \n",
      "=================================================================\n",
      "conv2d_66 (Conv2D)           (None, 54, 54, 96)        34944     \n",
      "_________________________________________________________________\n",
      "max_pooling2d_40 (MaxPooling (None, 26, 26, 96)        0         \n",
      "_________________________________________________________________\n",
      "conv2d_67 (Conv2D)           (None, 22, 22, 256)       614656    \n",
      "_________________________________________________________________\n",
      "max_pooling2d_41 (MaxPooling (None, 10, 10, 256)       0         \n",
      "_________________________________________________________________\n",
      "conv2d_68 (Conv2D)           (None, 8, 8, 384)         885120    \n",
      "_________________________________________________________________\n",
      "batch_normalization_66 (Batc (None, 8, 8, 384)         1536      \n",
      "_________________________________________________________________\n",
      "conv2d_69 (Conv2D)           (None, 6, 6, 384)         1327488   \n",
      "_________________________________________________________________\n",
      "batch_normalization_67 (Batc (None, 6, 6, 384)         1536      \n",
      "_________________________________________________________________\n",
      "conv2d_70 (Conv2D)           (None, 4, 4, 256)         884992    \n",
      "_________________________________________________________________\n",
      "max_pooling2d_42 (MaxPooling (None, 1, 1, 256)         0         \n",
      "_________________________________________________________________\n",
      "flatten_14 (Flatten)         (None, 256)               0         \n",
      "_________________________________________________________________\n",
      "dense_52 (Dense)             (None, 4096)              1052672   \n",
      "_________________________________________________________________\n",
      "activation_52 (Activation)   (None, 4096)              0         \n",
      "_________________________________________________________________\n",
      "dropout_40 (Dropout)         (None, 4096)              0         \n",
      "_________________________________________________________________\n",
      "batch_normalization_68 (Batc (None, 4096)              16384     \n",
      "_________________________________________________________________\n",
      "dense_53 (Dense)             (None, 4096)              16781312  \n",
      "_________________________________________________________________\n",
      "activation_53 (Activation)   (None, 4096)              0         \n",
      "_________________________________________________________________\n",
      "dropout_41 (Dropout)         (None, 4096)              0         \n",
      "_________________________________________________________________\n",
      "batch_normalization_69 (Batc (None, 4096)              16384     \n",
      "_________________________________________________________________\n",
      "dense_54 (Dense)             (None, 4096)              16781312  \n",
      "_________________________________________________________________\n",
      "activation_54 (Activation)   (None, 4096)              0         \n",
      "_________________________________________________________________\n",
      "dropout_42 (Dropout)         (None, 4096)              0         \n",
      "_________________________________________________________________\n",
      "batch_normalization_70 (Batc (None, 4096)              16384     \n",
      "_________________________________________________________________\n",
      "dense_55 (Dense)             (None, 21)                86037     \n",
      "_________________________________________________________________\n",
      "activation_55 (Activation)   (None, 21)                0         \n",
      "=================================================================\n",
      "Total params: 38,500,757\n",
      "Trainable params: 38,474,645\n",
      "Non-trainable params: 26,112\n",
      "_________________________________________________________________\n"
     ]
    }
   ],
   "source": [
    "## Taken from https://github.com/priyasin01/Alexnet-Implementation-and-training-using-Keras/blob/master/AlexnetUsingKeras.ipynb\n",
    "\n",
    "#creating Alexnet model\n",
    "model=Sequential()\n",
    "\n",
    "#1st convolution layer\n",
    "model.add(Conv2D(filters=96, input_shape=(224,224,3), kernel_size=(11,11), strides=(4,4), padding='valid', activation='relu'))\n",
    "\n",
    "#maxpooling layer 1\n",
    "model.add(MaxPooling2D(pool_size=(3,3), strides=(2,2), padding='valid'))\n",
    "\n",
    "#2nd convolutional layer\n",
    "model.add(Conv2D(filters=256, kernel_size=(5,5), strides=(1,1), padding='valid', activation='relu'))\n",
    "\n",
    "#maxpooling layer 2\n",
    "model.add(MaxPooling2D(pool_size=(3,3), strides=(2,2), padding='valid'))\n",
    "\n",
    "#3rd convolutional layer\n",
    "model.add(Conv2D(filters=384, kernel_size=(3,3), strides=(1,1), padding='valid', activation='relu'))\n",
    "model.add(BatchNormalization())\n",
    "\n",
    "#4th convolutional layer\n",
    "model.add(Conv2D(filters=384, kernel_size=(3,3), strides=(1,1), padding='valid', activation='relu'))\n",
    "model.add(BatchNormalization())\n",
    "\n",
    "#5th convolutional layer \n",
    "model.add(Conv2D(filters=256, kernel_size=(3,3), strides=(1,1), padding='valid', activation='relu'))\n",
    "\n",
    "#maxpooling layer 3\n",
    "model.add(MaxPooling2D(pool_size=(3,3), strides=(2,2), padding='valid'))\n",
    "\n",
    "#going for the fully connected layers\n",
    "model.add(Flatten())\n",
    "\n",
    "#1 Dense/Fully-connected layer\n",
    "model.add(Dense(4096, input_shape=(224,224,3)))\n",
    "model.add(Activation('relu'))\n",
    "#add dropout\n",
    "model.add(Dropout(0.4))\n",
    "#add batch normalization\n",
    "model.add(BatchNormalization())\n",
    "\n",
    "\n",
    "#2 Dense/Fully-connected layer\n",
    "model.add(Dense(4096))\n",
    "model.add(Activation('relu'))\n",
    "#add dropout\n",
    "model.add(Dropout(0.4))\n",
    "#add batch normalization\n",
    "model.add(BatchNormalization())\n",
    "\n",
    "\n",
    "\n",
    "#3 Dense/Fully-connected layer\n",
    "model.add(Dense(4096))\n",
    "model.add(Activation('relu'))\n",
    "#add dropout\n",
    "model.add(Dropout(0.4))\n",
    "#add batch normalization\n",
    "model.add(BatchNormalization())\n",
    "\n",
    "#output layer\n",
    "model.add(Dense(21))\n",
    "model.add(Activation('softmax'))\n",
    "\n",
    "#model.summary()\n",
    "\n",
    "\n",
    "sgd = SGD(lr = 0.01)\n",
    "model.compile(loss='categorical_crossentropy', optimizer=sgd, metrics=['accuracy'])"
   ]
  },
  {
   "cell_type": "code",
   "execution_count": null,
   "metadata": {},
   "outputs": [
    {
     "name": "stdout",
     "output_type": "stream",
     "text": [
      "Epoch 1/20\n",
      "225/239 [===========================>..] - ETA: 1s - loss: 3.7603 - acc: 0.1067"
     ]
    }
   ],
   "source": [
    "model.fit(X_train, y_train, batch_size=5, epochs=20, verbose=1, shuffle='True' )"
   ]
  },
  {
   "cell_type": "code",
   "execution_count": 51,
   "metadata": {},
   "outputs": [
    {
     "name": "stdout",
     "output_type": "stream",
     "text": [
      "80/80 [==============================] - 1s 13ms/step\n"
     ]
    },
    {
     "data": {
      "text/plain": [
       "[3.3872400283813477, 0.0]"
      ]
     },
     "execution_count": 51,
     "metadata": {},
     "output_type": "execute_result"
    }
   ],
   "source": [
    "model.evaluate(X_test, y_test)"
   ]
  },
  {
   "cell_type": "code",
   "execution_count": null,
   "metadata": {},
   "outputs": [],
   "source": []
  }
 ],
 "metadata": {
  "kernelspec": {
   "display_name": "Python 3",
   "language": "python",
   "name": "python3"
  },
  "language_info": {
   "codemirror_mode": {
    "name": "ipython",
    "version": 3
   },
   "file_extension": ".py",
   "mimetype": "text/x-python",
   "name": "python",
   "nbconvert_exporter": "python",
   "pygments_lexer": "ipython3",
   "version": "3.6.3"
  }
 },
 "nbformat": 4,
 "nbformat_minor": 2
}
