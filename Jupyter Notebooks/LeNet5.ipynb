{
 "cells": [
  {
   "cell_type": "code",
   "execution_count": 1,
   "metadata": {},
   "outputs": [],
   "source": [
    "# These are all the modules we'll be using later. Make sure you can import them\n",
    "# before proceeding further.\n",
    "%matplotlib inline\n",
    "from __future__ import print_function\n",
    "import numpy as np\n",
    "import tensorflow as tf\n",
    "from six.moves import cPickle as pickle\n",
    "from six.moves import range\n",
    "import random\n",
    "import matplotlib.pyplot as plt"
   ]
  },
  {
   "cell_type": "code",
   "execution_count": 2,
   "metadata": {},
   "outputs": [
    {
     "name": "stdout",
     "output_type": "stream",
     "text": [
      "Training set (705, 28, 28) (705,)\n",
      "Validation set (235, 28, 28) (235,)\n",
      "Test set (235, 28, 28) (235,)\n"
     ]
    }
   ],
   "source": [
    "pickle_file = '../dataset/arbimonTest1_augmented_7.pickle'\n",
    "\n",
    "with open(pickle_file, 'rb') as f:\n",
    "  save = pickle.load(f)\n",
    "  train_dataset = save['train_dataset']\n",
    "  train_labels = save['train_labels']\n",
    "  valid_dataset = save['valid_dataset']\n",
    "  valid_labels = save['valid_labels']\n",
    "  test_dataset = save['test_dataset']\n",
    "  test_labels = save['test_labels']\n",
    "  del save  # hint to help gc free up memory\n",
    "  print('Training set', train_dataset.shape, train_labels.shape)\n",
    "  print('Validation set', valid_dataset.shape, valid_labels.shape)\n",
    "  print('Test set', test_dataset.shape, test_labels.shape)"
   ]
  },
  {
   "cell_type": "code",
   "execution_count": 3,
   "metadata": {},
   "outputs": [],
   "source": [
    "train_dataset = train_dataset[:-12]\n",
    "train_labels = train_labels[:-12]\n",
    "\n",
    "valid_dataset = valid_dataset[:-4]\n",
    "valid_labels = valid_labels[:-4]\n",
    "\n",
    "test_dataset = test_dataset[:-4]\n",
    "test_labels = test_labels[:-4]"
   ]
  },
  {
   "cell_type": "code",
   "execution_count": 4,
   "metadata": {},
   "outputs": [
    {
     "name": "stdout",
     "output_type": "stream",
     "text": [
      "Training set (693, 28, 28, 1) (693,)\n",
      "Validation set (231, 28, 28, 1) (231,)\n",
      "Test set (231, 28, 28, 1) (231,)\n"
     ]
    }
   ],
   "source": [
    "image_size = train_dataset.shape[2]\n",
    "num_channels = 1\n",
    "num_labels = 21\n",
    "\n",
    "def reformat(dataset):#, labels):\n",
    "    #dataset = np.squeeze(dataset).shape\n",
    "    dataset = dataset.reshape((-1, image_size, image_size, num_channels, )\n",
    "                           ).astype(np.float32)\n",
    "  #labels = (np.arange(num_labels) == labels[:,None]).astype(np.float32)\n",
    "    return dataset#, labels\n",
    "train_dataset = reformat(train_dataset)#, train_labels)\n",
    "valid_dataset = reformat(valid_dataset)#, valid_labels)\n",
    "test_dataset = reformat(test_dataset)#, test_labels)\n",
    "print('Training set', train_dataset.shape, train_labels.shape)\n",
    "print('Validation set', valid_dataset.shape, valid_labels.shape)\n",
    "print('Test set', test_dataset.shape, test_labels.shape)"
   ]
  },
  {
   "cell_type": "code",
   "execution_count": 5,
   "metadata": {},
   "outputs": [
    {
     "data": {
      "text/plain": [
       "(28, 28, 1)"
      ]
     },
     "execution_count": 5,
     "metadata": {},
     "output_type": "execute_result"
    }
   ],
   "source": [
    "train_dataset[1].shape"
   ]
  },
  {
   "cell_type": "code",
   "execution_count": 6,
   "metadata": {},
   "outputs": [
    {
     "name": "stdout",
     "output_type": "stream",
     "text": [
      "Updated Image Shape: (32, 32, 1)\n"
     ]
    }
   ],
   "source": [
    "import numpy as np\n",
    "\n",
    "# Pad images with 0s\n",
    "X_train      = np.pad(train_dataset, ((0,0),(2,2),(2,2),(0,0)), 'constant')\n",
    "X_validation = np.pad(valid_dataset, ((0,0),(2,2),(2,2),(0,0)), 'constant')\n",
    "X_test       = np.pad(test_dataset, ((0,0),(2,2),(2,2),(0,0)), 'constant')\n",
    "    \n",
    "print(\"Updated Image Shape: {}\".format(X_train[0].shape))"
   ]
  },
  {
   "cell_type": "code",
   "execution_count": 7,
   "metadata": {},
   "outputs": [],
   "source": [
    "y_train = train_labels\n",
    "y_validation = valid_labels\n",
    "y_test = test_labels"
   ]
  },
  {
   "cell_type": "code",
   "execution_count": 8,
   "metadata": {},
   "outputs": [
    {
     "name": "stdout",
     "output_type": "stream",
     "text": [
      "19\n"
     ]
    },
    {
     "data": {
      "image/png": "[encoded data removed]",
      "text/plain": [
       "<matplotlib.figure.Figure at 0x7f7689e0e128>"
      ]
     },
     "metadata": {},
     "output_type": "display_data"
    }
   ],
   "source": [
    "index = random.randint(0, len(X_train))\n",
    "image = X_train[index].squeeze()\n",
    "\n",
    "plt.figure(figsize=(1,1))\n",
    "plt.imshow(image, cmap=\"gray\")\n",
    "print(y_train[index])"
   ]
  },
  {
   "cell_type": "code",
   "execution_count": 9,
   "metadata": {},
   "outputs": [],
   "source": [
    "from sklearn.utils import shuffle\n",
    "\n",
    "X_train, y_train = shuffle(X_train, y_train)"
   ]
  },
  {
   "cell_type": "code",
   "execution_count": 10,
   "metadata": {},
   "outputs": [],
   "source": [
    "import tensorflow as tf\n",
    "\n",
    "EPOCHS = 300\n",
    "BATCH_SIZE = 5 #ideal 5"
   ]
  },
  {
   "cell_type": "code",
   "execution_count": 11,
   "metadata": {},
   "outputs": [],
   "source": [
    "from tensorflow.contrib.layers import flatten\n",
    "\n",
    "def conv2d(x, W, b, strides, padding):\n",
    "    x = tf.nn.conv2d(x, W, strides=[1, strides, strides, 1], padding=padding)\n",
    "    x = tf.nn.bias_add(x, b)\n",
    "    return tf.nn.relu(x)\n",
    "\n",
    "\n",
    "def maxpool2d(x, k, padding):\n",
    "    return tf.nn.max_pool(\n",
    "        x,\n",
    "        ksize=[1, k, k, 1],\n",
    "        strides=[1, k, k, 1],\n",
    "        padding=padding)\n",
    "\n",
    "\n",
    "def LeNet(x):    \n",
    "    # Hyperparameters\n",
    "    mu = 0\n",
    "    sigma = 0.1\n",
    "    \n",
    "    # TODO: Layer 1: Convolutional. Input = 32x32x1. Output = 28x28x6.\n",
    "    # TODO: Activation.\n",
    "    # TODO: Pooling. Input = 28x28x6. Output = 14x14x6.\n",
    "    W = tf.Variable(tf.truncated_normal([5, 5, 1, 6], mean = mu, stddev = sigma))\n",
    "    b = tf.Variable(tf.zeros(6))\n",
    "    layer1 = conv2d(x, W, b, 1, 'VALID')\n",
    "    pool1 = maxpool2d(layer1, 2, 'VALID')\n",
    "\n",
    "    # TODO: Layer 2: Convolutional. Output = 10x10x16.\n",
    "    # TODO: Activation.\n",
    "    # TODO: Pooling. Input = 10x10x16. Output = 5x5x16.\n",
    "    W = tf.Variable(tf.truncated_normal([5, 5, 6, 16], mean = mu, stddev = sigma))\n",
    "    b = tf.Variable(tf.zeros(16))\n",
    "    layer2 = conv2d(pool1, W, b, 1, 'VALID')\n",
    "    pool2 = maxpool2d(layer2, 2, 'VALID')\n",
    "    \n",
    "\n",
    "    # TODO: Flatten. Input = 5x5x16. Output = 400.\n",
    "    fc = flatten(pool2)\n",
    "    \n",
    "    # TODO: Layer 3: Fully Connected. Input = 400. Output = 120.\n",
    "    # TODO: Activation.\n",
    "    W = tf.Variable(tf.truncated_normal([400, 120], mean = mu, stddev = sigma))\n",
    "    b = tf.Variable(tf.zeros(120))\n",
    "    fc1 = tf.nn.relu(tf.add(tf.matmul(fc, W), b))\n",
    "\n",
    "    # TODO: Layer 4: Fully Connected. Input = 120. Output = 84.\n",
    "    # TODO: Activation.\n",
    "    W = tf.Variable(tf.truncated_normal([120, 84], mean = mu, stddev = sigma))\n",
    "    b = tf.Variable(tf.zeros(84))\n",
    "    fc2 = tf.nn.relu(tf.add(tf.matmul(fc1, W), b))\n",
    "    \n",
    "\n",
    "    # TODO: Layer 5: Fully Connected. Input = 84. Output = 21.\n",
    "    W = tf.Variable(tf.truncated_normal([84, 21], mean = mu, stddev = sigma))\n",
    "    b = tf.Variable(tf.zeros(21))\n",
    "    logits = tf.add(tf.matmul(fc2, W), b)\n",
    "    \n",
    "    return logits"
   ]
  },
  {
   "cell_type": "code",
   "execution_count": 12,
   "metadata": {},
   "outputs": [],
   "source": [
    "x = tf.placeholder(tf.float32, (None, 32, 32, 1))\n",
    "y = tf.placeholder(tf.int32, (None))\n",
    "one_hot_y = tf.one_hot(y, 21)"
   ]
  },
  {
   "cell_type": "code",
   "execution_count": 13,
   "metadata": {},
   "outputs": [
    {
     "name": "stdout",
     "output_type": "stream",
     "text": [
      "WARNING:tensorflow:From <ipython-input-13-42c737c77856>:5: softmax_cross_entropy_with_logits (from tensorflow.python.ops.nn_ops) is deprecated and will be removed in a future version.\n",
      "Instructions for updating:\n",
      "\n",
      "Future major versions of TensorFlow will allow gradients to flow\n",
      "into the labels input on backprop by default.\n",
      "\n",
      "See tf.nn.softmax_cross_entropy_with_logits_v2.\n",
      "\n"
     ]
    }
   ],
   "source": [
    "#rate = 0.05\n",
    "rate = 0.05\n",
    "\n",
    "logits = LeNet(x)\n",
    "cross_entropy = tf.nn.softmax_cross_entropy_with_logits(logits = logits, labels = one_hot_y)\n",
    "loss_operation = tf.reduce_mean(cross_entropy)\n",
    "optimizer = tf.train.GradientDescentOptimizer(learning_rate = rate)\n",
    "training_operation = optimizer.minimize(loss_operation)"
   ]
  },
  {
   "cell_type": "code",
   "execution_count": 14,
   "metadata": {},
   "outputs": [],
   "source": [
    "correct_prediction = tf.equal(tf.argmax(logits, 1), tf.argmax(one_hot_y, 1))\n",
    "accuracy_operation = tf.reduce_mean(tf.cast(correct_prediction, tf.float32))\n",
    "\n",
    "def evaluate(X_data, y_data):\n",
    "    num_examples = len(X_data)\n",
    "    total_accuracy = 0\n",
    "    sess = tf.get_default_session()\n",
    "    for offset in range(0, num_examples, BATCH_SIZE):\n",
    "        batch_x, batch_y = X_data[offset:offset+BATCH_SIZE], y_data[offset:offset+BATCH_SIZE]\n",
    "        accuracy = sess.run(accuracy_operation, feed_dict={x: batch_x, y: batch_y})\n",
    "        total_accuracy += (accuracy * len(batch_x))\n",
    "    return total_accuracy / num_examples"
   ]
  },
  {
   "cell_type": "code",
   "execution_count": 15,
   "metadata": {
    "scrolled": true
   },
   "outputs": [
    {
     "name": "stdout",
     "output_type": "stream",
     "text": [
      "Training...\n",
      "\n",
      "EPOCH 1 ...\n",
      "Validation Accuracy = 0.065\n",
      "\n",
      "EPOCH 11 ...\n",
      "Validation Accuracy = 0.645\n",
      "\n",
      "EPOCH 21 ...\n",
      "Validation Accuracy = 0.701\n",
      "\n",
      "EPOCH 31 ...\n",
      "Validation Accuracy = 0.857\n",
      "\n",
      "EPOCH 41 ...\n",
      "Validation Accuracy = 0.857\n",
      "\n",
      "EPOCH 51 ...\n",
      "Validation Accuracy = 0.861\n",
      "\n",
      "EPOCH 61 ...\n",
      "Validation Accuracy = 0.861\n",
      "\n",
      "EPOCH 71 ...\n",
      "Validation Accuracy = 0.861\n",
      "\n",
      "EPOCH 81 ...\n",
      "Validation Accuracy = 0.861\n",
      "\n",
      "EPOCH 91 ...\n",
      "Validation Accuracy = 0.861\n",
      "\n",
      "EPOCH 101 ...\n",
      "Validation Accuracy = 0.866\n",
      "\n",
      "EPOCH 111 ...\n",
      "Validation Accuracy = 0.866\n",
      "\n",
      "EPOCH 121 ...\n",
      "Validation Accuracy = 0.866\n",
      "\n",
      "EPOCH 131 ...\n",
      "Validation Accuracy = 0.866\n",
      "\n",
      "EPOCH 141 ...\n",
      "Validation Accuracy = 0.870\n",
      "\n",
      "EPOCH 151 ...\n",
      "Validation Accuracy = 0.870\n",
      "\n",
      "EPOCH 161 ...\n",
      "Validation Accuracy = 0.870\n",
      "\n",
      "EPOCH 171 ...\n",
      "Validation Accuracy = 0.870\n",
      "\n",
      "EPOCH 181 ...\n",
      "Validation Accuracy = 0.870\n",
      "\n",
      "EPOCH 191 ...\n",
      "Validation Accuracy = 0.870\n",
      "\n",
      "EPOCH 201 ...\n",
      "Validation Accuracy = 0.870\n",
      "\n",
      "EPOCH 211 ...\n",
      "Validation Accuracy = 0.870\n",
      "\n",
      "EPOCH 221 ...\n",
      "Validation Accuracy = 0.870\n",
      "\n",
      "EPOCH 231 ...\n",
      "Validation Accuracy = 0.870\n",
      "\n",
      "EPOCH 241 ...\n",
      "Validation Accuracy = 0.870\n",
      "\n",
      "EPOCH 251 ...\n",
      "Validation Accuracy = 0.870\n",
      "\n",
      "EPOCH 261 ...\n",
      "Validation Accuracy = 0.870\n",
      "\n",
      "EPOCH 271 ...\n",
      "Validation Accuracy = 0.870\n",
      "\n",
      "EPOCH 281 ...\n",
      "Validation Accuracy = 0.870\n",
      "\n",
      "EPOCH 291 ...\n",
      "Validation Accuracy = 0.870\n",
      "\n",
      "Model saved\n"
     ]
    }
   ],
   "source": [
    "with tf.Session() as sess:\n",
    "    sess.run(tf.global_variables_initializer())\n",
    "    num_examples = len(X_train)\n",
    "    \n",
    "    print(\"Training...\")\n",
    "    print()\n",
    "    for i in range(EPOCHS):\n",
    "        X_train, y_train = shuffle(X_train, y_train)\n",
    "        for offset in range(0, num_examples, BATCH_SIZE):\n",
    "            end = offset + BATCH_SIZE\n",
    "            batch_x, batch_y = X_train[offset:end], y_train[offset:end]\n",
    "            sess.run(training_operation, feed_dict={x: batch_x, y: batch_y})\n",
    "            \n",
    "        validation_accuracy = evaluate(X_validation, y_validation)\n",
    "        if (i%10 == 0):\n",
    "            print(\"EPOCH {} ...\".format(i+1))\n",
    "            print(\"Validation Accuracy = {:.3f}\".format(validation_accuracy))\n",
    "            print()\n",
    "        \n",
    "    import os\n",
    "    try:\n",
    "        saver\n",
    "    except NameError:\n",
    "        saver = tf.train.Saver()\n",
    "    save_path='lenet_lr_'+str(rate)+'_BS_'+str(BATCH_SIZE)+'_Epoch_'+str(EPOCHS)\n",
    "    if not os.path.isabs(save_path):\n",
    "        save_path = os.path.abspath(os.path.join(os.getcwd(), save_path))\n",
    "    saver.save(sess, save_path)\n",
    "    print(\"Model saved\")"
   ]
  },
  {
   "cell_type": "code",
   "execution_count": 18,
   "metadata": {},
   "outputs": [
    {
     "name": "stdout",
     "output_type": "stream",
     "text": [
      "INFO:tensorflow:Restoring parameters from /home/jovyan/work/ianWork/Jupyter Notebooks/lenet_lr_0.05_BS_5_Epoch_300\n",
      "Test Accuracy = 0.874\n"
     ]
    }
   ],
   "source": [
    "with tf.Session() as sess:\n",
    "    loader = tf.train.import_meta_graph('lenet_lr_'+str(rate)+'_BS_'+str(BATCH_SIZE)+'_Epoch_'+str(EPOCHS)+'.meta')\n",
    "    loader.restore(sess, tf.train.latest_checkpoint('./'))\n",
    "\n",
    "    test_accuracy = evaluate(X_test, y_test)\n",
    "    print(\"Test Accuracy = {:.3f}\".format(test_accuracy))"
   ]
  },
  {
   "cell_type": "code",
   "execution_count": null,
   "metadata": {},
   "outputs": [],
   "source": []
  },
  {
   "cell_type": "markdown",
   "metadata": {},
   "source": [
    "## Test Accuracy w/out Augmentation: 0.300\n",
    "## Test Accuracy w Augmentation: 0.828"
   ]
  },
  {
   "cell_type": "code",
   "execution_count": null,
   "metadata": {},
   "outputs": [],
   "source": []
  }
 ],
 "metadata": {
  "kernelspec": {
   "display_name": "Python 3",
   "language": "python",
   "name": "python3"
  },
  "language_info": {
   "codemirror_mode": {
    "name": "ipython",
    "version": 3
   },
   "file_extension": ".py",
   "mimetype": "text/x-python",
   "name": "python",
   "nbconvert_exporter": "python",
   "pygments_lexer": "ipython3",
   "version": "3.6.3"
  }
 },
 "nbformat": 4,
 "nbformat_minor": 2
}
