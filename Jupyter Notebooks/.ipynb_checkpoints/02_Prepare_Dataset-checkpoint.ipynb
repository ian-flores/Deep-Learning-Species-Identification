{
 "cells": [
  {
   "cell_type": "markdown",
   "metadata": {},
   "source": [
    "# Prepare Dataset"
   ]
  },
  {
   "cell_type": "markdown",
   "metadata": {},
   "source": [
    "by Ian Flores & Alejandro Vega"
   ]
  },
  {
   "cell_type": "markdown",
   "metadata": {},
   "source": [
    "### Loading Dependencies"
   ]
  },
  {
   "cell_type": "code",
   "execution_count": 1,
   "metadata": {},
   "outputs": [],
   "source": [
    "%matplotlib inline\n",
    "from six.moves import cPickle as pickle\n",
    "import os\n",
    "import shutil\n",
    "from PIL import Image, ImageOps\n",
    "import numpy as np\n",
    "import matplotlib.pyplot as plt\n",
    "from IPython.display import display as disp\n",
    "from IPython.display import Image as Im \n",
    "from scipy import ndimage\n",
    "import random"
   ]
  },
  {
   "cell_type": "code",
   "execution_count": 2,
   "metadata": {},
   "outputs": [],
   "source": [
    "## image size \n",
    "image_size, size = 28, 28\n",
    "\n",
    "## Shifts \n",
    "num_shifts = 1\n",
    "\n",
    "## Number of imgs per class\n",
    "min_imgs_per_class = 1\n",
    "\n",
    "## Number of imgs per class after augmentation\n",
    "min_augmentation = 20"
   ]
  },
  {
   "cell_type": "markdown",
   "metadata": {},
   "source": [
    "### Cropping Spectrograms"
   ]
  },
  {
   "cell_type": "markdown",
   "metadata": {},
   "source": [
    "Given the architectures we are using in our models, we want all spectrograms to have the same size, because the models don't allow for dynamic size input. "
   ]
  },
  {
   "cell_type": "code",
   "execution_count": 3,
   "metadata": {},
   "outputs": [],
   "source": [
    "def squareAndGrayImage(image, size, path, species, name):\n",
    "    # open our image and convert to grayscale \n",
    "    # (needed since color channels add a third dimmension)\n",
    "    im = Image.open(image).convert('L')\n",
    "    # dimmensions of square image\n",
    "    size = (size,size)\n",
    "    # resize our image and adjust if image is not square. save our image\n",
    "    squared_image = ImageOps.fit(im, size, Image.ANTIALIAS)\n",
    "    squared_image.save(path + '/' + species + '/squared_' + name)\n",
    "    squared_image.close()\n",
    "    #print(ndimage.imread(path + '/' + species + '/squared_' + name).shape)\n",
    "    \n",
    "def squareAndGrayProcess(size, dataset_path, new_dataset_path):\n",
    "    # if our dataset doesn't exist create it, otherwise overwrite\n",
    "    if not os.path.exists(new_dataset_path):\n",
    "        os.makedirs(new_dataset_path)\n",
    "    else:\n",
    "        shutil.rmtree(new_dataset_path)\n",
    "        os.makedirs(new_dataset_path)\n",
    "    \n",
    "    # get a list of species folders in our dataset\n",
    "    species_dataset = os.listdir(dataset_path)\n",
    "    \n",
    "    for species in species_dataset:\n",
    "        os.makedirs(new_dataset_path + '/' + species)\n",
    "        species_images = os.listdir(dataset_path + '/' + species)\n",
    "        for image in species_images:\n",
    "            image_path = dataset_path + '/' + species + '/' + image\n",
    "            squareAndGrayImage(image_path, size, new_dataset_path, species, image)\n",
    "\n",
    "dataset_path = '../dataset/spectrogram_roi_dataset'\n",
    "new_dataset_path = '../dataset/squared_spectrogram_roi_dataset'\n",
    "squareAndGrayProcess(size, dataset_path, new_dataset_path)"
   ]
  },
  {
   "cell_type": "code",
   "execution_count": 4,
   "metadata": {},
   "outputs": [],
   "source": [
    "os.mkdir(\"../dataset/augmented_spectrograms\")"
   ]
  },
  {
   "cell_type": "code",
   "execution_count": null,
   "metadata": {},
   "outputs": [],
   "source": []
  },
  {
   "cell_type": "code",
   "execution_count": 5,
   "metadata": {
    "scrolled": true
   },
   "outputs": [],
   "source": [
    "from scipy.ndimage.interpolation import shift \n",
    "## Have to find a way to create and copy the old directory #########\n",
    "\n",
    "#To shift UP up to num_shifts pixels\n",
    "for folder in os.listdir(new_dataset_path):\n",
    "    species_pictures = os.listdir(new_dataset_path + '/' + folder)\n",
    "    os.makedirs('../dataset/augmented_spectrograms' + '/' + folder)\n",
    "    for image in species_pictures:\n",
    "        the_image = np.asarray(Image.open(new_dataset_path + '/' + folder + '/' + image))\n",
    "        for i in range(num_shifts+1):\n",
    "            pre_image = the_image.reshape((size,size))\n",
    "            shifted_image = shift(pre_image, [(i*(-1)), 0])\n",
    "            shifted_image = Image.fromarray(shifted_image)\n",
    "            shifted_image.save('../dataset/augmented_spectrograms/' + folder + '/' + 'shifted_up' + str(i) + '_' + image)\n",
    "            shifted_image.close()"
   ]
  },
  {
   "cell_type": "code",
   "execution_count": null,
   "metadata": {},
   "outputs": [],
   "source": []
  },
  {
   "cell_type": "code",
   "execution_count": 6,
   "metadata": {},
   "outputs": [],
   "source": [
    "#To shift down up to num_shifts pixels\n",
    "for folder in os.listdir(new_dataset_path):\n",
    "    species_pictures = os.listdir(new_dataset_path + '/' + folder)\n",
    "    for image in species_pictures:\n",
    "        the_image = np.asarray(Image.open(new_dataset_path + '/' + folder + '/' + image))\n",
    "        for i in range(num_shifts+1):\n",
    "            pre_image = the_image.reshape((size,size))\n",
    "            shifted_image = shift(pre_image, [i, 0])\n",
    "            shifted_image = Image.fromarray(shifted_image)\n",
    "            shifted_image.save('../dataset/augmented_spectrograms/' + folder + '/' + 'shifted_down' + str(i) + '-' + image)\n",
    "            shifted_image.close()"
   ]
  },
  {
   "cell_type": "code",
   "execution_count": 7,
   "metadata": {},
   "outputs": [],
   "source": [
    "#To shift to the left up to num_shifts pixels\n",
    "for folder in os.listdir(new_dataset_path):\n",
    "    species_pictures = os.listdir(new_dataset_path + '/' + folder)\n",
    "    for image in species_pictures:\n",
    "        the_image = np.asarray(Image.open(new_dataset_path + '/' + folder + '/' + image))\n",
    "        for i in range(num_shifts+1):\n",
    "            pre_image = the_image.reshape((size,size))\n",
    "            shifted_image = shift(pre_image, [0, (i*(-1))])\n",
    "            shifted_image = Image.fromarray(shifted_image)\n",
    "            shifted_image.save('../dataset/augmented_spectrograms/' + folder + '/' + 'shifted_left' + str(i) + '-' + image)\n",
    "            shifted_image.close()"
   ]
  },
  {
   "cell_type": "code",
   "execution_count": 8,
   "metadata": {},
   "outputs": [],
   "source": [
    "#To shift to the right up to num_shifts pixels\n",
    "for folder in os.listdir(new_dataset_path):\n",
    "    species_pictures = os.listdir(new_dataset_path + '/' + folder)\n",
    "    for image in species_pictures:\n",
    "        the_image = np.asarray(Image.open(new_dataset_path + '/' + folder + '/' + image))\n",
    "        for i in range(num_shifts+1):\n",
    "            pre_image = the_image.reshape((size,size))\n",
    "            shifted_image = shift(pre_image, [0, i])\n",
    "            shifted_image = Image.fromarray(shifted_image)\n",
    "            shifted_image.save('../dataset/augmented_spectrograms/' + folder + '/' + 'shifted_right' + str(i) + '-' + image)\n",
    "            shifted_image.close()"
   ]
  },
  {
   "cell_type": "code",
   "execution_count": 9,
   "metadata": {},
   "outputs": [],
   "source": [
    "new_dataset_path = '../dataset/augmented_spectrograms/'\n",
    "#new_dataset_path = '../dataset/squared_spectrogram_roi_dataset/'"
   ]
  },
  {
   "cell_type": "code",
   "execution_count": 10,
   "metadata": {
    "scrolled": false
   },
   "outputs": [
    {
     "name": "stdout",
     "output_type": "stream",
     "text": [
      "Myrmeciza hemimelaena sample :\n"
     ]
    },
    {
     "data": {
      "image/png": "[encoded data removed]",
      "text/plain": [
       "<IPython.core.display.Image object>"
      ]
     },
     "metadata": {},
     "output_type": "display_data"
    },
    {
     "name": "stdout",
     "output_type": "stream",
     "text": [
      "========================================\n",
      "Microcerculus marginatus sample :\n"
     ]
    },
    {
     "data": {
      "image/png": "[encoded data removed]",
      "text/plain": [
       "<IPython.core.display.Image object>"
      ]
     },
     "metadata": {},
     "output_type": "display_data"
    },
    {
     "name": "stdout",
     "output_type": "stream",
     "text": [
      "========================================\n",
      "Eleutherodactylus coqui sample :\n"
     ]
    },
    {
     "data": {
      "image/png": "[encoded data removed]",
      "text/plain": [
       "<IPython.core.display.Image object>"
      ]
     },
     "metadata": {},
     "output_type": "display_data"
    },
    {
     "name": "stdout",
     "output_type": "stream",
     "text": [
      "========================================\n",
      "Epinephelus guttatus sample :\n"
     ]
    },
    {
     "data": {
      "image/png": "[encoded data removed]",
      "text/plain": [
       "<IPython.core.display.Image object>"
      ]
     },
     "metadata": {},
     "output_type": "display_data"
    },
    {
     "name": "stdout",
     "output_type": "stream",
     "text": [
      "========================================\n",
      "Megascops nudipes sample :\n"
     ]
    },
    {
     "data": {
      "image/png": "[encoded data removed]",
      "text/plain": [
       "<IPython.core.display.Image object>"
      ]
     },
     "metadata": {},
     "output_type": "display_data"
    },
    {
     "name": "stdout",
     "output_type": "stream",
     "text": [
      "========================================\n",
      "Basileuterus chrysogaster sample :\n"
     ]
    },
    {
     "data": {
      "image/png": "[encoded data removed]",
      "text/plain": [
       "<IPython.core.display.Image object>"
      ]
     },
     "metadata": {},
     "output_type": "display_data"
    },
    {
     "name": "stdout",
     "output_type": "stream",
     "text": [
      "========================================\n",
      "Eleutherodactylus cochranae sample :\n"
     ]
    },
    {
     "data": {
      "image/png": "[encoded data removed]",
      "text/plain": [
       "<IPython.core.display.Image object>"
      ]
     },
     "metadata": {},
     "output_type": "display_data"
    },
    {
     "name": "stdout",
     "output_type": "stream",
     "text": [
      "========================================\n",
      "Eleutherodactylus juanariveroi sample :\n"
     ]
    },
    {
     "data": {
      "image/png": "[encoded data removed]",
      "text/plain": [
       "<IPython.core.display.Image object>"
      ]
     },
     "metadata": {},
     "output_type": "display_data"
    },
    {
     "name": "stdout",
     "output_type": "stream",
     "text": [
      "========================================\n",
      "Basileuterus bivittatus sample :\n"
     ]
    },
    {
     "data": {
      "image/png": "[encoded data removed]",
      "text/plain": [
       "<IPython.core.display.Image object>"
      ]
     },
     "metadata": {},
     "output_type": "display_data"
    },
    {
     "name": "stdout",
     "output_type": "stream",
     "text": [
      "========================================\n",
      "Chlorothraupis carmioli sample :\n"
     ]
    },
    {
     "data": {
      "image/png": "[encoded data removed]",
      "text/plain": [
       "<IPython.core.display.Image object>"
      ]
     },
     "metadata": {},
     "output_type": "display_data"
    },
    {
     "name": "stdout",
     "output_type": "stream",
     "text": [
      "========================================\n",
      "Hypocnemis subflava sample :\n"
     ]
    },
    {
     "data": {
      "image/png": "[encoded data removed]",
      "text/plain": [
       "<IPython.core.display.Image object>"
      ]
     },
     "metadata": {},
     "output_type": "display_data"
    },
    {
     "name": "stdout",
     "output_type": "stream",
     "text": [
      "========================================\n",
      "Megascops guatemalae sample :\n"
     ]
    },
    {
     "data": {
      "image/png": "[encoded data removed]",
      "text/plain": [
       "<IPython.core.display.Image object>"
      ]
     },
     "metadata": {},
     "output_type": "display_data"
    },
    {
     "name": "stdout",
     "output_type": "stream",
     "text": [
      "========================================\n",
      "Eleutherodactylus cooki sample :\n"
     ]
    },
    {
     "data": {
      "image/png": "[encoded data removed]",
      "text/plain": [
       "<IPython.core.display.Image object>"
      ]
     },
     "metadata": {},
     "output_type": "display_data"
    },
    {
     "name": "stdout",
     "output_type": "stream",
     "text": [
      "========================================\n",
      "Eleutherodactylus brittoni sample :\n"
     ]
    },
    {
     "data": {
      "image/png": "[encoded data removed]",
      "text/plain": [
       "<IPython.core.display.Image object>"
      ]
     },
     "metadata": {},
     "output_type": "display_data"
    },
    {
     "name": "stdout",
     "output_type": "stream",
     "text": [
      "========================================\n",
      "Formicarius analis sample :\n"
     ]
    },
    {
     "data": {
      "image/png": "[encoded data removed]",
      "text/plain": [
       "<IPython.core.display.Image object>"
      ]
     },
     "metadata": {},
     "output_type": "display_data"
    },
    {
     "name": "stdout",
     "output_type": "stream",
     "text": [
      "========================================\n",
      "Liosceles thoracicus sample :\n"
     ]
    },
    {
     "data": {
      "image/png": "[encoded data removed]",
      "text/plain": [
       "<IPython.core.display.Image object>"
      ]
     },
     "metadata": {},
     "output_type": "display_data"
    },
    {
     "name": "stdout",
     "output_type": "stream",
     "text": [
      "========================================\n"
     ]
    }
   ],
   "source": [
    "# Function for displaying a random photo from each class in a dataset\n",
    "def displaySamples(dataset_folders):\n",
    "    # go through each class in the dataset\n",
    "    dataset = os.listdir(dataset_folders)\n",
    "    for folder in dataset:\n",
    "        imgs_path = dataset_folders + '/' + folder\n",
    "        imgs = os.listdir(imgs_path) # list all images in a class\n",
    "        sample = dataset_folders + '/' + folder + '/' + imgs[np.random.randint(len(imgs))] # path for a random image from a dataset class\n",
    "        name = sample.split('/')[-2]\n",
    "        print(name, 'sample :')\n",
    "        disp(Im(sample)) # display our sample\n",
    "        print(\"========================================\")\n",
    "\n",
    "#print(\"Here's a random sample from each class in the training dataset:\")\n",
    "displaySamples(new_dataset_path)\n",
    "\n"
   ]
  },
  {
   "cell_type": "code",
   "execution_count": 11,
   "metadata": {},
   "outputs": [],
   "source": [
    "def getDatasetFolders(dataset_path):\n",
    "    folders = os.listdir(dataset_path)\n",
    "    dataset_folders = []\n",
    "    for folder in folders:\n",
    "        dataset_folders.append(dataset_path + '/' + folder)\n",
    "    return dataset_folders\n",
    "\n",
    "dataset_folders = getDatasetFolders(new_dataset_path)"
   ]
  },
  {
   "cell_type": "code",
   "execution_count": 12,
   "metadata": {
    "scrolled": true
   },
   "outputs": [],
   "source": [
    "pixel_depth = 255.0 # Number of levels per pixel.\n",
    "\n",
    "def load_image(folder, min_num_images):\n",
    "    \"\"\"Load the data for a single letter label.\"\"\"\n",
    "    image_files = os.listdir(folder)\n",
    "    dataset = np.ndarray(shape=(len(image_files), image_size, image_size), dtype=np.float32)\n",
    "    num_images = 0\n",
    "\n",
    "    for image in image_files:\n",
    "        image_file = os.path.join(folder, image)\n",
    "        try:\n",
    "            image_data = (ndimage.imread(image_file).astype(float) - pixel_depth / 2) / pixel_depth\n",
    "            #print(image_data.shape)\n",
    "            # our images are RGBA so we would expect shape MxNx4\n",
    "            # see: https://docs.scipy.org/doc/scipy-0.14.0/reference/generated/scipy.ndimage.imread.html\n",
    "            if (image_data.shape != (image_size, image_size)):\n",
    "                raise Exception('Unexpected image shape: %s' % str(image_data.shape))\n",
    "            dataset[num_images, :, :] = image_data\n",
    "            num_images = num_images + 1\n",
    "        except IOError as e:\n",
    "            print('Could not read:', image_file, ':', e, '- it\\'s ok, skipping.')\n",
    "\n",
    "    dataset = dataset[0:num_images, :, :]\n",
    "    #if num_images < min_num_images:\n",
    "     #   raise Exception('Many fewer images than expected: %d < %d' % (num_images, min_num_images))\n",
    "\n",
    "    print('Full dataset tensor:', dataset.shape)\n",
    "    print('Mean:', np.mean(dataset))\n",
    "    print('Standard deviation:', np.std(dataset))\n",
    "    return dataset"
   ]
  },
  {
   "cell_type": "markdown",
   "metadata": {},
   "source": [
    "### Pickling Data"
   ]
  },
  {
   "cell_type": "markdown",
   "metadata": {},
   "source": [
    "We want to pickle the data by species, allowing for control of the minimum images per class. Beware that this will drastically influence the performance of your model."
   ]
  },
  {
   "cell_type": "code",
   "execution_count": 13,
   "metadata": {
    "scrolled": true
   },
   "outputs": [
    {
     "name": "stdout",
     "output_type": "stream",
     "text": [
      "Pickling ../dataset/pickle_data/Myrmeciza hemimelaena.pickle.\n",
      "Full dataset tensor: (352, 28, 28)\n",
      "Mean: -0.03327564\n",
      "Standard deviation: 0.10731486\n",
      "Pickling ../dataset/pickle_data/Microcerculus marginatus.pickle.\n",
      "Full dataset tensor: (96, 28, 28)\n",
      "Mean: 0.07054525\n",
      "Standard deviation: 0.12668712\n",
      "Pickling ../dataset/pickle_data/Eleutherodactylus coqui.pickle.\n",
      "Full dataset tensor: (104, 28, 28)\n",
      "Mean: -0.03885141\n",
      "Standard deviation: 0.10395328\n",
      "Pickling ../dataset/pickle_data/Epinephelus guttatus.pickle.\n",
      "Full dataset tensor: (136, 28, 28)\n",
      "Mean: 0.022303699\n",
      "Standard deviation: 0.13731049\n",
      "Pickling ../dataset/pickle_data/Megascops nudipes.pickle.\n",
      "Full dataset tensor: (120, 28, 28)\n",
      "Mean: 0.09298875\n",
      "Standard deviation: 0.14650404\n",
      "Pickling ../dataset/pickle_data/Basileuterus chrysogaster.pickle.\n",
      "Full dataset tensor: (40, 28, 28)\n",
      "Mean: 0.02634079\n",
      "Standard deviation: 0.10669048\n",
      "Pickling ../dataset/pickle_data/Eleutherodactylus cochranae.pickle.\n",
      "Full dataset tensor: (200, 28, 28)\n",
      "Mean: 0.044047546\n",
      "Standard deviation: 0.18837175\n",
      "Pickling ../dataset/pickle_data/Eleutherodactylus juanariveroi.pickle.\n",
      "Full dataset tensor: (40, 28, 28)\n",
      "Mean: -0.09829507\n",
      "Standard deviation: 0.08501233\n",
      "Pickling ../dataset/pickle_data/Basileuterus bivittatus.pickle.\n",
      "Full dataset tensor: (120, 28, 28)\n",
      "Mean: -0.02424666\n",
      "Standard deviation: 0.09599042\n",
      "Pickling ../dataset/pickle_data/Chlorothraupis carmioli.pickle.\n",
      "Full dataset tensor: (88, 28, 28)\n",
      "Mean: 0.0028821751\n",
      "Standard deviation: 0.09553957\n",
      "Pickling ../dataset/pickle_data/Hypocnemis subflava.pickle.\n",
      "Full dataset tensor: (192, 28, 28)\n",
      "Mean: 0.0013320959\n",
      "Standard deviation: 0.0984181\n",
      "Pickling ../dataset/pickle_data/Megascops guatemalae.pickle.\n",
      "Full dataset tensor: (48, 28, 28)\n",
      "Mean: 0.08502579\n",
      "Standard deviation: 0.11232977\n",
      "Pickling ../dataset/pickle_data/Eleutherodactylus cooki.pickle.\n",
      "Full dataset tensor: (128, 28, 28)\n",
      "Mean: 0.008656471\n",
      "Standard deviation: 0.11417198\n",
      "Pickling ../dataset/pickle_data/Eleutherodactylus brittoni.pickle.\n",
      "Full dataset tensor: (112, 28, 28)\n",
      "Mean: -0.098023675\n",
      "Standard deviation: 0.12576023\n",
      "Pickling ../dataset/pickle_data/Formicarius analis.pickle.\n",
      "Full dataset tensor: (88, 28, 28)\n",
      "Mean: 0.021810941\n",
      "Standard deviation: 0.11081094\n",
      "Pickling ../dataset/pickle_data/Liosceles thoracicus.pickle.\n",
      "Full dataset tensor: (112, 28, 28)\n",
      "Mean: 0.01671155\n",
      "Standard deviation: 0.11579212\n"
     ]
    }
   ],
   "source": [
    "def maybe_pickle(data_folders, min_num_images_per_class, pickles_path, force=False):\n",
    "    \n",
    "    if not os.path.exists(pickles_path):\n",
    "        os.makedirs(pickles_path)\n",
    "    else:\n",
    "        shutil.rmtree(pickles_path)\n",
    "        os.makedirs(pickles_path)\n",
    "  \n",
    "    dataset_names = []\n",
    "    for folder in data_folders:\n",
    "        class_name = folder.split('/')[-1] # species name\n",
    "        set_filename = pickles_path + '/' + class_name + '.pickle'\n",
    "        dataset_names.append(set_filename)\n",
    "        if os.path.exists(set_filename) and not force:\n",
    "            # You may override by setting force=True.\n",
    "            print('%s already present - Skipping pickling.' % set_filename)\n",
    "        else:\n",
    "            image_files = os.listdir(folder)\n",
    "            count = 0\n",
    "            for image in image_files:\n",
    "                count +=1\n",
    "            if True:#count >= min_num_images_per_class:\n",
    "                print('Pickling %s.' % set_filename)\n",
    "                dataset = load_image(folder, min_num_images_per_class)\n",
    "                try:\n",
    "                    with open(set_filename, 'wb') as f:\n",
    "                        pickle.dump(dataset, f, pickle.HIGHEST_PROTOCOL)\n",
    "                except Exception as e:\n",
    "                    print('Unable to save data to', set_filename, ':', e)\n",
    "\n",
    "    return dataset_names\n",
    "\n",
    "pickles_path = '../dataset/pickle_data'\n",
    "datasets = maybe_pickle(dataset_folders, min_imgs_per_class, pickles_path)"
   ]
  },
  {
   "cell_type": "code",
   "execution_count": 14,
   "metadata": {},
   "outputs": [
    {
     "name": "stdout",
     "output_type": "stream",
     "text": [
      "We have 16 classes\n"
     ]
    }
   ],
   "source": [
    "pickles = getDatasetFolders('../dataset/pickle_data')\n",
    "#print(datasets)\n",
    "num_classes = len(pickles)\n",
    "print(f'We have {num_classes} classes')"
   ]
  },
  {
   "cell_type": "markdown",
   "metadata": {},
   "source": [
    "### Classes "
   ]
  },
  {
   "cell_type": "markdown",
   "metadata": {},
   "source": [
    "We have to evaluate the number of classes and how are they distributed. Also, observe which species has a higher frequency, etc.  "
   ]
  },
  {
   "cell_type": "code",
   "execution_count": 15,
   "metadata": {},
   "outputs": [
    {
     "name": "stdout",
     "output_type": "stream",
     "text": [
      "Let's see if the dataset is balanced:\n",
      "The total number of images in class Megascops nudipes is: 120\n",
      "The total number of images in class Eleutherodactylus cooki is: 128\n",
      "The total number of images in class Epinephelus guttatus is: 136\n",
      "The total number of images in class Microcerculus marginatus is: 96\n",
      "The total number of images in class Basileuterus chrysogaster is: 40\n",
      "The total number of images in class Myrmeciza hemimelaena is: 352\n",
      "The total number of images in class Megascops guatemalae is: 48\n",
      "The total number of images in class Eleutherodactylus cochranae is: 200\n",
      "The total number of images in class Basileuterus bivittatus is: 120\n",
      "The total number of images in class Eleutherodactylus brittoni is: 112\n",
      "The total number of images in class Formicarius analis is: 88\n",
      "The total number of images in class Eleutherodactylus juanariveroi is: 40\n",
      "The total number of images in class Liosceles thoracicus is: 112\n",
      "The total number of images in class Eleutherodactylus coqui is: 104\n",
      "The total number of images in class Hypocnemis subflava is: 192\n",
      "The total number of images in class Chlorothraupis carmioli is: 88\n",
      "For the dataset to be balanced, each class should have approximately 123 images.\n",
      "\n"
     ]
    }
   ],
   "source": [
    "# Calculates the total of images per class\n",
    "def class_is_balanced(pickles):\n",
    "    total = 0\n",
    "    for pckle in pickles:\n",
    "        if (os.path.isfile(pckle)):\n",
    "            pickle_class = pickle.load(open(pckle, \"rb\"))\n",
    "        else:\n",
    "            print(\"Error reading dataset %s. Exiting.\", pickle_path)\n",
    "            return -1\n",
    "        class_name = pckle.split('/')[-1].split('.')[0]\n",
    "        print(\"The total number of images in class %s is: %d\" % (class_name, len(pickle_class)))\n",
    "        total += len(pickle_class)\n",
    "    print(\"For the dataset to be balanced, each class should have approximately %d images.\\n\" % (total / len(pickles)))\n",
    "    return (total // len(pickles))\n",
    "    \n",
    "print(\"Let's see if the dataset is balanced:\")\n",
    "balance_num = class_is_balanced(pickles)\n"
   ]
  },
  {
   "cell_type": "markdown",
   "metadata": {},
   "source": [
    "### Training, Testing, and Validation Separation"
   ]
  },
  {
   "cell_type": "markdown",
   "metadata": {},
   "source": [
    "As with every implementation of Supervised Learning, we separate the dataset into three components. The training, the testing, and the validation dataset. "
   ]
  },
  {
   "cell_type": "code",
   "execution_count": 16,
   "metadata": {},
   "outputs": [],
   "source": [
    "def das_labeler(pickle_files):\n",
    "    labels = []\n",
    "    images = []\n",
    "    for label, pickle_file in enumerate(pickle_files):\n",
    "        try:\n",
    "            with open(pickle_file, 'rb') as f:\n",
    "                species_set = pickle.load(f)\n",
    "                for image in species_set:\n",
    "                    labels.append(label)\n",
    "                    images.append(image)\n",
    "        except Exception as e:\n",
    "            print('Unable to process data from', pickle_file, ':', e)\n",
    "            pass\n",
    "    labels = np.asarray(labels)\n",
    "    images = np.asarray(images)\n",
    "    return labels, images"
   ]
  },
  {
   "cell_type": "code",
   "execution_count": 17,
   "metadata": {},
   "outputs": [],
   "source": [
    "labels, images = das_labeler(datasets)"
   ]
  },
  {
   "cell_type": "code",
   "execution_count": 19,
   "metadata": {},
   "outputs": [],
   "source": [
    "from sklearn.model_selection import train_test_split"
   ]
  },
  {
   "cell_type": "code",
   "execution_count": 20,
   "metadata": {},
   "outputs": [],
   "source": [
    "X_train, X_test, y_train, y_test = train_test_split(images, labels, test_size = 0.33, random_state = 42)"
   ]
  },
  {
   "cell_type": "markdown",
   "metadata": {},
   "source": [
    "### Output Data"
   ]
  },
  {
   "cell_type": "markdown",
   "metadata": {},
   "source": [
    "We output the data in a pickle format, to be used next on the models. "
   ]
  },
  {
   "cell_type": "code",
   "execution_count": 21,
   "metadata": {},
   "outputs": [],
   "source": [
    "pickle_file = '../dataset/arbimon_' + str(num_shifts) + '.pickle'\n",
    "\n",
    "try:\n",
    "  f = open(pickle_file, 'wb')\n",
    "  save = {\n",
    "    'train_dataset': X_train,\n",
    "    'train_labels': y_train,\n",
    "    'test_dataset': X_test,\n",
    "    'test_labels': y_test,\n",
    "    } \n",
    "  pickle.dump(save, f, pickle.HIGHEST_PROTOCOL) # save all out datasets in one pickle \n",
    "  f.close()\n",
    "except Exception as e:\n",
    "  print('Unable to save data to', pickle_file, ':', e)\n",
    "  raise"
   ]
  },
  {
   "cell_type": "code",
   "execution_count": null,
   "metadata": {},
   "outputs": [],
   "source": []
  }
 ],
 "metadata": {
  "kernelspec": {
   "display_name": "Python 3",
   "language": "python",
   "name": "python3"
  },
  "language_info": {
   "codemirror_mode": {
    "name": "ipython",
    "version": 3
   },
   "file_extension": ".py",
   "mimetype": "text/x-python",
   "name": "python",
   "nbconvert_exporter": "python",
   "pygments_lexer": "ipython3",
   "version": "3.6.3"
  }
 },
 "nbformat": 4,
 "nbformat_minor": 2
}
