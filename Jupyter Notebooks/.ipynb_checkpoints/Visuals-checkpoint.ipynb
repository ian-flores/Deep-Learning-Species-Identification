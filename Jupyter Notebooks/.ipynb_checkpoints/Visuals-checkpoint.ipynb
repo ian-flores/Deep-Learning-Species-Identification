{
 "cells": [
  {
   "cell_type": "code",
   "execution_count": 98,
   "metadata": {},
   "outputs": [],
   "source": [
    "import pandas as pd\n",
    "from six.moves import cPickle as pickle"
   ]
  },
  {
   "cell_type": "code",
   "execution_count": 99,
   "metadata": {},
   "outputs": [],
   "source": [
    "linear_pickle_file = 'results/linear_non_augmented_test/performance_linear_non_augmented_test.pkl'\n",
    "diagonal_pickle_file = 'results/diagonal_non_augmented_test/performance_diagonal_non_augmented_test.pkl'"
   ]
  },
  {
   "cell_type": "code",
   "execution_count": 100,
   "metadata": {},
   "outputs": [],
   "source": [
    "def data_formatter(path, column, aug_type):\n",
    "    \n",
    "    with open(pickle_file, 'rb') as f:\n",
    "        df = pickle.load(f)\n",
    "     \n",
    "    \n",
    "    if column == 'shifts':\n",
    "        df['shifts'] = list(range(1,23))\n",
    "        df = df.set_index('shifts')\n",
    "    \n",
    "    elif column == 'pixels_lost':\n",
    "        df['pixels_lost'] = pd.Series(list(range(1,23))) * 28\n",
    "        df = df.set_index('pixels_lost').T\n",
    "\n",
    "    elif column == 'percentage_lost':\n",
    "        df['percentage_lost'] = (pd.Series(list(range(1,23))) * 28)/784\n",
    "        df = df.set_index('percentage_lost').T\n",
    "    \n",
    "    df['aug_type'] = [aug_type] * 22\n",
    "    return df"
   ]
  },
  {
   "cell_type": "code",
   "execution_count": null,
   "metadata": {},
   "outputs": [],
   "source": []
  },
  {
   "cell_type": "code",
   "execution_count": 101,
   "metadata": {},
   "outputs": [
    {
     "data": {
      "text/html": [
       "<div>\n",
       "<table border=\"1\" class=\"dataframe\">\n",
       "  <thead>\n",
       "    <tr style=\"text-align: right;\">\n",
       "      <th></th>\n",
       "      <th>1</th>\n",
       "      <th>2</th>\n",
       "      <th>3</th>\n",
       "      <th>4</th>\n",
       "      <th>5</th>\n",
       "      <th>aug_type</th>\n",
       "    </tr>\n",
       "    <tr>\n",
       "      <th>shifts</th>\n",
       "      <th></th>\n",
       "      <th></th>\n",
       "      <th></th>\n",
       "      <th></th>\n",
       "      <th></th>\n",
       "      <th></th>\n",
       "    </tr>\n",
       "  </thead>\n",
       "  <tbody>\n",
       "    <tr>\n",
       "      <th>1</th>\n",
       "      <td>0.768293</td>\n",
       "      <td>0.780488</td>\n",
       "      <td>0.841463</td>\n",
       "      <td>0.817073</td>\n",
       "      <td>0.804878</td>\n",
       "      <td>Linear</td>\n",
       "    </tr>\n",
       "    <tr>\n",
       "      <th>2</th>\n",
       "      <td>0.853659</td>\n",
       "      <td>0.841463</td>\n",
       "      <td>0.841463</td>\n",
       "      <td>0.841463</td>\n",
       "      <td>0.853659</td>\n",
       "      <td>Linear</td>\n",
       "    </tr>\n",
       "    <tr>\n",
       "      <th>3</th>\n",
       "      <td>0.878049</td>\n",
       "      <td>0.890244</td>\n",
       "      <td>0.841463</td>\n",
       "      <td>0.865854</td>\n",
       "      <td>0.902439</td>\n",
       "      <td>Linear</td>\n",
       "    </tr>\n",
       "    <tr>\n",
       "      <th>4</th>\n",
       "      <td>0.829268</td>\n",
       "      <td>0.878049</td>\n",
       "      <td>0.902439</td>\n",
       "      <td>0.865854</td>\n",
       "      <td>0.853659</td>\n",
       "      <td>Linear</td>\n",
       "    </tr>\n",
       "    <tr>\n",
       "      <th>5</th>\n",
       "      <td>0.865854</td>\n",
       "      <td>0.890244</td>\n",
       "      <td>0.914634</td>\n",
       "      <td>0.939024</td>\n",
       "      <td>0.939024</td>\n",
       "      <td>Linear</td>\n",
       "    </tr>\n",
       "  </tbody>\n",
       "</table>\n",
       "</div>"
      ],
      "text/plain": [
       "               1         2         3         4         5 aug_type\n",
       "shifts                                                           \n",
       "1       0.768293  0.780488  0.841463  0.817073  0.804878   Linear\n",
       "2       0.853659  0.841463  0.841463  0.841463  0.853659   Linear\n",
       "3       0.878049  0.890244  0.841463  0.865854  0.902439   Linear\n",
       "4       0.829268  0.878049  0.902439  0.865854  0.853659   Linear\n",
       "5       0.865854  0.890244  0.914634  0.939024  0.939024   Linear"
      ]
     },
     "execution_count": 101,
     "metadata": {},
     "output_type": "execute_result"
    }
   ],
   "source": [
    "linear_data = data_formatter(pickle_file, 'shifts', 'Linear')\n",
    "diagonal_data = data_formatter(pickle_file, 'shifts', 'Diagonal')\n",
    "data = pd.concat([linear_data, diagonal_data])\n",
    "data.head()"
   ]
  },
  {
   "cell_type": "code",
   "execution_count": 102,
   "metadata": {},
   "outputs": [
    {
     "data": {
      "text/html": [
       "<div>\n",
       "<table border=\"1\" class=\"dataframe\">\n",
       "  <thead>\n",
       "    <tr style=\"text-align: right;\">\n",
       "      <th></th>\n",
       "      <th>aug_type</th>\n",
       "      <th>shifts</th>\n",
       "      <th>accuracy</th>\n",
       "    </tr>\n",
       "  </thead>\n",
       "  <tbody>\n",
       "    <tr>\n",
       "      <th>0</th>\n",
       "      <td>Linear</td>\n",
       "      <td>1</td>\n",
       "      <td>0.768293</td>\n",
       "    </tr>\n",
       "    <tr>\n",
       "      <th>1</th>\n",
       "      <td>Linear</td>\n",
       "      <td>1</td>\n",
       "      <td>0.853659</td>\n",
       "    </tr>\n",
       "    <tr>\n",
       "      <th>2</th>\n",
       "      <td>Linear</td>\n",
       "      <td>1</td>\n",
       "      <td>0.878049</td>\n",
       "    </tr>\n",
       "    <tr>\n",
       "      <th>3</th>\n",
       "      <td>Linear</td>\n",
       "      <td>1</td>\n",
       "      <td>0.829268</td>\n",
       "    </tr>\n",
       "    <tr>\n",
       "      <th>4</th>\n",
       "      <td>Linear</td>\n",
       "      <td>1</td>\n",
       "      <td>0.865854</td>\n",
       "    </tr>\n",
       "  </tbody>\n",
       "</table>\n",
       "</div>"
      ],
      "text/plain": [
       "  aug_type shifts  accuracy\n",
       "0   Linear      1  0.768293\n",
       "1   Linear      1  0.853659\n",
       "2   Linear      1  0.878049\n",
       "3   Linear      1  0.829268\n",
       "4   Linear      1  0.865854"
      ]
     },
     "execution_count": 102,
     "metadata": {},
     "output_type": "execute_result"
    }
   ],
   "source": [
    "data = pd.melt(data, id_vars=['shifts', 'aug_type'], \n",
    "               value_vars=list('12345'), \n",
    "               value_name = 'accuracy')\n",
    "\n",
    "data.drop(data.columns[0], axis=1, inplace = True)\n",
    "data.rename(columns={'variable': 'shifts'}, inplace = True)\n",
    "\n",
    "data.head()"
   ]
  },
  {
   "cell_type": "code",
   "execution_count": 119,
   "metadata": {},
   "outputs": [],
   "source": [
    "import seaborn as sns"
   ]
  },
  {
   "cell_type": "code",
   "execution_count": 120,
   "metadata": {},
   "outputs": [
    {
     "ename": "AttributeError",
     "evalue": "module 'seaborn' has no attribute 'catplot'",
     "output_type": "error",
     "traceback": [
      "\u001b[0;31m---------------------------------------------------------------------------\u001b[0m",
      "\u001b[0;31mAttributeError\u001b[0m                            Traceback (most recent call last)",
      "\u001b[0;32m<ipython-input-120-1fdae952c53c>\u001b[0m in \u001b[0;36m<module>\u001b[0;34m()\u001b[0m\n\u001b[0;32m----> 1\u001b[0;31m \u001b[0mseaborn\u001b[0m\u001b[0;34m.\u001b[0m\u001b[0mcatplot\u001b[0m\u001b[0;34m(\u001b[0m\u001b[0mx\u001b[0m \u001b[0;34m=\u001b[0m \u001b[0;34m'shifts'\u001b[0m\u001b[0;34m,\u001b[0m \u001b[0my\u001b[0m \u001b[0;34m=\u001b[0m \u001b[0;34m'accuracy'\u001b[0m\u001b[0;34m)\u001b[0m\u001b[0;34m\u001b[0m\u001b[0m\n\u001b[0m",
      "\u001b[0;31mAttributeError\u001b[0m: module 'seaborn' has no attribute 'catplot'"
     ]
    }
   ],
   "source": [
    "seaborn.catplot(x = 'shifts', y = 'accuracy')"
   ]
  },
  {
   "cell_type": "code",
   "execution_count": 121,
   "metadata": {},
   "outputs": [
    {
     "data": {
      "text/plain": [
       "'0.7.1'"
      ]
     },
     "execution_count": 121,
     "metadata": {},
     "output_type": "execute_result"
    }
   ],
   "source": [
    "sns.__version__"
   ]
  },
  {
   "cell_type": "code",
   "execution_count": null,
   "metadata": {},
   "outputs": [],
   "source": []
  }
 ],
 "metadata": {
  "kernelspec": {
   "display_name": "Python 3",
   "language": "python",
   "name": "python3"
  },
  "language_info": {
   "codemirror_mode": {
    "name": "ipython",
    "version": 3
   },
   "file_extension": ".py",
   "mimetype": "text/x-python",
   "name": "python",
   "nbconvert_exporter": "python",
   "pygments_lexer": "ipython3",
   "version": "3.6.3"
  }
 },
 "nbformat": 4,
 "nbformat_minor": 2
}
